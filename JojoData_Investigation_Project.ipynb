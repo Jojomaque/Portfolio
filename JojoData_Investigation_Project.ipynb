{
  "nbformat": 4,
  "nbformat_minor": 0,
  "metadata": {
    "colab": {
      "name": "JojoData Investigation Project.ipynb",
      "provenance": [],
      "include_colab_link": true
    },
    "kernelspec": {
      "name": "python3",
      "display_name": "Python 3"
    },
    "language_info": {
      "name": "python"
    }
  },
  "cells": [
    {
      "cell_type": "markdown",
      "metadata": {
        "id": "view-in-github",
        "colab_type": "text"
      },
      "source": [
        "<a href=\"https://colab.research.google.com/github/Jojomaque/Portfolio/blob/main/JojoData_Investigation_Project.ipynb\" target=\"_parent\"><img src=\"https://colab.research.google.com/assets/colab-badge.svg\" alt=\"Open In Colab\"/></a>"
      ]
    },
    {
      "cell_type": "markdown",
      "metadata": {
        "id": "hmwPnuX3KU5t"
      },
      "source": [
        "# Data investigation project\n",
        "---\n",
        "\n",
        "Use what you have learnt so far about reading data files and displaying rows, columns, unique values, etc, to investigate and produce some printed information from this data set: https://raw.githubusercontent.com/futureCodersSE/working-with-data/main/Data%20sets/housing_in_london_yearly_variables.csv"
      ]
    },
    {
      "cell_type": "code",
      "metadata": {
        "id": "Z1q5Ven3KUEL",
        "colab": {
          "base_uri": "https://localhost:8080/"
        },
        "outputId": "04e687e3-bb38-4b17-c0a8-545c9a9e16d4"
      },
      "source": [
        "import pandas as pd\n",
        "url = \"https://raw.githubusercontent.com/futureCodersSE/working-with-data/main/Data%20sets/housing_in_london_yearly_variables.csv\"\n",
        "df = pd.read_csv(url)\n",
        "# Viewing a sample of the dataset\n",
        "df.head(50)\n",
        "df.dtypes\n",
        "\n",
        "#issues - data cleaning\n",
        "#mean salary is not numerical\n"
      ],
      "execution_count": null,
      "outputs": [
        {
          "output_type": "execute_result",
          "data": {
            "text/plain": [
              "code                  object\n",
              "area                  object\n",
              "date                  object\n",
              "median_salary        float64\n",
              "life_satisfaction    float64\n",
              "mean_salary           object\n",
              "recycling_pct         object\n",
              "population_size      float64\n",
              "number_of_jobs       float64\n",
              "area_size            float64\n",
              "no_of_houses         float64\n",
              "borough_flag           int64\n",
              "dtype: object"
            ]
          },
          "metadata": {
            "tags": []
          },
          "execution_count": 10
        }
      ]
    },
    {
      "cell_type": "code",
      "metadata": {
        "colab": {
          "base_uri": "https://localhost:8080/",
          "height": 326
        },
        "id": "k2KIxbAfpBpC",
        "outputId": "eb1e9b26-a87c-4f42-a9da-efee1edf2db6"
      },
      "source": [
        "import pandas as pd\n",
        "url = \"https://raw.githubusercontent.com/futureCodersSE/working-with-data/main/Data%20sets/housing_in_london_yearly_variables.csv\"\n",
        "df = pd.read_csv(url)\n",
        "# Viewing a sample of the dataset\n",
        "df.head(5)"
      ],
      "execution_count": 1,
      "outputs": [
        {
          "output_type": "execute_result",
          "data": {
            "text/html": [
              "<div>\n",
              "<style scoped>\n",
              "    .dataframe tbody tr th:only-of-type {\n",
              "        vertical-align: middle;\n",
              "    }\n",
              "\n",
              "    .dataframe tbody tr th {\n",
              "        vertical-align: top;\n",
              "    }\n",
              "\n",
              "    .dataframe thead th {\n",
              "        text-align: right;\n",
              "    }\n",
              "</style>\n",
              "<table border=\"1\" class=\"dataframe\">\n",
              "  <thead>\n",
              "    <tr style=\"text-align: right;\">\n",
              "      <th></th>\n",
              "      <th>code</th>\n",
              "      <th>area</th>\n",
              "      <th>date</th>\n",
              "      <th>median_salary</th>\n",
              "      <th>life_satisfaction</th>\n",
              "      <th>mean_salary</th>\n",
              "      <th>recycling_pct</th>\n",
              "      <th>population_size</th>\n",
              "      <th>number_of_jobs</th>\n",
              "      <th>area_size</th>\n",
              "      <th>no_of_houses</th>\n",
              "      <th>borough_flag</th>\n",
              "    </tr>\n",
              "  </thead>\n",
              "  <tbody>\n",
              "    <tr>\n",
              "      <th>0</th>\n",
              "      <td>E09000001</td>\n",
              "      <td>city of london</td>\n",
              "      <td>1999-12-01</td>\n",
              "      <td>33020.0</td>\n",
              "      <td>NaN</td>\n",
              "      <td>48922</td>\n",
              "      <td>0</td>\n",
              "      <td>6581.0</td>\n",
              "      <td>NaN</td>\n",
              "      <td>NaN</td>\n",
              "      <td>NaN</td>\n",
              "      <td>1</td>\n",
              "    </tr>\n",
              "    <tr>\n",
              "      <th>1</th>\n",
              "      <td>E09000002</td>\n",
              "      <td>barking and dagenham</td>\n",
              "      <td>1999-12-01</td>\n",
              "      <td>21480.0</td>\n",
              "      <td>NaN</td>\n",
              "      <td>23620</td>\n",
              "      <td>3</td>\n",
              "      <td>162444.0</td>\n",
              "      <td>NaN</td>\n",
              "      <td>NaN</td>\n",
              "      <td>NaN</td>\n",
              "      <td>1</td>\n",
              "    </tr>\n",
              "    <tr>\n",
              "      <th>2</th>\n",
              "      <td>E09000003</td>\n",
              "      <td>barnet</td>\n",
              "      <td>1999-12-01</td>\n",
              "      <td>19568.0</td>\n",
              "      <td>NaN</td>\n",
              "      <td>23128</td>\n",
              "      <td>8</td>\n",
              "      <td>313469.0</td>\n",
              "      <td>NaN</td>\n",
              "      <td>NaN</td>\n",
              "      <td>NaN</td>\n",
              "      <td>1</td>\n",
              "    </tr>\n",
              "    <tr>\n",
              "      <th>3</th>\n",
              "      <td>E09000004</td>\n",
              "      <td>bexley</td>\n",
              "      <td>1999-12-01</td>\n",
              "      <td>18621.0</td>\n",
              "      <td>NaN</td>\n",
              "      <td>21386</td>\n",
              "      <td>18</td>\n",
              "      <td>217458.0</td>\n",
              "      <td>NaN</td>\n",
              "      <td>NaN</td>\n",
              "      <td>NaN</td>\n",
              "      <td>1</td>\n",
              "    </tr>\n",
              "    <tr>\n",
              "      <th>4</th>\n",
              "      <td>E09000005</td>\n",
              "      <td>brent</td>\n",
              "      <td>1999-12-01</td>\n",
              "      <td>18532.0</td>\n",
              "      <td>NaN</td>\n",
              "      <td>20911</td>\n",
              "      <td>6</td>\n",
              "      <td>260317.0</td>\n",
              "      <td>NaN</td>\n",
              "      <td>NaN</td>\n",
              "      <td>NaN</td>\n",
              "      <td>1</td>\n",
              "    </tr>\n",
              "  </tbody>\n",
              "</table>\n",
              "</div>"
            ],
            "text/plain": [
              "        code                  area  ... no_of_houses  borough_flag\n",
              "0  E09000001        city of london  ...          NaN             1\n",
              "1  E09000002  barking and dagenham  ...          NaN             1\n",
              "2  E09000003                barnet  ...          NaN             1\n",
              "3  E09000004                bexley  ...          NaN             1\n",
              "4  E09000005                 brent  ...          NaN             1\n",
              "\n",
              "[5 rows x 12 columns]"
            ]
          },
          "metadata": {
            "tags": []
          },
          "execution_count": 1
        }
      ]
    },
    {
      "cell_type": "code",
      "metadata": {
        "id": "0Yt0f5drPwHk",
        "outputId": "048d1b74-35d3-426e-ac8a-993b5eaee389",
        "colab": {
          "base_uri": "https://localhost:8080/"
        }
      },
      "source": [
        "# The method info() gives us information about the df such as the data type and the number of missing values in each attribute:\n",
        "df.info() "
      ],
      "execution_count": 2,
      "outputs": [
        {
          "output_type": "stream",
          "text": [
            "<class 'pandas.core.frame.DataFrame'>\n",
            "RangeIndex: 1071 entries, 0 to 1070\n",
            "Data columns (total 12 columns):\n",
            " #   Column             Non-Null Count  Dtype  \n",
            "---  ------             --------------  -----  \n",
            " 0   code               1071 non-null   object \n",
            " 1   area               1071 non-null   object \n",
            " 2   date               1071 non-null   object \n",
            " 3   median_salary      1049 non-null   float64\n",
            " 4   life_satisfaction  352 non-null    float64\n",
            " 5   mean_salary        1071 non-null   object \n",
            " 6   recycling_pct      860 non-null    object \n",
            " 7   population_size    1018 non-null   float64\n",
            " 8   number_of_jobs     931 non-null    float64\n",
            " 9   area_size          666 non-null    float64\n",
            " 10  no_of_houses       666 non-null    float64\n",
            " 11  borough_flag       1071 non-null   int64  \n",
            "dtypes: float64(6), int64(1), object(5)\n",
            "memory usage: 100.5+ KB\n"
          ],
          "name": "stdout"
        }
      ]
    },
    {
      "cell_type": "code",
      "metadata": {
        "id": "R-vQxTN2UG2o",
        "outputId": "3e8385e8-7f0e-4ddc-e6a4-351a227d48e0",
        "colab": {
          "base_uri": "https://localhost:8080/"
        }
      },
      "source": [
        "# Considering the null values present in the data set.\n",
        "df.isnull().sum()"
      ],
      "execution_count": 3,
      "outputs": [
        {
          "output_type": "execute_result",
          "data": {
            "text/plain": [
              "code                   0\n",
              "area                   0\n",
              "date                   0\n",
              "median_salary         22\n",
              "life_satisfaction    719\n",
              "mean_salary            0\n",
              "recycling_pct        211\n",
              "population_size       53\n",
              "number_of_jobs       140\n",
              "area_size            405\n",
              "no_of_houses         405\n",
              "borough_flag           0\n",
              "dtype: int64"
            ]
          },
          "metadata": {
            "tags": []
          },
          "execution_count": 3
        }
      ]
    },
    {
      "cell_type": "markdown",
      "metadata": {
        "id": "TPxie-ZMWfhs"
      },
      "source": [
        "Use the describe() method to get various summary statistics that exclude NaN values."
      ]
    },
    {
      "cell_type": "code",
      "metadata": {
        "id": "E1z8cycUV4BS",
        "outputId": "4986f38a-96ec-47b2-c0c5-7bb2e0efa772",
        "colab": {
          "base_uri": "https://localhost:8080/",
          "height": 297
        }
      },
      "source": [
        "df.describe()"
      ],
      "execution_count": 4,
      "outputs": [
        {
          "output_type": "execute_result",
          "data": {
            "text/html": [
              "<div>\n",
              "<style scoped>\n",
              "    .dataframe tbody tr th:only-of-type {\n",
              "        vertical-align: middle;\n",
              "    }\n",
              "\n",
              "    .dataframe tbody tr th {\n",
              "        vertical-align: top;\n",
              "    }\n",
              "\n",
              "    .dataframe thead th {\n",
              "        text-align: right;\n",
              "    }\n",
              "</style>\n",
              "<table border=\"1\" class=\"dataframe\">\n",
              "  <thead>\n",
              "    <tr style=\"text-align: right;\">\n",
              "      <th></th>\n",
              "      <th>median_salary</th>\n",
              "      <th>life_satisfaction</th>\n",
              "      <th>population_size</th>\n",
              "      <th>number_of_jobs</th>\n",
              "      <th>area_size</th>\n",
              "      <th>no_of_houses</th>\n",
              "      <th>borough_flag</th>\n",
              "    </tr>\n",
              "  </thead>\n",
              "  <tbody>\n",
              "    <tr>\n",
              "      <th>count</th>\n",
              "      <td>1049.000000</td>\n",
              "      <td>352.000000</td>\n",
              "      <td>1.018000e+03</td>\n",
              "      <td>9.310000e+02</td>\n",
              "      <td>6.660000e+02</td>\n",
              "      <td>6.660000e+02</td>\n",
              "      <td>1071.000000</td>\n",
              "    </tr>\n",
              "    <tr>\n",
              "      <th>mean</th>\n",
              "      <td>27977.792183</td>\n",
              "      <td>7.485057</td>\n",
              "      <td>6.042576e+06</td>\n",
              "      <td>3.188095e+06</td>\n",
              "      <td>3.724903e+05</td>\n",
              "      <td>8.814682e+05</td>\n",
              "      <td>0.647059</td>\n",
              "    </tr>\n",
              "    <tr>\n",
              "      <th>std</th>\n",
              "      <td>6412.807487</td>\n",
              "      <td>0.198451</td>\n",
              "      <td>1.526810e+07</td>\n",
              "      <td>8.058302e+06</td>\n",
              "      <td>2.157060e+06</td>\n",
              "      <td>3.690376e+06</td>\n",
              "      <td>0.478108</td>\n",
              "    </tr>\n",
              "    <tr>\n",
              "      <th>min</th>\n",
              "      <td>15684.000000</td>\n",
              "      <td>7.000000</td>\n",
              "      <td>6.581000e+03</td>\n",
              "      <td>4.700000e+04</td>\n",
              "      <td>3.150000e+02</td>\n",
              "      <td>5.009000e+03</td>\n",
              "      <td>0.000000</td>\n",
              "    </tr>\n",
              "    <tr>\n",
              "      <th>25%</th>\n",
              "      <td>23857.000000</td>\n",
              "      <td>7.350000</td>\n",
              "      <td>2.243458e+05</td>\n",
              "      <td>9.450000e+04</td>\n",
              "      <td>2.960000e+03</td>\n",
              "      <td>8.763550e+04</td>\n",
              "      <td>0.000000</td>\n",
              "    </tr>\n",
              "    <tr>\n",
              "      <th>50%</th>\n",
              "      <td>27441.000000</td>\n",
              "      <td>7.510000</td>\n",
              "      <td>2.946035e+05</td>\n",
              "      <td>1.570000e+05</td>\n",
              "      <td>4.323000e+03</td>\n",
              "      <td>1.024020e+05</td>\n",
              "      <td>1.000000</td>\n",
              "    </tr>\n",
              "    <tr>\n",
              "      <th>75%</th>\n",
              "      <td>30932.000000</td>\n",
              "      <td>7.640000</td>\n",
              "      <td>4.630098e+06</td>\n",
              "      <td>2.217000e+06</td>\n",
              "      <td>8.220000e+03</td>\n",
              "      <td>1.262760e+05</td>\n",
              "      <td>1.000000</td>\n",
              "    </tr>\n",
              "    <tr>\n",
              "      <th>max</th>\n",
              "      <td>61636.000000</td>\n",
              "      <td>7.960000</td>\n",
              "      <td>6.643555e+07</td>\n",
              "      <td>3.575000e+07</td>\n",
              "      <td>1.330373e+07</td>\n",
              "      <td>2.417217e+07</td>\n",
              "      <td>1.000000</td>\n",
              "    </tr>\n",
              "  </tbody>\n",
              "</table>\n",
              "</div>"
            ],
            "text/plain": [
              "       median_salary  life_satisfaction  ...  no_of_houses  borough_flag\n",
              "count    1049.000000         352.000000  ...  6.660000e+02   1071.000000\n",
              "mean    27977.792183           7.485057  ...  8.814682e+05      0.647059\n",
              "std      6412.807487           0.198451  ...  3.690376e+06      0.478108\n",
              "min     15684.000000           7.000000  ...  5.009000e+03      0.000000\n",
              "25%     23857.000000           7.350000  ...  8.763550e+04      0.000000\n",
              "50%     27441.000000           7.510000  ...  1.024020e+05      1.000000\n",
              "75%     30932.000000           7.640000  ...  1.262760e+05      1.000000\n",
              "max     61636.000000           7.960000  ...  2.417217e+07      1.000000\n",
              "\n",
              "[8 rows x 7 columns]"
            ]
          },
          "metadata": {
            "tags": []
          },
          "execution_count": 4
        }
      ]
    },
    {
      "cell_type": "code",
      "metadata": {
        "id": "1UOOiep2WyH9",
        "outputId": "e68fe2df-6580-49c0-9723-86bbcb2b81ef",
        "colab": {
          "base_uri": "https://localhost:8080/",
          "height": 215
        }
      },
      "source": [
        "\n",
        "\n",
        "\n"
      ],
      "execution_count": 5,
      "outputs": [
        {
          "output_type": "error",
          "ename": "NameError",
          "evalue": "ignored",
          "traceback": [
            "\u001b[0;31m---------------------------------------------------------------------------\u001b[0m",
            "\u001b[0;31mNameError\u001b[0m                                 Traceback (most recent call last)",
            "\u001b[0;32m<ipython-input-5-22cdead62fae>\u001b[0m in \u001b[0;36m<module>\u001b[0;34m()\u001b[0m\n\u001b[1;32m      1\u001b[0m \u001b[0;34m\u001b[0m\u001b[0m\n\u001b[0;32m----> 2\u001b[0;31m \u001b[0mdf\u001b[0m\u001b[0;34m.\u001b[0m\u001b[0mgroupby\u001b[0m\u001b[0;34m(\u001b[0m\u001b[0;34m[\u001b[0m\u001b[0;34m'population_size'\u001b[0m\u001b[0;34m,\u001b[0m\u001b[0;34m'number_of_jobs'\u001b[0m\u001b[0;34m]\u001b[0m\u001b[0;34m)\u001b[0m\u001b[0;34m.\u001b[0m\u001b[0magg\u001b[0m\u001b[0;34m(\u001b[0m\u001b[0mmean\u001b[0m\u001b[0;34m)\u001b[0m\u001b[0;34m\u001b[0m\u001b[0;34m\u001b[0m\u001b[0m\n\u001b[0m\u001b[1;32m      3\u001b[0m \u001b[0;34m\u001b[0m\u001b[0m\n\u001b[1;32m      4\u001b[0m \u001b[0;34m\u001b[0m\u001b[0m\n",
            "\u001b[0;31mNameError\u001b[0m: name 'mean' is not defined"
          ]
        }
      ]
    },
    {
      "cell_type": "code",
      "metadata": {
        "colab": {
          "base_uri": "https://localhost:8080/"
        },
        "id": "Ik9buFdIghpz",
        "outputId": "aa0dd412-051f-4a66-8d5a-fe88f528aeb0"
      },
      "source": [
        "# Finding out the min and max dates\n",
        "print(df['date'].min())\n",
        "print(df['date'].max())\n",
        "print(df['date'].unique())"
      ],
      "execution_count": null,
      "outputs": [
        {
          "output_type": "stream",
          "text": [
            "1999-12-01\n",
            "2019-12-01\n",
            "['1999-12-01' '2000-12-01' '2001-12-01' '2002-12-01' '2003-12-01'\n",
            " '2004-12-01' '2005-12-01' '2006-12-01' '2007-12-01' '2008-12-01'\n",
            " '2009-12-01' '2010-12-01' '2011-12-01' '2012-12-01' '2013-12-01'\n",
            " '2014-12-01' '2015-12-01' '2016-12-01' '2017-12-01' '2018-12-01'\n",
            " '2019-12-01']\n"
          ],
          "name": "stdout"
        }
      ]
    },
    {
      "cell_type": "code",
      "metadata": {
        "colab": {
          "base_uri": "https://localhost:8080/"
        },
        "id": "VjEL6YZhhAbU",
        "outputId": "9fc87822-7cbd-413a-97fb-f00f1a4fe48d"
      },
      "source": [
        "# Viewing the available areas that are in the london boroughs as some of the areas are elsewhere in the UK\n",
        "london_borough = df[df['borough_flag'] == True]['area'].unique()\n",
        "print(london_borough)\n",
        "other_zones = df[df['borough_flag'] == False]['area'].unique()\n",
        "print(other_zones)"
      ],
      "execution_count": null,
      "outputs": [
        {
          "output_type": "stream",
          "text": [
            "['city of london' 'barking and dagenham' 'barnet' 'bexley' 'brent'\n",
            " 'bromley' 'camden' 'croydon' 'ealing' 'enfield' 'greenwich' 'hackney'\n",
            " 'hammersmith and fulham' 'haringey' 'harrow' 'havering' 'hillingdon'\n",
            " 'hounslow' 'islington' 'kensington and chelsea' 'kingston upon thames'\n",
            " 'lambeth' 'lewisham' 'merton' 'newham' 'redbridge' 'richmond upon thames'\n",
            " 'southwark' 'sutton' 'tower hamlets' 'waltham forest' 'wandsworth'\n",
            " 'westminster']\n",
            "['north east' 'north west' 'yorkshire and the humber' 'east midlands'\n",
            " 'west midlands' 'east' 'london' 'south east' 'south west' 'inner london'\n",
            " 'outer london' 'england' 'united kingdom' 'great britain'\n",
            " 'england and wales' 'northern ireland' 'scotland' 'wales']\n"
          ],
          "name": "stdout"
        }
      ]
    }
  ]
}