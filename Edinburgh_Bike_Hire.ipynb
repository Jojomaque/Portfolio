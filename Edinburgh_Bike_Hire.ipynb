{
  "nbformat": 4,
  "nbformat_minor": 0,
  "metadata": {
    "colab": {
      "name": "Edinburgh_Bike_Hire.ipynb",
      "provenance": [],
      "authorship_tag": "ABX9TyOOx5YsssPqVCvi5496Bp4k",
      "include_colab_link": true
    },
    "kernelspec": {
      "name": "python3",
      "display_name": "Python 3"
    },
    "language_info": {
      "name": "python"
    }
  },
  "cells": [
    {
      "cell_type": "markdown",
      "metadata": {
        "id": "view-in-github",
        "colab_type": "text"
      },
      "source": [
        "<a href=\"https://colab.research.google.com/github/Jojomaque/Portfolio/blob/main/Edinburgh_Bike_Hire.ipynb\" target=\"_parent\"><img src=\"https://colab.research.google.com/assets/colab-badge.svg\" alt=\"Open In Colab\"/></a>"
      ]
    },
    {
      "cell_type": "code",
      "metadata": {
        "id": "_SzOC5fErNeE"
      },
      "source": [
        "# Load libraries\n",
        "import time  # timer\n",
        "import numpy as np  # linear algebra\n",
        "import pandas as pd  \n",
        "import seaborn as sns  # plot handling\n",
        "import matplotlib.pyplot as plt  # plot handling\n",
        "import folium\n"
      ],
      "execution_count": 21,
      "outputs": []
    },
    {
      "cell_type": "markdown",
      "metadata": {
        "id": "R9izaglROfa-"
      },
      "source": [
        "Can I show the locations of the bike stations on the SIMD - https://simd.scot/#/simd2020/BTTTFTT/13.666666666666671/-3.1872/55.9374/\n",
        "\n",
        "\n",
        "Is Climate change Inclusive - Poorer families - access to bikes - Fuel Poverty - Cannot afford to upgrade energy system\n",
        "\n",
        "Hypothesis\n",
        "Ability to reduce carbon foot print linked to wealth inequality?\n",
        "\n",
        "- How Accessible are hire Schemes?\n",
        "- Fuel poverty - \n",
        "\n",
        "\n",
        "#1 Popular times of travel \n",
        "Month\n",
        "Week\n",
        "Day/Time of Day\n",
        "#2 Popular stations and trip\n",
        "most common start station\n",
        "most common end station\n",
        "most common route\n",
        "#3 Trip duration\n",
        "total travel time\n",
        "average travel time\n",
        "#4 User info\n",
        "counts of each user type\n",
        "counts of gender and age?"
      ]
    },
    {
      "cell_type": "code",
      "metadata": {
        "id": "oT633CYE-KCk"
      },
      "source": [
        "# Load Data\n",
        "january = pd.read_csv('https://data.urbansharing.com/edinburghcyclehire.com/trips/v1/2021/01.csv')\n",
        "february = pd.read_csv('https://data.urbansharing.com/edinburghcyclehire.com/trips/v1/2021/02.csv')\n",
        "march = pd.read_csv('https://data.urbansharing.com/edinburghcyclehire.com/trips/v1/2021/03.csv')\n",
        "april = pd.read_csv('https://data.urbansharing.com/edinburghcyclehire.com/trips/v1/2021/04.csv')\n",
        "may = pd.read_csv('https://data.urbansharing.com/edinburghcyclehire.com/trips/v1/2021/05.csv')"
      ],
      "execution_count": 6,
      "outputs": []
    },
    {
      "cell_type": "code",
      "metadata": {
        "id": "lKDYQIvBbUD1"
      },
      "source": [
        "january['month'] = 'january'\n",
        "february['month'] = 'february'\n",
        "march['month'] = 'march'\n",
        "april['month'] = 'april'\n",
        "may['month'] = 'may'"
      ],
      "execution_count": 25,
      "outputs": []
    },
    {
      "cell_type": "code",
      "metadata": {
        "id": "VmaJzrU4BKuc",
        "outputId": "bce296c0-a4ca-467e-e09c-b46d768e14ad",
        "colab": {
          "base_uri": "https://localhost:8080/",
          "height": 292
        }
      },
      "source": [
        "Ed_Bike_2021 = pd.concat([january, february, march, april, may])\n",
        "Ed_Bike_2021.head()"
      ],
      "execution_count": 26,
      "outputs": [
        {
          "output_type": "execute_result",
          "data": {
            "text/html": [
              "<div>\n",
              "<style scoped>\n",
              "    .dataframe tbody tr th:only-of-type {\n",
              "        vertical-align: middle;\n",
              "    }\n",
              "\n",
              "    .dataframe tbody tr th {\n",
              "        vertical-align: top;\n",
              "    }\n",
              "\n",
              "    .dataframe thead th {\n",
              "        text-align: right;\n",
              "    }\n",
              "</style>\n",
              "<table border=\"1\" class=\"dataframe\">\n",
              "  <thead>\n",
              "    <tr style=\"text-align: right;\">\n",
              "      <th></th>\n",
              "      <th>started_at</th>\n",
              "      <th>ended_at</th>\n",
              "      <th>duration</th>\n",
              "      <th>start_station_id</th>\n",
              "      <th>start_station_name</th>\n",
              "      <th>start_station_description</th>\n",
              "      <th>start_station_latitude</th>\n",
              "      <th>start_station_longitude</th>\n",
              "      <th>end_station_id</th>\n",
              "      <th>end_station_name</th>\n",
              "      <th>end_station_description</th>\n",
              "      <th>end_station_latitude</th>\n",
              "      <th>end_station_longitude</th>\n",
              "      <th>month</th>\n",
              "    </tr>\n",
              "  </thead>\n",
              "  <tbody>\n",
              "    <tr>\n",
              "      <th>0</th>\n",
              "      <td>2021-01-01 00:48:42.884000+00:00</td>\n",
              "      <td>2021-01-01 00:52:04.432000+00:00</td>\n",
              "      <td>201</td>\n",
              "      <td>1024</td>\n",
              "      <td>Meadow Place</td>\n",
              "      <td>End of Meadow Place</td>\n",
              "      <td>55.940238</td>\n",
              "      <td>-3.194640</td>\n",
              "      <td>265</td>\n",
              "      <td>Meadows East</td>\n",
              "      <td>Between Melville Terrace and Sciennes</td>\n",
              "      <td>55.939809</td>\n",
              "      <td>-3.182739</td>\n",
              "      <td>january</td>\n",
              "    </tr>\n",
              "    <tr>\n",
              "      <th>1</th>\n",
              "      <td>2021-01-01 00:52:12.457000+00:00</td>\n",
              "      <td>2021-01-01 01:00:37.449000+00:00</td>\n",
              "      <td>504</td>\n",
              "      <td>265</td>\n",
              "      <td>Meadows East</td>\n",
              "      <td>Between Melville Terrace and Sciennes</td>\n",
              "      <td>55.939809</td>\n",
              "      <td>-3.182739</td>\n",
              "      <td>1818</td>\n",
              "      <td>Dynamic Earth</td>\n",
              "      <td>Outside Dynamic Earth, Holyrood Road</td>\n",
              "      <td>55.951089</td>\n",
              "      <td>-3.175725</td>\n",
              "      <td>january</td>\n",
              "    </tr>\n",
              "    <tr>\n",
              "      <th>2</th>\n",
              "      <td>2021-01-01 00:55:14.884000+00:00</td>\n",
              "      <td>2021-01-01 01:12:52.893000+00:00</td>\n",
              "      <td>1058</td>\n",
              "      <td>183</td>\n",
              "      <td>Waverley Bridge</td>\n",
              "      <td>near the top of the South ramp</td>\n",
              "      <td>55.951981</td>\n",
              "      <td>-3.191890</td>\n",
              "      <td>1092</td>\n",
              "      <td>Dalry Road Lidl</td>\n",
              "      <td>NaN</td>\n",
              "      <td>55.941791</td>\n",
              "      <td>-3.222415</td>\n",
              "      <td>january</td>\n",
              "    </tr>\n",
              "    <tr>\n",
              "      <th>3</th>\n",
              "      <td>2021-01-01 00:55:15.217000+00:00</td>\n",
              "      <td>2021-01-01 01:13:15.643000+00:00</td>\n",
              "      <td>1080</td>\n",
              "      <td>183</td>\n",
              "      <td>Waverley Bridge</td>\n",
              "      <td>near the top of the South ramp</td>\n",
              "      <td>55.951981</td>\n",
              "      <td>-3.191890</td>\n",
              "      <td>1092</td>\n",
              "      <td>Dalry Road Lidl</td>\n",
              "      <td>NaN</td>\n",
              "      <td>55.941791</td>\n",
              "      <td>-3.222415</td>\n",
              "      <td>january</td>\n",
              "    </tr>\n",
              "    <tr>\n",
              "      <th>4</th>\n",
              "      <td>2021-01-01 00:55:22.724000+00:00</td>\n",
              "      <td>2021-01-01 01:00:20.668000+00:00</td>\n",
              "      <td>297</td>\n",
              "      <td>1096</td>\n",
              "      <td>West Crosscauseway</td>\n",
              "      <td>On island next to Buccleuch Street</td>\n",
              "      <td>55.943836</td>\n",
              "      <td>-3.184951</td>\n",
              "      <td>1727</td>\n",
              "      <td>Causewayside</td>\n",
              "      <td>Outside National Library of Scotland</td>\n",
              "      <td>55.936506</td>\n",
              "      <td>-3.180166</td>\n",
              "      <td>january</td>\n",
              "    </tr>\n",
              "  </tbody>\n",
              "</table>\n",
              "</div>"
            ],
            "text/plain": [
              "                         started_at  ...    month\n",
              "0  2021-01-01 00:48:42.884000+00:00  ...  january\n",
              "1  2021-01-01 00:52:12.457000+00:00  ...  january\n",
              "2  2021-01-01 00:55:14.884000+00:00  ...  january\n",
              "3  2021-01-01 00:55:15.217000+00:00  ...  january\n",
              "4  2021-01-01 00:55:22.724000+00:00  ...  january\n",
              "\n",
              "[5 rows x 14 columns]"
            ]
          },
          "metadata": {
            "tags": []
          },
          "execution_count": 26
        }
      ]
    },
    {
      "cell_type": "code",
      "metadata": {
        "id": "0Cr8SQ2MCz6z",
        "outputId": "97eb2ebc-93ee-4897-b826-bc657f0699d6",
        "colab": {
          "base_uri": "https://localhost:8080/",
          "height": 292
        }
      },
      "source": [
        "Ed_Bike_2021.tail()"
      ],
      "execution_count": 9,
      "outputs": [
        {
          "output_type": "execute_result",
          "data": {
            "text/html": [
              "<div>\n",
              "<style scoped>\n",
              "    .dataframe tbody tr th:only-of-type {\n",
              "        vertical-align: middle;\n",
              "    }\n",
              "\n",
              "    .dataframe tbody tr th {\n",
              "        vertical-align: top;\n",
              "    }\n",
              "\n",
              "    .dataframe thead th {\n",
              "        text-align: right;\n",
              "    }\n",
              "</style>\n",
              "<table border=\"1\" class=\"dataframe\">\n",
              "  <thead>\n",
              "    <tr style=\"text-align: right;\">\n",
              "      <th></th>\n",
              "      <th>started_at</th>\n",
              "      <th>ended_at</th>\n",
              "      <th>duration</th>\n",
              "      <th>start_station_id</th>\n",
              "      <th>start_station_name</th>\n",
              "      <th>start_station_description</th>\n",
              "      <th>start_station_latitude</th>\n",
              "      <th>start_station_longitude</th>\n",
              "      <th>end_station_id</th>\n",
              "      <th>end_station_name</th>\n",
              "      <th>end_station_description</th>\n",
              "      <th>end_station_latitude</th>\n",
              "      <th>end_station_longitude</th>\n",
              "    </tr>\n",
              "  </thead>\n",
              "  <tbody>\n",
              "    <tr>\n",
              "      <th>12601</th>\n",
              "      <td>2021-05-31 23:13:57.978000+00:00</td>\n",
              "      <td>2021-05-31 23:25:46.037000+00:00</td>\n",
              "      <td>708</td>\n",
              "      <td>1039</td>\n",
              "      <td>Lothian Road</td>\n",
              "      <td>Outside the Usher Hall</td>\n",
              "      <td>55.947409</td>\n",
              "      <td>-3.205765</td>\n",
              "      <td>1745</td>\n",
              "      <td>Scotland Street</td>\n",
              "      <td>Corner with Royal Crescent</td>\n",
              "      <td>55.960380</td>\n",
              "      <td>-3.195470</td>\n",
              "    </tr>\n",
              "    <tr>\n",
              "      <th>12602</th>\n",
              "      <td>2021-05-31 23:16:05.243000+00:00</td>\n",
              "      <td>2021-05-31 23:36:46.037000+00:00</td>\n",
              "      <td>1240</td>\n",
              "      <td>1050</td>\n",
              "      <td>EICC</td>\n",
              "      <td>Outside Edinburgh International Conference Centre</td>\n",
              "      <td>55.946071</td>\n",
              "      <td>-3.210396</td>\n",
              "      <td>1824</td>\n",
              "      <td>Duke Street</td>\n",
              "      <td>Junction with Easter Road</td>\n",
              "      <td>55.969012</td>\n",
              "      <td>-3.167395</td>\n",
              "    </tr>\n",
              "    <tr>\n",
              "      <th>12603</th>\n",
              "      <td>2021-05-31 23:33:48.579000+00:00</td>\n",
              "      <td>2021-05-31 23:52:51.959000+00:00</td>\n",
              "      <td>1143</td>\n",
              "      <td>1096</td>\n",
              "      <td>West Crosscauseway</td>\n",
              "      <td>On island next to Buccleuch Street</td>\n",
              "      <td>55.943836</td>\n",
              "      <td>-3.184951</td>\n",
              "      <td>1729</td>\n",
              "      <td>McDonald Road</td>\n",
              "      <td>Next to Fire Station</td>\n",
              "      <td>55.964031</td>\n",
              "      <td>-3.185175</td>\n",
              "    </tr>\n",
              "    <tr>\n",
              "      <th>12604</th>\n",
              "      <td>2021-05-31 23:35:26.487000+00:00</td>\n",
              "      <td>2021-05-31 23:52:53.068000+00:00</td>\n",
              "      <td>1046</td>\n",
              "      <td>247</td>\n",
              "      <td>Charlotte Square</td>\n",
              "      <td>North Corner of Charlotte Square</td>\n",
              "      <td>55.952335</td>\n",
              "      <td>-3.207101</td>\n",
              "      <td>1091</td>\n",
              "      <td>Holyrood Road</td>\n",
              "      <td>Opposite St Leonards Land</td>\n",
              "      <td>55.949560</td>\n",
              "      <td>-3.180413</td>\n",
              "    </tr>\n",
              "    <tr>\n",
              "      <th>12605</th>\n",
              "      <td>2021-05-31 23:52:27.715000+00:00</td>\n",
              "      <td>2021-06-01 00:01:03.126000+00:00</td>\n",
              "      <td>515</td>\n",
              "      <td>1729</td>\n",
              "      <td>McDonald Road</td>\n",
              "      <td>Next to Fire Station</td>\n",
              "      <td>55.964031</td>\n",
              "      <td>-3.185175</td>\n",
              "      <td>250</td>\n",
              "      <td>Victoria Quay</td>\n",
              "      <td>Entrance to Scottish Government Office</td>\n",
              "      <td>55.977617</td>\n",
              "      <td>-3.174126</td>\n",
              "    </tr>\n",
              "  </tbody>\n",
              "</table>\n",
              "</div>"
            ],
            "text/plain": [
              "                             started_at  ... end_station_longitude\n",
              "12601  2021-05-31 23:13:57.978000+00:00  ...             -3.195470\n",
              "12602  2021-05-31 23:16:05.243000+00:00  ...             -3.167395\n",
              "12603  2021-05-31 23:33:48.579000+00:00  ...             -3.185175\n",
              "12604  2021-05-31 23:35:26.487000+00:00  ...             -3.180413\n",
              "12605  2021-05-31 23:52:27.715000+00:00  ...             -3.174126\n",
              "\n",
              "[5 rows x 13 columns]"
            ]
          },
          "metadata": {
            "tags": []
          },
          "execution_count": 9
        }
      ]
    },
    {
      "cell_type": "markdown",
      "metadata": {
        "id": "QrTITcMlZVAR"
      },
      "source": [
        "DATA DESCRIPTION"
      ]
    },
    {
      "cell_type": "code",
      "metadata": {
        "id": "3UT3obCnWti-",
        "outputId": "96c354ba-7d68-4a03-a475-ec6908fede40",
        "colab": {
          "base_uri": "https://localhost:8080/"
        }
      },
      "source": [
        "Ed_Bike_2021.columns"
      ],
      "execution_count": 14,
      "outputs": [
        {
          "output_type": "execute_result",
          "data": {
            "text/plain": [
              "Index(['started_at', 'ended_at', 'duration', 'start_station_id',\n",
              "       'start_station_name', 'start_station_description',\n",
              "       'start_station_latitude', 'start_station_longitude', 'end_station_id',\n",
              "       'end_station_name', 'end_station_description', 'end_station_latitude',\n",
              "       'end_station_longitude'],\n",
              "      dtype='object')"
            ]
          },
          "metadata": {
            "tags": []
          },
          "execution_count": 14
        }
      ]
    },
    {
      "cell_type": "code",
      "metadata": {
        "id": "LF5-oy0tW0yV",
        "outputId": "e7b1d1fd-d5d5-400e-8a13-09a3c99f4ac6",
        "colab": {
          "base_uri": "https://localhost:8080/",
          "height": 299
        }
      },
      "source": [
        "Ed_Bike_2021.describe()"
      ],
      "execution_count": 24,
      "outputs": [
        {
          "output_type": "execute_result",
          "data": {
            "text/html": [
              "<div>\n",
              "<style scoped>\n",
              "    .dataframe tbody tr th:only-of-type {\n",
              "        vertical-align: middle;\n",
              "    }\n",
              "\n",
              "    .dataframe tbody tr th {\n",
              "        vertical-align: top;\n",
              "    }\n",
              "\n",
              "    .dataframe thead th {\n",
              "        text-align: right;\n",
              "    }\n",
              "</style>\n",
              "<table border=\"1\" class=\"dataframe\">\n",
              "  <thead>\n",
              "    <tr style=\"text-align: right;\">\n",
              "      <th></th>\n",
              "      <th>duration</th>\n",
              "      <th>start_station_id</th>\n",
              "      <th>start_station_latitude</th>\n",
              "      <th>start_station_longitude</th>\n",
              "      <th>end_station_id</th>\n",
              "      <th>end_station_latitude</th>\n",
              "      <th>end_station_longitude</th>\n",
              "    </tr>\n",
              "  </thead>\n",
              "  <tbody>\n",
              "    <tr>\n",
              "      <th>count</th>\n",
              "      <td>51856.000000</td>\n",
              "      <td>51856.000000</td>\n",
              "      <td>51856.000000</td>\n",
              "      <td>51856.000000</td>\n",
              "      <td>51856.000000</td>\n",
              "      <td>51856.000000</td>\n",
              "      <td>51856.000000</td>\n",
              "    </tr>\n",
              "    <tr>\n",
              "      <th>mean</th>\n",
              "      <td>2103.003953</td>\n",
              "      <td>1141.948569</td>\n",
              "      <td>55.949682</td>\n",
              "      <td>-3.194467</td>\n",
              "      <td>1213.638383</td>\n",
              "      <td>55.951868</td>\n",
              "      <td>-3.191987</td>\n",
              "    </tr>\n",
              "    <tr>\n",
              "      <th>std</th>\n",
              "      <td>2149.692109</td>\n",
              "      <td>681.672390</td>\n",
              "      <td>0.013666</td>\n",
              "      <td>0.042966</td>\n",
              "      <td>676.440361</td>\n",
              "      <td>0.014454</td>\n",
              "      <td>0.047250</td>\n",
              "    </tr>\n",
              "    <tr>\n",
              "      <th>min</th>\n",
              "      <td>61.000000</td>\n",
              "      <td>171.000000</td>\n",
              "      <td>55.908413</td>\n",
              "      <td>-3.407156</td>\n",
              "      <td>171.000000</td>\n",
              "      <td>55.908413</td>\n",
              "      <td>-3.407156</td>\n",
              "    </tr>\n",
              "    <tr>\n",
              "      <th>25%</th>\n",
              "      <td>710.000000</td>\n",
              "      <td>265.000000</td>\n",
              "      <td>55.940081</td>\n",
              "      <td>-3.207101</td>\n",
              "      <td>265.000000</td>\n",
              "      <td>55.940238</td>\n",
              "      <td>-3.208070</td>\n",
              "    </tr>\n",
              "    <tr>\n",
              "      <th>50%</th>\n",
              "      <td>1429.000000</td>\n",
              "      <td>1093.000000</td>\n",
              "      <td>55.947097</td>\n",
              "      <td>-3.191890</td>\n",
              "      <td>1721.000000</td>\n",
              "      <td>55.951501</td>\n",
              "      <td>-3.188311</td>\n",
              "    </tr>\n",
              "    <tr>\n",
              "      <th>75%</th>\n",
              "      <td>2871.000000</td>\n",
              "      <td>1754.000000</td>\n",
              "      <td>55.957915</td>\n",
              "      <td>-3.176180</td>\n",
              "      <td>1757.000000</td>\n",
              "      <td>55.960380</td>\n",
              "      <td>-3.174126</td>\n",
              "    </tr>\n",
              "    <tr>\n",
              "      <th>max</th>\n",
              "      <td>27006.000000</td>\n",
              "      <td>2268.000000</td>\n",
              "      <td>55.992957</td>\n",
              "      <td>-3.058307</td>\n",
              "      <td>2268.000000</td>\n",
              "      <td>55.992957</td>\n",
              "      <td>-3.058307</td>\n",
              "    </tr>\n",
              "  </tbody>\n",
              "</table>\n",
              "</div>"
            ],
            "text/plain": [
              "           duration  ...  end_station_longitude\n",
              "count  51856.000000  ...           51856.000000\n",
              "mean    2103.003953  ...              -3.191987\n",
              "std     2149.692109  ...               0.047250\n",
              "min       61.000000  ...              -3.407156\n",
              "25%      710.000000  ...              -3.208070\n",
              "50%     1429.000000  ...              -3.188311\n",
              "75%     2871.000000  ...              -3.174126\n",
              "max    27006.000000  ...              -3.058307\n",
              "\n",
              "[8 rows x 7 columns]"
            ]
          },
          "metadata": {
            "tags": []
          },
          "execution_count": 24
        }
      ]
    },
    {
      "cell_type": "code",
      "metadata": {
        "id": "lOZhBa3Nb9tF",
        "outputId": "2b2b5d1e-3508-488d-e85c-b542b9c89c61",
        "colab": {
          "base_uri": "https://localhost:8080/"
        }
      },
      "source": [
        "Ed_Bike_2021['month'].value_counts()"
      ],
      "execution_count": 29,
      "outputs": [
        {
          "output_type": "execute_result",
          "data": {
            "text/plain": [
              "april       14785\n",
              "march       13279\n",
              "may         12606\n",
              "february     6559\n",
              "january      4627\n",
              "Name: month, dtype: int64"
            ]
          },
          "metadata": {
            "tags": []
          },
          "execution_count": 29
        }
      ]
    },
    {
      "cell_type": "code",
      "metadata": {
        "id": "DZqIuha5W9jm",
        "outputId": "4a7fa8a5-7c60-4f3d-e757-e13f755684b5",
        "colab": {
          "base_uri": "https://localhost:8080/"
        }
      },
      "source": [
        "Ed_Bike_2021.info()"
      ],
      "execution_count": 16,
      "outputs": [
        {
          "output_type": "stream",
          "text": [
            "<class 'pandas.core.frame.DataFrame'>\n",
            "Int64Index: 51856 entries, 0 to 12605\n",
            "Data columns (total 13 columns):\n",
            " #   Column                     Non-Null Count  Dtype              \n",
            "---  ------                     --------------  -----              \n",
            " 0   started_at                 51856 non-null  datetime64[ns, UTC]\n",
            " 1   ended_at                   51856 non-null  object             \n",
            " 2   duration                   51856 non-null  int64              \n",
            " 3   start_station_id           51856 non-null  int64              \n",
            " 4   start_station_name         51856 non-null  object             \n",
            " 5   start_station_description  51102 non-null  object             \n",
            " 6   start_station_latitude     51856 non-null  float64            \n",
            " 7   start_station_longitude    51856 non-null  float64            \n",
            " 8   end_station_id             51856 non-null  int64              \n",
            " 9   end_station_name           51856 non-null  object             \n",
            " 10  end_station_description    50933 non-null  object             \n",
            " 11  end_station_latitude       51856 non-null  float64            \n",
            " 12  end_station_longitude      51856 non-null  float64            \n",
            "dtypes: datetime64[ns, UTC](1), float64(4), int64(3), object(5)\n",
            "memory usage: 5.5+ MB\n"
          ],
          "name": "stdout"
        }
      ]
    },
    {
      "cell_type": "code",
      "metadata": {
        "id": "NO-E_gDUXGTg",
        "outputId": "8be42208-23a7-446a-8241-9347da5b34fc",
        "colab": {
          "base_uri": "https://localhost:8080/"
        }
      },
      "source": [
        "# check missing value\n",
        "Ed_Bike_2021.isnull().sum()"
      ],
      "execution_count": 17,
      "outputs": [
        {
          "output_type": "execute_result",
          "data": {
            "text/plain": [
              "started_at                     0\n",
              "ended_at                       0\n",
              "duration                       0\n",
              "start_station_id               0\n",
              "start_station_name             0\n",
              "start_station_description    754\n",
              "start_station_latitude         0\n",
              "start_station_longitude        0\n",
              "end_station_id                 0\n",
              "end_station_name               0\n",
              "end_station_description      923\n",
              "end_station_latitude           0\n",
              "end_station_longitude          0\n",
              "dtype: int64"
            ]
          },
          "metadata": {
            "tags": []
          },
          "execution_count": 17
        }
      ]
    },
    {
      "cell_type": "code",
      "metadata": {
        "id": "L0S2l4RPXX6J"
      },
      "source": [
        ""
      ],
      "execution_count": null,
      "outputs": []
    },
    {
      "cell_type": "markdown",
      "metadata": {
        "id": "R61fZ6gDXYSu"
      },
      "source": [
        "DATA PREPARATION"
      ]
    },
    {
      "cell_type": "code",
      "metadata": {
        "id": "penIU6pMU7pO",
        "outputId": "4d53e52d-6fd6-4da1-db00-a257f8731450",
        "colab": {
          "base_uri": "https://localhost:8080/"
        }
      },
      "source": [
        "# change some format\n",
        "Ed_Bike_2021['started_at'] = pd.to_datetime(Ed_Bike_2021['started_at'])\n",
        "Ed_Bike_2021['ended_at'] = pd.to_datetime(Ed_Bike_2021['ended_at'])\n",
        "Ed_Bike_2021['started_at']"
      ],
      "execution_count": 23,
      "outputs": [
        {
          "output_type": "execute_result",
          "data": {
            "text/plain": [
              "0       2021-01-01 00:48:42.884000+00:00\n",
              "1       2021-01-01 00:52:12.457000+00:00\n",
              "2       2021-01-01 00:55:14.884000+00:00\n",
              "3       2021-01-01 00:55:15.217000+00:00\n",
              "4       2021-01-01 00:55:22.724000+00:00\n",
              "                      ...               \n",
              "12601   2021-05-31 23:13:57.978000+00:00\n",
              "12602   2021-05-31 23:16:05.243000+00:00\n",
              "12603   2021-05-31 23:33:48.579000+00:00\n",
              "12604   2021-05-31 23:35:26.487000+00:00\n",
              "12605   2021-05-31 23:52:27.715000+00:00\n",
              "Name: started_at, Length: 51856, dtype: datetime64[ns, UTC]"
            ]
          },
          "metadata": {
            "tags": []
          },
          "execution_count": 23
        }
      ]
    }
  ]
}