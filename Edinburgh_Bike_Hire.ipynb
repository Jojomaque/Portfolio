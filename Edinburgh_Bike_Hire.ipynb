{
  "nbformat": 4,
  "nbformat_minor": 0,
  "metadata": {
    "colab": {
      "name": "Edinburgh_Bike_Hire.ipynb",
      "provenance": [],
      "authorship_tag": "ABX9TyPrtAdOpVeq43DL78aUTR4E",
      "include_colab_link": true
    },
    "kernelspec": {
      "name": "python3",
      "display_name": "Python 3"
    },
    "language_info": {
      "name": "python"
    }
  },
  "cells": [
    {
      "cell_type": "markdown",
      "metadata": {
        "id": "view-in-github",
        "colab_type": "text"
      },
      "source": [
        "<a href=\"https://colab.research.google.com/github/Jojomaque/Portfolio/blob/main/Edinburgh_Bike_Hire.ipynb\" target=\"_parent\"><img src=\"https://colab.research.google.com/assets/colab-badge.svg\" alt=\"Open In Colab\"/></a>"
      ]
    },
    {
      "cell_type": "code",
      "metadata": {
        "id": "_SzOC5fErNeE"
      },
      "source": [
        "# Load libraries\n",
        "import time  # timer\n",
        "import numpy as np  # linear algebra\n",
        "import pandas as pd  \n",
        "import seaborn as sns  # plot handling\n",
        "import matplotlib.pyplot as plt  # plot handling\n",
        "import folium\n"
      ],
      "execution_count": 41,
      "outputs": []
    },
    {
      "cell_type": "code",
      "metadata": {
        "id": "M5mc6c8icMHp"
      },
      "source": [
        ""
      ],
      "execution_count": 41,
      "outputs": []
    },
    {
      "cell_type": "markdown",
      "metadata": {
        "id": "R9izaglROfa-"
      },
      "source": [
        "Can I show the locations of the bike stations on the SIMD - https://simd.scot/#/simd2020/BTTTFTT/13.666666666666671/-3.1872/55.9374/. to visualise accesibility of bike shares schemes in deprived area?\n",
        "\n",
        "\n",
        "Is Climate change Inclusive - Poorer families - access to bikes - Fuel Poverty - Cannot afford to upgrade energy system\n",
        "\n",
        "Hypothesis\n",
        "Ability to reduce carbon foot print linked to wealth inequality?\n",
        "\n",
        "- How Accessible are bike hire Schemes? Are they located in more affluent areas/student areas?  (Tourists?)\n",
        "\n",
        "- Fuel poverty - \n",
        "  \n",
        "  are the visualisations showing that instead of bikes being used to reduce footprint whilst commuting, instead used by tourists/students?\n",
        "\n",
        "#1 Popular times of travel \n",
        "Month\n",
        "Week\n",
        "Day/Time of Day\n",
        "#2 Popular stations and trip\n",
        "most common start station\n",
        "most common end station\n",
        "most common route\n",
        "#3 Trip duration\n",
        "total travel time\n",
        "average travel time\n",
        "#4 User info\n",
        "counts of each user type\n",
        "counts of gender and age?"
      ]
    },
    {
      "cell_type": "code",
      "metadata": {
        "id": "oT633CYE-KCk"
      },
      "source": [
        "# Load Data\n",
        "january = pd.read_csv('https://data.urbansharing.com/edinburghcyclehire.com/trips/v1/2021/01.csv')\n",
        "february = pd.read_csv('https://data.urbansharing.com/edinburghcyclehire.com/trips/v1/2021/02.csv')\n",
        "march = pd.read_csv('https://data.urbansharing.com/edinburghcyclehire.com/trips/v1/2021/03.csv')\n",
        "april = pd.read_csv('https://data.urbansharing.com/edinburghcyclehire.com/trips/v1/2021/04.csv')\n",
        "may = pd.read_csv('https://data.urbansharing.com/edinburghcyclehire.com/trips/v1/2021/05.csv')"
      ],
      "execution_count": 42,
      "outputs": []
    },
    {
      "cell_type": "code",
      "metadata": {
        "id": "uMCHfuckfyIV"
      },
      "source": [
        ""
      ],
      "execution_count": 42,
      "outputs": []
    },
    {
      "cell_type": "code",
      "metadata": {
        "id": "VmaJzrU4BKuc",
        "colab": {
          "base_uri": "https://localhost:8080/",
          "height": 309
        },
        "outputId": "3dd44f9b-437b-4c19-91ad-37ff65c65bca"
      },
      "source": [
        "Ed_Bike_2021 = pd.concat([january, february, march, april, may])\n",
        "Ed_Bike_2021.head()"
      ],
      "execution_count": 43,
      "outputs": [
        {
          "output_type": "execute_result",
          "data": {
            "text/html": [
              "<div>\n",
              "<style scoped>\n",
              "    .dataframe tbody tr th:only-of-type {\n",
              "        vertical-align: middle;\n",
              "    }\n",
              "\n",
              "    .dataframe tbody tr th {\n",
              "        vertical-align: top;\n",
              "    }\n",
              "\n",
              "    .dataframe thead th {\n",
              "        text-align: right;\n",
              "    }\n",
              "</style>\n",
              "<table border=\"1\" class=\"dataframe\">\n",
              "  <thead>\n",
              "    <tr style=\"text-align: right;\">\n",
              "      <th></th>\n",
              "      <th>started_at</th>\n",
              "      <th>ended_at</th>\n",
              "      <th>duration</th>\n",
              "      <th>start_station_id</th>\n",
              "      <th>start_station_name</th>\n",
              "      <th>start_station_description</th>\n",
              "      <th>start_station_latitude</th>\n",
              "      <th>start_station_longitude</th>\n",
              "      <th>end_station_id</th>\n",
              "      <th>end_station_name</th>\n",
              "      <th>end_station_description</th>\n",
              "      <th>end_station_latitude</th>\n",
              "      <th>end_station_longitude</th>\n",
              "    </tr>\n",
              "  </thead>\n",
              "  <tbody>\n",
              "    <tr>\n",
              "      <th>0</th>\n",
              "      <td>2021-01-01 00:48:42.884000+00:00</td>\n",
              "      <td>2021-01-01 00:52:04.432000+00:00</td>\n",
              "      <td>201</td>\n",
              "      <td>1024</td>\n",
              "      <td>Meadow Place</td>\n",
              "      <td>End of Meadow Place</td>\n",
              "      <td>55.940238</td>\n",
              "      <td>-3.194640</td>\n",
              "      <td>265</td>\n",
              "      <td>Meadows East</td>\n",
              "      <td>Between Melville Terrace and Sciennes</td>\n",
              "      <td>55.939809</td>\n",
              "      <td>-3.182739</td>\n",
              "    </tr>\n",
              "    <tr>\n",
              "      <th>1</th>\n",
              "      <td>2021-01-01 00:52:12.457000+00:00</td>\n",
              "      <td>2021-01-01 01:00:37.449000+00:00</td>\n",
              "      <td>504</td>\n",
              "      <td>265</td>\n",
              "      <td>Meadows East</td>\n",
              "      <td>Between Melville Terrace and Sciennes</td>\n",
              "      <td>55.939809</td>\n",
              "      <td>-3.182739</td>\n",
              "      <td>1818</td>\n",
              "      <td>Dynamic Earth</td>\n",
              "      <td>Outside Dynamic Earth, Holyrood Road</td>\n",
              "      <td>55.951089</td>\n",
              "      <td>-3.175725</td>\n",
              "    </tr>\n",
              "    <tr>\n",
              "      <th>2</th>\n",
              "      <td>2021-01-01 00:55:14.884000+00:00</td>\n",
              "      <td>2021-01-01 01:12:52.893000+00:00</td>\n",
              "      <td>1058</td>\n",
              "      <td>183</td>\n",
              "      <td>Waverley Bridge</td>\n",
              "      <td>near the top of the South ramp</td>\n",
              "      <td>55.951981</td>\n",
              "      <td>-3.191890</td>\n",
              "      <td>1092</td>\n",
              "      <td>Dalry Road Lidl</td>\n",
              "      <td>NaN</td>\n",
              "      <td>55.941791</td>\n",
              "      <td>-3.222415</td>\n",
              "    </tr>\n",
              "    <tr>\n",
              "      <th>3</th>\n",
              "      <td>2021-01-01 00:55:15.217000+00:00</td>\n",
              "      <td>2021-01-01 01:13:15.643000+00:00</td>\n",
              "      <td>1080</td>\n",
              "      <td>183</td>\n",
              "      <td>Waverley Bridge</td>\n",
              "      <td>near the top of the South ramp</td>\n",
              "      <td>55.951981</td>\n",
              "      <td>-3.191890</td>\n",
              "      <td>1092</td>\n",
              "      <td>Dalry Road Lidl</td>\n",
              "      <td>NaN</td>\n",
              "      <td>55.941791</td>\n",
              "      <td>-3.222415</td>\n",
              "    </tr>\n",
              "    <tr>\n",
              "      <th>4</th>\n",
              "      <td>2021-01-01 00:55:22.724000+00:00</td>\n",
              "      <td>2021-01-01 01:00:20.668000+00:00</td>\n",
              "      <td>297</td>\n",
              "      <td>1096</td>\n",
              "      <td>West Crosscauseway</td>\n",
              "      <td>On island next to Buccleuch Street</td>\n",
              "      <td>55.943836</td>\n",
              "      <td>-3.184951</td>\n",
              "      <td>1727</td>\n",
              "      <td>Causewayside</td>\n",
              "      <td>Outside National Library of Scotland</td>\n",
              "      <td>55.936506</td>\n",
              "      <td>-3.180166</td>\n",
              "    </tr>\n",
              "  </tbody>\n",
              "</table>\n",
              "</div>"
            ],
            "text/plain": [
              "                         started_at  ... end_station_longitude\n",
              "0  2021-01-01 00:48:42.884000+00:00  ...             -3.182739\n",
              "1  2021-01-01 00:52:12.457000+00:00  ...             -3.175725\n",
              "2  2021-01-01 00:55:14.884000+00:00  ...             -3.222415\n",
              "3  2021-01-01 00:55:15.217000+00:00  ...             -3.222415\n",
              "4  2021-01-01 00:55:22.724000+00:00  ...             -3.180166\n",
              "\n",
              "[5 rows x 13 columns]"
            ]
          },
          "metadata": {
            "tags": []
          },
          "execution_count": 43
        }
      ]
    },
    {
      "cell_type": "code",
      "metadata": {
        "id": "0Cr8SQ2MCz6z",
        "colab": {
          "base_uri": "https://localhost:8080/",
          "height": 309
        },
        "outputId": "7e23f7c2-a1ed-439d-8237-3f92863632f5"
      },
      "source": [
        "Ed_Bike_2021.tail()"
      ],
      "execution_count": 44,
      "outputs": [
        {
          "output_type": "execute_result",
          "data": {
            "text/html": [
              "<div>\n",
              "<style scoped>\n",
              "    .dataframe tbody tr th:only-of-type {\n",
              "        vertical-align: middle;\n",
              "    }\n",
              "\n",
              "    .dataframe tbody tr th {\n",
              "        vertical-align: top;\n",
              "    }\n",
              "\n",
              "    .dataframe thead th {\n",
              "        text-align: right;\n",
              "    }\n",
              "</style>\n",
              "<table border=\"1\" class=\"dataframe\">\n",
              "  <thead>\n",
              "    <tr style=\"text-align: right;\">\n",
              "      <th></th>\n",
              "      <th>started_at</th>\n",
              "      <th>ended_at</th>\n",
              "      <th>duration</th>\n",
              "      <th>start_station_id</th>\n",
              "      <th>start_station_name</th>\n",
              "      <th>start_station_description</th>\n",
              "      <th>start_station_latitude</th>\n",
              "      <th>start_station_longitude</th>\n",
              "      <th>end_station_id</th>\n",
              "      <th>end_station_name</th>\n",
              "      <th>end_station_description</th>\n",
              "      <th>end_station_latitude</th>\n",
              "      <th>end_station_longitude</th>\n",
              "    </tr>\n",
              "  </thead>\n",
              "  <tbody>\n",
              "    <tr>\n",
              "      <th>12601</th>\n",
              "      <td>2021-05-31 23:13:57.978000+00:00</td>\n",
              "      <td>2021-05-31 23:25:46.037000+00:00</td>\n",
              "      <td>708</td>\n",
              "      <td>1039</td>\n",
              "      <td>Lothian Road</td>\n",
              "      <td>Outside the Usher Hall</td>\n",
              "      <td>55.947409</td>\n",
              "      <td>-3.205765</td>\n",
              "      <td>1745</td>\n",
              "      <td>Scotland Street</td>\n",
              "      <td>Corner with Royal Crescent</td>\n",
              "      <td>55.960380</td>\n",
              "      <td>-3.195470</td>\n",
              "    </tr>\n",
              "    <tr>\n",
              "      <th>12602</th>\n",
              "      <td>2021-05-31 23:16:05.243000+00:00</td>\n",
              "      <td>2021-05-31 23:36:46.037000+00:00</td>\n",
              "      <td>1240</td>\n",
              "      <td>1050</td>\n",
              "      <td>EICC</td>\n",
              "      <td>Outside Edinburgh International Conference Centre</td>\n",
              "      <td>55.946071</td>\n",
              "      <td>-3.210396</td>\n",
              "      <td>1824</td>\n",
              "      <td>Duke Street</td>\n",
              "      <td>Junction with Easter Road</td>\n",
              "      <td>55.969012</td>\n",
              "      <td>-3.167395</td>\n",
              "    </tr>\n",
              "    <tr>\n",
              "      <th>12603</th>\n",
              "      <td>2021-05-31 23:33:48.579000+00:00</td>\n",
              "      <td>2021-05-31 23:52:51.959000+00:00</td>\n",
              "      <td>1143</td>\n",
              "      <td>1096</td>\n",
              "      <td>West Crosscauseway</td>\n",
              "      <td>On island next to Buccleuch Street</td>\n",
              "      <td>55.943836</td>\n",
              "      <td>-3.184951</td>\n",
              "      <td>1729</td>\n",
              "      <td>McDonald Road</td>\n",
              "      <td>Next to Fire Station</td>\n",
              "      <td>55.964031</td>\n",
              "      <td>-3.185175</td>\n",
              "    </tr>\n",
              "    <tr>\n",
              "      <th>12604</th>\n",
              "      <td>2021-05-31 23:35:26.487000+00:00</td>\n",
              "      <td>2021-05-31 23:52:53.068000+00:00</td>\n",
              "      <td>1046</td>\n",
              "      <td>247</td>\n",
              "      <td>Charlotte Square</td>\n",
              "      <td>North Corner of Charlotte Square</td>\n",
              "      <td>55.952335</td>\n",
              "      <td>-3.207101</td>\n",
              "      <td>1091</td>\n",
              "      <td>Holyrood Road</td>\n",
              "      <td>Opposite St Leonards Land</td>\n",
              "      <td>55.949560</td>\n",
              "      <td>-3.180413</td>\n",
              "    </tr>\n",
              "    <tr>\n",
              "      <th>12605</th>\n",
              "      <td>2021-05-31 23:52:27.715000+00:00</td>\n",
              "      <td>2021-06-01 00:01:03.126000+00:00</td>\n",
              "      <td>515</td>\n",
              "      <td>1729</td>\n",
              "      <td>McDonald Road</td>\n",
              "      <td>Next to Fire Station</td>\n",
              "      <td>55.964031</td>\n",
              "      <td>-3.185175</td>\n",
              "      <td>250</td>\n",
              "      <td>Victoria Quay</td>\n",
              "      <td>Entrance to Scottish Government Office</td>\n",
              "      <td>55.977617</td>\n",
              "      <td>-3.174126</td>\n",
              "    </tr>\n",
              "  </tbody>\n",
              "</table>\n",
              "</div>"
            ],
            "text/plain": [
              "                             started_at  ... end_station_longitude\n",
              "12601  2021-05-31 23:13:57.978000+00:00  ...             -3.195470\n",
              "12602  2021-05-31 23:16:05.243000+00:00  ...             -3.167395\n",
              "12603  2021-05-31 23:33:48.579000+00:00  ...             -3.185175\n",
              "12604  2021-05-31 23:35:26.487000+00:00  ...             -3.180413\n",
              "12605  2021-05-31 23:52:27.715000+00:00  ...             -3.174126\n",
              "\n",
              "[5 rows x 13 columns]"
            ]
          },
          "metadata": {
            "tags": []
          },
          "execution_count": 44
        }
      ]
    },
    {
      "cell_type": "markdown",
      "metadata": {
        "id": "QrTITcMlZVAR"
      },
      "source": [
        "DATA DESCRIPTION"
      ]
    },
    {
      "cell_type": "code",
      "metadata": {
        "id": "3UT3obCnWti-",
        "colab": {
          "base_uri": "https://localhost:8080/"
        },
        "outputId": "8b365d95-1796-4b4c-a5ae-7bcfb51dbbfc"
      },
      "source": [
        "Ed_Bike_2021.columns"
      ],
      "execution_count": 45,
      "outputs": [
        {
          "output_type": "execute_result",
          "data": {
            "text/plain": [
              "Index(['started_at', 'ended_at', 'duration', 'start_station_id',\n",
              "       'start_station_name', 'start_station_description',\n",
              "       'start_station_latitude', 'start_station_longitude', 'end_station_id',\n",
              "       'end_station_name', 'end_station_description', 'end_station_latitude',\n",
              "       'end_station_longitude'],\n",
              "      dtype='object')"
            ]
          },
          "metadata": {
            "tags": []
          },
          "execution_count": 45
        }
      ]
    },
    {
      "cell_type": "code",
      "metadata": {
        "id": "LF5-oy0tW0yV",
        "colab": {
          "base_uri": "https://localhost:8080/",
          "height": 297
        },
        "outputId": "1a2175b4-acf1-4033-9789-09dc09366216"
      },
      "source": [
        "Ed_Bike_2021.describe()"
      ],
      "execution_count": 46,
      "outputs": [
        {
          "output_type": "execute_result",
          "data": {
            "text/html": [
              "<div>\n",
              "<style scoped>\n",
              "    .dataframe tbody tr th:only-of-type {\n",
              "        vertical-align: middle;\n",
              "    }\n",
              "\n",
              "    .dataframe tbody tr th {\n",
              "        vertical-align: top;\n",
              "    }\n",
              "\n",
              "    .dataframe thead th {\n",
              "        text-align: right;\n",
              "    }\n",
              "</style>\n",
              "<table border=\"1\" class=\"dataframe\">\n",
              "  <thead>\n",
              "    <tr style=\"text-align: right;\">\n",
              "      <th></th>\n",
              "      <th>duration</th>\n",
              "      <th>start_station_id</th>\n",
              "      <th>start_station_latitude</th>\n",
              "      <th>start_station_longitude</th>\n",
              "      <th>end_station_id</th>\n",
              "      <th>end_station_latitude</th>\n",
              "      <th>end_station_longitude</th>\n",
              "    </tr>\n",
              "  </thead>\n",
              "  <tbody>\n",
              "    <tr>\n",
              "      <th>count</th>\n",
              "      <td>51856.000000</td>\n",
              "      <td>51856.000000</td>\n",
              "      <td>51856.000000</td>\n",
              "      <td>51856.000000</td>\n",
              "      <td>51856.000000</td>\n",
              "      <td>51856.000000</td>\n",
              "      <td>51856.000000</td>\n",
              "    </tr>\n",
              "    <tr>\n",
              "      <th>mean</th>\n",
              "      <td>2103.003953</td>\n",
              "      <td>1141.948569</td>\n",
              "      <td>55.949682</td>\n",
              "      <td>-3.194467</td>\n",
              "      <td>1213.638383</td>\n",
              "      <td>55.951868</td>\n",
              "      <td>-3.191987</td>\n",
              "    </tr>\n",
              "    <tr>\n",
              "      <th>std</th>\n",
              "      <td>2149.692109</td>\n",
              "      <td>681.672390</td>\n",
              "      <td>0.013666</td>\n",
              "      <td>0.042966</td>\n",
              "      <td>676.440361</td>\n",
              "      <td>0.014454</td>\n",
              "      <td>0.047250</td>\n",
              "    </tr>\n",
              "    <tr>\n",
              "      <th>min</th>\n",
              "      <td>61.000000</td>\n",
              "      <td>171.000000</td>\n",
              "      <td>55.908413</td>\n",
              "      <td>-3.407156</td>\n",
              "      <td>171.000000</td>\n",
              "      <td>55.908413</td>\n",
              "      <td>-3.407156</td>\n",
              "    </tr>\n",
              "    <tr>\n",
              "      <th>25%</th>\n",
              "      <td>710.000000</td>\n",
              "      <td>265.000000</td>\n",
              "      <td>55.940081</td>\n",
              "      <td>-3.207101</td>\n",
              "      <td>265.000000</td>\n",
              "      <td>55.940238</td>\n",
              "      <td>-3.208070</td>\n",
              "    </tr>\n",
              "    <tr>\n",
              "      <th>50%</th>\n",
              "      <td>1429.000000</td>\n",
              "      <td>1093.000000</td>\n",
              "      <td>55.947097</td>\n",
              "      <td>-3.191890</td>\n",
              "      <td>1721.000000</td>\n",
              "      <td>55.951501</td>\n",
              "      <td>-3.188311</td>\n",
              "    </tr>\n",
              "    <tr>\n",
              "      <th>75%</th>\n",
              "      <td>2871.000000</td>\n",
              "      <td>1754.000000</td>\n",
              "      <td>55.957915</td>\n",
              "      <td>-3.176180</td>\n",
              "      <td>1757.000000</td>\n",
              "      <td>55.960380</td>\n",
              "      <td>-3.174126</td>\n",
              "    </tr>\n",
              "    <tr>\n",
              "      <th>max</th>\n",
              "      <td>27006.000000</td>\n",
              "      <td>2268.000000</td>\n",
              "      <td>55.992957</td>\n",
              "      <td>-3.058307</td>\n",
              "      <td>2268.000000</td>\n",
              "      <td>55.992957</td>\n",
              "      <td>-3.058307</td>\n",
              "    </tr>\n",
              "  </tbody>\n",
              "</table>\n",
              "</div>"
            ],
            "text/plain": [
              "           duration  ...  end_station_longitude\n",
              "count  51856.000000  ...           51856.000000\n",
              "mean    2103.003953  ...              -3.191987\n",
              "std     2149.692109  ...               0.047250\n",
              "min       61.000000  ...              -3.407156\n",
              "25%      710.000000  ...              -3.208070\n",
              "50%     1429.000000  ...              -3.188311\n",
              "75%     2871.000000  ...              -3.174126\n",
              "max    27006.000000  ...              -3.058307\n",
              "\n",
              "[8 rows x 7 columns]"
            ]
          },
          "metadata": {
            "tags": []
          },
          "execution_count": 46
        }
      ]
    },
    {
      "cell_type": "code",
      "metadata": {
        "id": "DZqIuha5W9jm",
        "colab": {
          "base_uri": "https://localhost:8080/"
        },
        "outputId": "ad56ea37-0781-402b-996d-d34e3d2ca363"
      },
      "source": [
        "Ed_Bike_2021.info()"
      ],
      "execution_count": 47,
      "outputs": [
        {
          "output_type": "stream",
          "text": [
            "<class 'pandas.core.frame.DataFrame'>\n",
            "Int64Index: 51856 entries, 0 to 12605\n",
            "Data columns (total 13 columns):\n",
            " #   Column                     Non-Null Count  Dtype  \n",
            "---  ------                     --------------  -----  \n",
            " 0   started_at                 51856 non-null  object \n",
            " 1   ended_at                   51856 non-null  object \n",
            " 2   duration                   51856 non-null  int64  \n",
            " 3   start_station_id           51856 non-null  int64  \n",
            " 4   start_station_name         51856 non-null  object \n",
            " 5   start_station_description  51102 non-null  object \n",
            " 6   start_station_latitude     51856 non-null  float64\n",
            " 7   start_station_longitude    51856 non-null  float64\n",
            " 8   end_station_id             51856 non-null  int64  \n",
            " 9   end_station_name           51856 non-null  object \n",
            " 10  end_station_description    50933 non-null  object \n",
            " 11  end_station_latitude       51856 non-null  float64\n",
            " 12  end_station_longitude      51856 non-null  float64\n",
            "dtypes: float64(4), int64(3), object(6)\n",
            "memory usage: 5.5+ MB\n"
          ],
          "name": "stdout"
        }
      ]
    },
    {
      "cell_type": "code",
      "metadata": {
        "id": "NO-E_gDUXGTg",
        "colab": {
          "base_uri": "https://localhost:8080/"
        },
        "outputId": "d8a81445-fe10-471d-dfec-44967717b887"
      },
      "source": [
        "# check missing value\n",
        "Ed_Bike_2021.isnull().sum()"
      ],
      "execution_count": 48,
      "outputs": [
        {
          "output_type": "execute_result",
          "data": {
            "text/plain": [
              "started_at                     0\n",
              "ended_at                       0\n",
              "duration                       0\n",
              "start_station_id               0\n",
              "start_station_name             0\n",
              "start_station_description    754\n",
              "start_station_latitude         0\n",
              "start_station_longitude        0\n",
              "end_station_id                 0\n",
              "end_station_name               0\n",
              "end_station_description      923\n",
              "end_station_latitude           0\n",
              "end_station_longitude          0\n",
              "dtype: int64"
            ]
          },
          "metadata": {
            "tags": []
          },
          "execution_count": 48
        }
      ]
    },
    {
      "cell_type": "code",
      "metadata": {
        "id": "L0S2l4RPXX6J"
      },
      "source": [
        ""
      ],
      "execution_count": 48,
      "outputs": []
    },
    {
      "cell_type": "markdown",
      "metadata": {
        "id": "R61fZ6gDXYSu"
      },
      "source": [
        "DATA PREPARATION"
      ]
    },
    {
      "cell_type": "code",
      "metadata": {
        "id": "penIU6pMU7pO",
        "colab": {
          "base_uri": "https://localhost:8080/"
        },
        "outputId": "ed6d9527-f364-444e-cc25-653cf819f73b"
      },
      "source": [
        "# change some format\n",
        "Ed_Bike_2021['started_at'] = pd.to_datetime(Ed_Bike_2021['started_at'])\n",
        "Ed_Bike_2021['ended_at'] = pd.to_datetime(Ed_Bike_2021['ended_at'])\n",
        "Ed_Bike_2021.info()\n"
      ],
      "execution_count": 49,
      "outputs": [
        {
          "output_type": "stream",
          "text": [
            "<class 'pandas.core.frame.DataFrame'>\n",
            "Int64Index: 51856 entries, 0 to 12605\n",
            "Data columns (total 13 columns):\n",
            " #   Column                     Non-Null Count  Dtype              \n",
            "---  ------                     --------------  -----              \n",
            " 0   started_at                 51856 non-null  datetime64[ns, UTC]\n",
            " 1   ended_at                   51856 non-null  datetime64[ns, UTC]\n",
            " 2   duration                   51856 non-null  int64              \n",
            " 3   start_station_id           51856 non-null  int64              \n",
            " 4   start_station_name         51856 non-null  object             \n",
            " 5   start_station_description  51102 non-null  object             \n",
            " 6   start_station_latitude     51856 non-null  float64            \n",
            " 7   start_station_longitude    51856 non-null  float64            \n",
            " 8   end_station_id             51856 non-null  int64              \n",
            " 9   end_station_name           51856 non-null  object             \n",
            " 10  end_station_description    50933 non-null  object             \n",
            " 11  end_station_latitude       51856 non-null  float64            \n",
            " 12  end_station_longitude      51856 non-null  float64            \n",
            "dtypes: datetime64[ns, UTC](2), float64(4), int64(3), object(4)\n",
            "memory usage: 5.5+ MB\n"
          ],
          "name": "stdout"
        }
      ]
    },
    {
      "cell_type": "code",
      "metadata": {
        "colab": {
          "base_uri": "https://localhost:8080/",
          "height": 609
        },
        "id": "4LVuGdtSgw9F",
        "outputId": "10189d4c-2f33-4e6d-bcd9-46e27a42ba88"
      },
      "source": [
        "Ed_Bike_2021['month'] = Ed_Bike_2021['started_at'].dt.month_name()\n",
        "Ed_Bike_2021"
      ],
      "execution_count": 50,
      "outputs": [
        {
          "output_type": "execute_result",
          "data": {
            "text/html": [
              "<div>\n",
              "<style scoped>\n",
              "    .dataframe tbody tr th:only-of-type {\n",
              "        vertical-align: middle;\n",
              "    }\n",
              "\n",
              "    .dataframe tbody tr th {\n",
              "        vertical-align: top;\n",
              "    }\n",
              "\n",
              "    .dataframe thead th {\n",
              "        text-align: right;\n",
              "    }\n",
              "</style>\n",
              "<table border=\"1\" class=\"dataframe\">\n",
              "  <thead>\n",
              "    <tr style=\"text-align: right;\">\n",
              "      <th></th>\n",
              "      <th>started_at</th>\n",
              "      <th>ended_at</th>\n",
              "      <th>duration</th>\n",
              "      <th>start_station_id</th>\n",
              "      <th>start_station_name</th>\n",
              "      <th>start_station_description</th>\n",
              "      <th>start_station_latitude</th>\n",
              "      <th>start_station_longitude</th>\n",
              "      <th>end_station_id</th>\n",
              "      <th>end_station_name</th>\n",
              "      <th>end_station_description</th>\n",
              "      <th>end_station_latitude</th>\n",
              "      <th>end_station_longitude</th>\n",
              "      <th>month</th>\n",
              "    </tr>\n",
              "  </thead>\n",
              "  <tbody>\n",
              "    <tr>\n",
              "      <th>0</th>\n",
              "      <td>2021-01-01 00:48:42.884000+00:00</td>\n",
              "      <td>2021-01-01 00:52:04.432000+00:00</td>\n",
              "      <td>201</td>\n",
              "      <td>1024</td>\n",
              "      <td>Meadow Place</td>\n",
              "      <td>End of Meadow Place</td>\n",
              "      <td>55.940238</td>\n",
              "      <td>-3.194640</td>\n",
              "      <td>265</td>\n",
              "      <td>Meadows East</td>\n",
              "      <td>Between Melville Terrace and Sciennes</td>\n",
              "      <td>55.939809</td>\n",
              "      <td>-3.182739</td>\n",
              "      <td>January</td>\n",
              "    </tr>\n",
              "    <tr>\n",
              "      <th>1</th>\n",
              "      <td>2021-01-01 00:52:12.457000+00:00</td>\n",
              "      <td>2021-01-01 01:00:37.449000+00:00</td>\n",
              "      <td>504</td>\n",
              "      <td>265</td>\n",
              "      <td>Meadows East</td>\n",
              "      <td>Between Melville Terrace and Sciennes</td>\n",
              "      <td>55.939809</td>\n",
              "      <td>-3.182739</td>\n",
              "      <td>1818</td>\n",
              "      <td>Dynamic Earth</td>\n",
              "      <td>Outside Dynamic Earth, Holyrood Road</td>\n",
              "      <td>55.951089</td>\n",
              "      <td>-3.175725</td>\n",
              "      <td>January</td>\n",
              "    </tr>\n",
              "    <tr>\n",
              "      <th>2</th>\n",
              "      <td>2021-01-01 00:55:14.884000+00:00</td>\n",
              "      <td>2021-01-01 01:12:52.893000+00:00</td>\n",
              "      <td>1058</td>\n",
              "      <td>183</td>\n",
              "      <td>Waverley Bridge</td>\n",
              "      <td>near the top of the South ramp</td>\n",
              "      <td>55.951981</td>\n",
              "      <td>-3.191890</td>\n",
              "      <td>1092</td>\n",
              "      <td>Dalry Road Lidl</td>\n",
              "      <td>NaN</td>\n",
              "      <td>55.941791</td>\n",
              "      <td>-3.222415</td>\n",
              "      <td>January</td>\n",
              "    </tr>\n",
              "    <tr>\n",
              "      <th>3</th>\n",
              "      <td>2021-01-01 00:55:15.217000+00:00</td>\n",
              "      <td>2021-01-01 01:13:15.643000+00:00</td>\n",
              "      <td>1080</td>\n",
              "      <td>183</td>\n",
              "      <td>Waverley Bridge</td>\n",
              "      <td>near the top of the South ramp</td>\n",
              "      <td>55.951981</td>\n",
              "      <td>-3.191890</td>\n",
              "      <td>1092</td>\n",
              "      <td>Dalry Road Lidl</td>\n",
              "      <td>NaN</td>\n",
              "      <td>55.941791</td>\n",
              "      <td>-3.222415</td>\n",
              "      <td>January</td>\n",
              "    </tr>\n",
              "    <tr>\n",
              "      <th>4</th>\n",
              "      <td>2021-01-01 00:55:22.724000+00:00</td>\n",
              "      <td>2021-01-01 01:00:20.668000+00:00</td>\n",
              "      <td>297</td>\n",
              "      <td>1096</td>\n",
              "      <td>West Crosscauseway</td>\n",
              "      <td>On island next to Buccleuch Street</td>\n",
              "      <td>55.943836</td>\n",
              "      <td>-3.184951</td>\n",
              "      <td>1727</td>\n",
              "      <td>Causewayside</td>\n",
              "      <td>Outside National Library of Scotland</td>\n",
              "      <td>55.936506</td>\n",
              "      <td>-3.180166</td>\n",
              "      <td>January</td>\n",
              "    </tr>\n",
              "    <tr>\n",
              "      <th>...</th>\n",
              "      <td>...</td>\n",
              "      <td>...</td>\n",
              "      <td>...</td>\n",
              "      <td>...</td>\n",
              "      <td>...</td>\n",
              "      <td>...</td>\n",
              "      <td>...</td>\n",
              "      <td>...</td>\n",
              "      <td>...</td>\n",
              "      <td>...</td>\n",
              "      <td>...</td>\n",
              "      <td>...</td>\n",
              "      <td>...</td>\n",
              "      <td>...</td>\n",
              "    </tr>\n",
              "    <tr>\n",
              "      <th>12601</th>\n",
              "      <td>2021-05-31 23:13:57.978000+00:00</td>\n",
              "      <td>2021-05-31 23:25:46.037000+00:00</td>\n",
              "      <td>708</td>\n",
              "      <td>1039</td>\n",
              "      <td>Lothian Road</td>\n",
              "      <td>Outside the Usher Hall</td>\n",
              "      <td>55.947409</td>\n",
              "      <td>-3.205765</td>\n",
              "      <td>1745</td>\n",
              "      <td>Scotland Street</td>\n",
              "      <td>Corner with Royal Crescent</td>\n",
              "      <td>55.960380</td>\n",
              "      <td>-3.195470</td>\n",
              "      <td>May</td>\n",
              "    </tr>\n",
              "    <tr>\n",
              "      <th>12602</th>\n",
              "      <td>2021-05-31 23:16:05.243000+00:00</td>\n",
              "      <td>2021-05-31 23:36:46.037000+00:00</td>\n",
              "      <td>1240</td>\n",
              "      <td>1050</td>\n",
              "      <td>EICC</td>\n",
              "      <td>Outside Edinburgh International Conference Centre</td>\n",
              "      <td>55.946071</td>\n",
              "      <td>-3.210396</td>\n",
              "      <td>1824</td>\n",
              "      <td>Duke Street</td>\n",
              "      <td>Junction with Easter Road</td>\n",
              "      <td>55.969012</td>\n",
              "      <td>-3.167395</td>\n",
              "      <td>May</td>\n",
              "    </tr>\n",
              "    <tr>\n",
              "      <th>12603</th>\n",
              "      <td>2021-05-31 23:33:48.579000+00:00</td>\n",
              "      <td>2021-05-31 23:52:51.959000+00:00</td>\n",
              "      <td>1143</td>\n",
              "      <td>1096</td>\n",
              "      <td>West Crosscauseway</td>\n",
              "      <td>On island next to Buccleuch Street</td>\n",
              "      <td>55.943836</td>\n",
              "      <td>-3.184951</td>\n",
              "      <td>1729</td>\n",
              "      <td>McDonald Road</td>\n",
              "      <td>Next to Fire Station</td>\n",
              "      <td>55.964031</td>\n",
              "      <td>-3.185175</td>\n",
              "      <td>May</td>\n",
              "    </tr>\n",
              "    <tr>\n",
              "      <th>12604</th>\n",
              "      <td>2021-05-31 23:35:26.487000+00:00</td>\n",
              "      <td>2021-05-31 23:52:53.068000+00:00</td>\n",
              "      <td>1046</td>\n",
              "      <td>247</td>\n",
              "      <td>Charlotte Square</td>\n",
              "      <td>North Corner of Charlotte Square</td>\n",
              "      <td>55.952335</td>\n",
              "      <td>-3.207101</td>\n",
              "      <td>1091</td>\n",
              "      <td>Holyrood Road</td>\n",
              "      <td>Opposite St Leonards Land</td>\n",
              "      <td>55.949560</td>\n",
              "      <td>-3.180413</td>\n",
              "      <td>May</td>\n",
              "    </tr>\n",
              "    <tr>\n",
              "      <th>12605</th>\n",
              "      <td>2021-05-31 23:52:27.715000+00:00</td>\n",
              "      <td>2021-06-01 00:01:03.126000+00:00</td>\n",
              "      <td>515</td>\n",
              "      <td>1729</td>\n",
              "      <td>McDonald Road</td>\n",
              "      <td>Next to Fire Station</td>\n",
              "      <td>55.964031</td>\n",
              "      <td>-3.185175</td>\n",
              "      <td>250</td>\n",
              "      <td>Victoria Quay</td>\n",
              "      <td>Entrance to Scottish Government Office</td>\n",
              "      <td>55.977617</td>\n",
              "      <td>-3.174126</td>\n",
              "      <td>May</td>\n",
              "    </tr>\n",
              "  </tbody>\n",
              "</table>\n",
              "<p>51856 rows × 14 columns</p>\n",
              "</div>"
            ],
            "text/plain": [
              "                            started_at  ...    month\n",
              "0     2021-01-01 00:48:42.884000+00:00  ...  January\n",
              "1     2021-01-01 00:52:12.457000+00:00  ...  January\n",
              "2     2021-01-01 00:55:14.884000+00:00  ...  January\n",
              "3     2021-01-01 00:55:15.217000+00:00  ...  January\n",
              "4     2021-01-01 00:55:22.724000+00:00  ...  January\n",
              "...                                ...  ...      ...\n",
              "12601 2021-05-31 23:13:57.978000+00:00  ...      May\n",
              "12602 2021-05-31 23:16:05.243000+00:00  ...      May\n",
              "12603 2021-05-31 23:33:48.579000+00:00  ...      May\n",
              "12604 2021-05-31 23:35:26.487000+00:00  ...      May\n",
              "12605 2021-05-31 23:52:27.715000+00:00  ...      May\n",
              "\n",
              "[51856 rows x 14 columns]"
            ]
          },
          "metadata": {
            "tags": []
          },
          "execution_count": 50
        }
      ]
    },
    {
      "cell_type": "code",
      "metadata": {
        "id": "lOZhBa3Nb9tF",
        "colab": {
          "base_uri": "https://localhost:8080/",
          "height": 204
        },
        "outputId": "9a2863e0-3f72-44db-c328-367c2f8ba54c"
      },
      "source": [
        "Ed_Bike_2021['month'].value_counts()\n",
        "month = Ed_Bike_2021.month.value_counts().to_frame().reset_index()\n",
        "month.rename(columns={'index':'month','month':'journeys'}, inplace=True)\n",
        "month"
      ],
      "execution_count": 51,
      "outputs": [
        {
          "output_type": "execute_result",
          "data": {
            "text/html": [
              "<div>\n",
              "<style scoped>\n",
              "    .dataframe tbody tr th:only-of-type {\n",
              "        vertical-align: middle;\n",
              "    }\n",
              "\n",
              "    .dataframe tbody tr th {\n",
              "        vertical-align: top;\n",
              "    }\n",
              "\n",
              "    .dataframe thead th {\n",
              "        text-align: right;\n",
              "    }\n",
              "</style>\n",
              "<table border=\"1\" class=\"dataframe\">\n",
              "  <thead>\n",
              "    <tr style=\"text-align: right;\">\n",
              "      <th></th>\n",
              "      <th>month</th>\n",
              "      <th>journeys</th>\n",
              "    </tr>\n",
              "  </thead>\n",
              "  <tbody>\n",
              "    <tr>\n",
              "      <th>0</th>\n",
              "      <td>April</td>\n",
              "      <td>14785</td>\n",
              "    </tr>\n",
              "    <tr>\n",
              "      <th>1</th>\n",
              "      <td>March</td>\n",
              "      <td>13279</td>\n",
              "    </tr>\n",
              "    <tr>\n",
              "      <th>2</th>\n",
              "      <td>May</td>\n",
              "      <td>12606</td>\n",
              "    </tr>\n",
              "    <tr>\n",
              "      <th>3</th>\n",
              "      <td>February</td>\n",
              "      <td>6559</td>\n",
              "    </tr>\n",
              "    <tr>\n",
              "      <th>4</th>\n",
              "      <td>January</td>\n",
              "      <td>4627</td>\n",
              "    </tr>\n",
              "  </tbody>\n",
              "</table>\n",
              "</div>"
            ],
            "text/plain": [
              "      month  journeys\n",
              "0     April     14785\n",
              "1     March     13279\n",
              "2       May     12606\n",
              "3  February      6559\n",
              "4   January      4627"
            ]
          },
          "metadata": {
            "tags": []
          },
          "execution_count": 51
        }
      ]
    },
    {
      "cell_type": "code",
      "metadata": {
        "colab": {
          "base_uri": "https://localhost:8080/",
          "height": 325
        },
        "id": "GYXCH9nNqqmu",
        "outputId": "ff23f81c-e9de-4e5c-9e02-d05ed315e9e5"
      },
      "source": [
        "sns.barplot(data = month\n",
        "            ,x = 'month'\n",
        "            ,y = 'journeys'\n",
        "            )\n",
        "plt.xticks(rotation = 45\n",
        "           )\n",
        " \n"
      ],
      "execution_count": 52,
      "outputs": [
        {
          "output_type": "execute_result",
          "data": {
            "text/plain": [
              "(array([0, 1, 2, 3, 4]), <a list of 5 Text major ticklabel objects>)"
            ]
          },
          "metadata": {
            "tags": []
          },
          "execution_count": 52
        },
        {
          "output_type": "display_data",
          "data": {
            "image/png": "[encoded data removed]",
            "text/plain": [
              "<Figure size 432x288 with 1 Axes>"
            ]
          },
          "metadata": {
            "tags": [],
            "needs_background": "light"
          }
        }
      ]
    },
    {
      "cell_type": "markdown",
      "metadata": {
        "id": "vDw9hQh0sQXo"
      },
      "source": [
        "April had the highes number of journeys.in "
      ]
    },
    {
      "cell_type": "code",
      "metadata": {
        "id": "TI01O5nCt33I"
      },
      "source": [
        ""
      ],
      "execution_count": 52,
      "outputs": []
    },
    {
      "cell_type": "code",
      "metadata": {
        "colab": {
          "base_uri": "https://localhost:8080/",
          "height": 609
        },
        "id": "Z2M68UuKhsrs",
        "outputId": "f5c4f8e2-7e09-41bb-d97f-088283581cbb"
      },
      "source": [
        "Week_day = Ed_Bike_2021['week_day'] = Ed_Bike_2021['started_at'].dt.day_name()\n",
        "Ed_Bike_2021"
      ],
      "execution_count": 53,
      "outputs": [
        {
          "output_type": "execute_result",
          "data": {
            "text/html": [
              "<div>\n",
              "<style scoped>\n",
              "    .dataframe tbody tr th:only-of-type {\n",
              "        vertical-align: middle;\n",
              "    }\n",
              "\n",
              "    .dataframe tbody tr th {\n",
              "        vertical-align: top;\n",
              "    }\n",
              "\n",
              "    .dataframe thead th {\n",
              "        text-align: right;\n",
              "    }\n",
              "</style>\n",
              "<table border=\"1\" class=\"dataframe\">\n",
              "  <thead>\n",
              "    <tr style=\"text-align: right;\">\n",
              "      <th></th>\n",
              "      <th>started_at</th>\n",
              "      <th>ended_at</th>\n",
              "      <th>duration</th>\n",
              "      <th>start_station_id</th>\n",
              "      <th>start_station_name</th>\n",
              "      <th>start_station_description</th>\n",
              "      <th>start_station_latitude</th>\n",
              "      <th>start_station_longitude</th>\n",
              "      <th>end_station_id</th>\n",
              "      <th>end_station_name</th>\n",
              "      <th>end_station_description</th>\n",
              "      <th>end_station_latitude</th>\n",
              "      <th>end_station_longitude</th>\n",
              "      <th>month</th>\n",
              "      <th>week_day</th>\n",
              "    </tr>\n",
              "  </thead>\n",
              "  <tbody>\n",
              "    <tr>\n",
              "      <th>0</th>\n",
              "      <td>2021-01-01 00:48:42.884000+00:00</td>\n",
              "      <td>2021-01-01 00:52:04.432000+00:00</td>\n",
              "      <td>201</td>\n",
              "      <td>1024</td>\n",
              "      <td>Meadow Place</td>\n",
              "      <td>End of Meadow Place</td>\n",
              "      <td>55.940238</td>\n",
              "      <td>-3.194640</td>\n",
              "      <td>265</td>\n",
              "      <td>Meadows East</td>\n",
              "      <td>Between Melville Terrace and Sciennes</td>\n",
              "      <td>55.939809</td>\n",
              "      <td>-3.182739</td>\n",
              "      <td>January</td>\n",
              "      <td>Friday</td>\n",
              "    </tr>\n",
              "    <tr>\n",
              "      <th>1</th>\n",
              "      <td>2021-01-01 00:52:12.457000+00:00</td>\n",
              "      <td>2021-01-01 01:00:37.449000+00:00</td>\n",
              "      <td>504</td>\n",
              "      <td>265</td>\n",
              "      <td>Meadows East</td>\n",
              "      <td>Between Melville Terrace and Sciennes</td>\n",
              "      <td>55.939809</td>\n",
              "      <td>-3.182739</td>\n",
              "      <td>1818</td>\n",
              "      <td>Dynamic Earth</td>\n",
              "      <td>Outside Dynamic Earth, Holyrood Road</td>\n",
              "      <td>55.951089</td>\n",
              "      <td>-3.175725</td>\n",
              "      <td>January</td>\n",
              "      <td>Friday</td>\n",
              "    </tr>\n",
              "    <tr>\n",
              "      <th>2</th>\n",
              "      <td>2021-01-01 00:55:14.884000+00:00</td>\n",
              "      <td>2021-01-01 01:12:52.893000+00:00</td>\n",
              "      <td>1058</td>\n",
              "      <td>183</td>\n",
              "      <td>Waverley Bridge</td>\n",
              "      <td>near the top of the South ramp</td>\n",
              "      <td>55.951981</td>\n",
              "      <td>-3.191890</td>\n",
              "      <td>1092</td>\n",
              "      <td>Dalry Road Lidl</td>\n",
              "      <td>NaN</td>\n",
              "      <td>55.941791</td>\n",
              "      <td>-3.222415</td>\n",
              "      <td>January</td>\n",
              "      <td>Friday</td>\n",
              "    </tr>\n",
              "    <tr>\n",
              "      <th>3</th>\n",
              "      <td>2021-01-01 00:55:15.217000+00:00</td>\n",
              "      <td>2021-01-01 01:13:15.643000+00:00</td>\n",
              "      <td>1080</td>\n",
              "      <td>183</td>\n",
              "      <td>Waverley Bridge</td>\n",
              "      <td>near the top of the South ramp</td>\n",
              "      <td>55.951981</td>\n",
              "      <td>-3.191890</td>\n",
              "      <td>1092</td>\n",
              "      <td>Dalry Road Lidl</td>\n",
              "      <td>NaN</td>\n",
              "      <td>55.941791</td>\n",
              "      <td>-3.222415</td>\n",
              "      <td>January</td>\n",
              "      <td>Friday</td>\n",
              "    </tr>\n",
              "    <tr>\n",
              "      <th>4</th>\n",
              "      <td>2021-01-01 00:55:22.724000+00:00</td>\n",
              "      <td>2021-01-01 01:00:20.668000+00:00</td>\n",
              "      <td>297</td>\n",
              "      <td>1096</td>\n",
              "      <td>West Crosscauseway</td>\n",
              "      <td>On island next to Buccleuch Street</td>\n",
              "      <td>55.943836</td>\n",
              "      <td>-3.184951</td>\n",
              "      <td>1727</td>\n",
              "      <td>Causewayside</td>\n",
              "      <td>Outside National Library of Scotland</td>\n",
              "      <td>55.936506</td>\n",
              "      <td>-3.180166</td>\n",
              "      <td>January</td>\n",
              "      <td>Friday</td>\n",
              "    </tr>\n",
              "    <tr>\n",
              "      <th>...</th>\n",
              "      <td>...</td>\n",
              "      <td>...</td>\n",
              "      <td>...</td>\n",
              "      <td>...</td>\n",
              "      <td>...</td>\n",
              "      <td>...</td>\n",
              "      <td>...</td>\n",
              "      <td>...</td>\n",
              "      <td>...</td>\n",
              "      <td>...</td>\n",
              "      <td>...</td>\n",
              "      <td>...</td>\n",
              "      <td>...</td>\n",
              "      <td>...</td>\n",
              "      <td>...</td>\n",
              "    </tr>\n",
              "    <tr>\n",
              "      <th>12601</th>\n",
              "      <td>2021-05-31 23:13:57.978000+00:00</td>\n",
              "      <td>2021-05-31 23:25:46.037000+00:00</td>\n",
              "      <td>708</td>\n",
              "      <td>1039</td>\n",
              "      <td>Lothian Road</td>\n",
              "      <td>Outside the Usher Hall</td>\n",
              "      <td>55.947409</td>\n",
              "      <td>-3.205765</td>\n",
              "      <td>1745</td>\n",
              "      <td>Scotland Street</td>\n",
              "      <td>Corner with Royal Crescent</td>\n",
              "      <td>55.960380</td>\n",
              "      <td>-3.195470</td>\n",
              "      <td>May</td>\n",
              "      <td>Monday</td>\n",
              "    </tr>\n",
              "    <tr>\n",
              "      <th>12602</th>\n",
              "      <td>2021-05-31 23:16:05.243000+00:00</td>\n",
              "      <td>2021-05-31 23:36:46.037000+00:00</td>\n",
              "      <td>1240</td>\n",
              "      <td>1050</td>\n",
              "      <td>EICC</td>\n",
              "      <td>Outside Edinburgh International Conference Centre</td>\n",
              "      <td>55.946071</td>\n",
              "      <td>-3.210396</td>\n",
              "      <td>1824</td>\n",
              "      <td>Duke Street</td>\n",
              "      <td>Junction with Easter Road</td>\n",
              "      <td>55.969012</td>\n",
              "      <td>-3.167395</td>\n",
              "      <td>May</td>\n",
              "      <td>Monday</td>\n",
              "    </tr>\n",
              "    <tr>\n",
              "      <th>12603</th>\n",
              "      <td>2021-05-31 23:33:48.579000+00:00</td>\n",
              "      <td>2021-05-31 23:52:51.959000+00:00</td>\n",
              "      <td>1143</td>\n",
              "      <td>1096</td>\n",
              "      <td>West Crosscauseway</td>\n",
              "      <td>On island next to Buccleuch Street</td>\n",
              "      <td>55.943836</td>\n",
              "      <td>-3.184951</td>\n",
              "      <td>1729</td>\n",
              "      <td>McDonald Road</td>\n",
              "      <td>Next to Fire Station</td>\n",
              "      <td>55.964031</td>\n",
              "      <td>-3.185175</td>\n",
              "      <td>May</td>\n",
              "      <td>Monday</td>\n",
              "    </tr>\n",
              "    <tr>\n",
              "      <th>12604</th>\n",
              "      <td>2021-05-31 23:35:26.487000+00:00</td>\n",
              "      <td>2021-05-31 23:52:53.068000+00:00</td>\n",
              "      <td>1046</td>\n",
              "      <td>247</td>\n",
              "      <td>Charlotte Square</td>\n",
              "      <td>North Corner of Charlotte Square</td>\n",
              "      <td>55.952335</td>\n",
              "      <td>-3.207101</td>\n",
              "      <td>1091</td>\n",
              "      <td>Holyrood Road</td>\n",
              "      <td>Opposite St Leonards Land</td>\n",
              "      <td>55.949560</td>\n",
              "      <td>-3.180413</td>\n",
              "      <td>May</td>\n",
              "      <td>Monday</td>\n",
              "    </tr>\n",
              "    <tr>\n",
              "      <th>12605</th>\n",
              "      <td>2021-05-31 23:52:27.715000+00:00</td>\n",
              "      <td>2021-06-01 00:01:03.126000+00:00</td>\n",
              "      <td>515</td>\n",
              "      <td>1729</td>\n",
              "      <td>McDonald Road</td>\n",
              "      <td>Next to Fire Station</td>\n",
              "      <td>55.964031</td>\n",
              "      <td>-3.185175</td>\n",
              "      <td>250</td>\n",
              "      <td>Victoria Quay</td>\n",
              "      <td>Entrance to Scottish Government Office</td>\n",
              "      <td>55.977617</td>\n",
              "      <td>-3.174126</td>\n",
              "      <td>May</td>\n",
              "      <td>Monday</td>\n",
              "    </tr>\n",
              "  </tbody>\n",
              "</table>\n",
              "<p>51856 rows × 15 columns</p>\n",
              "</div>"
            ],
            "text/plain": [
              "                            started_at  ... week_day\n",
              "0     2021-01-01 00:48:42.884000+00:00  ...   Friday\n",
              "1     2021-01-01 00:52:12.457000+00:00  ...   Friday\n",
              "2     2021-01-01 00:55:14.884000+00:00  ...   Friday\n",
              "3     2021-01-01 00:55:15.217000+00:00  ...   Friday\n",
              "4     2021-01-01 00:55:22.724000+00:00  ...   Friday\n",
              "...                                ...  ...      ...\n",
              "12601 2021-05-31 23:13:57.978000+00:00  ...   Monday\n",
              "12602 2021-05-31 23:16:05.243000+00:00  ...   Monday\n",
              "12603 2021-05-31 23:33:48.579000+00:00  ...   Monday\n",
              "12604 2021-05-31 23:35:26.487000+00:00  ...   Monday\n",
              "12605 2021-05-31 23:52:27.715000+00:00  ...   Monday\n",
              "\n",
              "[51856 rows x 15 columns]"
            ]
          },
          "metadata": {
            "tags": []
          },
          "execution_count": 53
        }
      ]
    },
    {
      "cell_type": "code",
      "metadata": {
        "colab": {
          "base_uri": "https://localhost:8080/",
          "height": 266
        },
        "id": "DcbyBeTLiswy",
        "outputId": "0589cc2b-cd76-48dd-97b9-ca195507f544"
      },
      "source": [
        "Ed_Bike_2021['week_day'].value_counts()\n",
        "week_day = Ed_Bike_2021.week_day.value_counts().to_frame().reset_index()\n",
        "week_day.rename(columns={'index':'day','week_day':'journeys'}, inplace=True)\n",
        "week_day"
      ],
      "execution_count": 54,
      "outputs": [
        {
          "output_type": "execute_result",
          "data": {
            "text/html": [
              "<div>\n",
              "<style scoped>\n",
              "    .dataframe tbody tr th:only-of-type {\n",
              "        vertical-align: middle;\n",
              "    }\n",
              "\n",
              "    .dataframe tbody tr th {\n",
              "        vertical-align: top;\n",
              "    }\n",
              "\n",
              "    .dataframe thead th {\n",
              "        text-align: right;\n",
              "    }\n",
              "</style>\n",
              "<table border=\"1\" class=\"dataframe\">\n",
              "  <thead>\n",
              "    <tr style=\"text-align: right;\">\n",
              "      <th></th>\n",
              "      <th>day</th>\n",
              "      <th>journeys</th>\n",
              "    </tr>\n",
              "  </thead>\n",
              "  <tbody>\n",
              "    <tr>\n",
              "      <th>0</th>\n",
              "      <td>Saturday</td>\n",
              "      <td>9892</td>\n",
              "    </tr>\n",
              "    <tr>\n",
              "      <th>1</th>\n",
              "      <td>Sunday</td>\n",
              "      <td>8711</td>\n",
              "    </tr>\n",
              "    <tr>\n",
              "      <th>2</th>\n",
              "      <td>Friday</td>\n",
              "      <td>7751</td>\n",
              "    </tr>\n",
              "    <tr>\n",
              "      <th>3</th>\n",
              "      <td>Monday</td>\n",
              "      <td>6897</td>\n",
              "    </tr>\n",
              "    <tr>\n",
              "      <th>4</th>\n",
              "      <td>Wednesday</td>\n",
              "      <td>6274</td>\n",
              "    </tr>\n",
              "    <tr>\n",
              "      <th>5</th>\n",
              "      <td>Tuesday</td>\n",
              "      <td>6175</td>\n",
              "    </tr>\n",
              "    <tr>\n",
              "      <th>6</th>\n",
              "      <td>Thursday</td>\n",
              "      <td>6156</td>\n",
              "    </tr>\n",
              "  </tbody>\n",
              "</table>\n",
              "</div>"
            ],
            "text/plain": [
              "         day  journeys\n",
              "0   Saturday      9892\n",
              "1     Sunday      8711\n",
              "2     Friday      7751\n",
              "3     Monday      6897\n",
              "4  Wednesday      6274\n",
              "5    Tuesday      6175\n",
              "6   Thursday      6156"
            ]
          },
          "metadata": {
            "tags": []
          },
          "execution_count": 54
        }
      ]
    },
    {
      "cell_type": "markdown",
      "metadata": {
        "id": "uulU-XEOmWuk"
      },
      "source": [
        "1 Most popular day to hire bike\n"
      ]
    },
    {
      "cell_type": "code",
      "metadata": {
        "colab": {
          "base_uri": "https://localhost:8080/",
          "height": 334
        },
        "id": "-zvo8p-LkxcY",
        "outputId": "1ca6f9dd-f44a-4c1c-fe5e-58f096579417"
      },
      "source": [
        "\n",
        "sns.barplot(data = week_day\n",
        "            ,x = 'day'\n",
        "            ,y = 'journeys'\n",
        "            )\n",
        "plt.xticks(rotation = 45\n",
        "           )"
      ],
      "execution_count": 55,
      "outputs": [
        {
          "output_type": "execute_result",
          "data": {
            "text/plain": [
              "(array([0, 1, 2, 3, 4, 5, 6]), <a list of 7 Text major ticklabel objects>)"
            ]
          },
          "metadata": {
            "tags": []
          },
          "execution_count": 55
        },
        {
          "output_type": "display_data",
          "data": {
            "image/png": "[encoded data removed]",
            "text/plain": [
              "<Figure size 432x288 with 1 Axes>"
            ]
          },
          "metadata": {
            "tags": [],
            "needs_background": "light"
          }
        }
      ]
    },
    {
      "cell_type": "code",
      "metadata": {
        "colab": {
          "base_uri": "https://localhost:8080/",
          "height": 592
        },
        "id": "3Af11O_ht5EJ",
        "outputId": "7e3956d7-a95f-426e-c806-bd75c027d8d5"
      },
      "source": [
        "startstation = Ed_Bike_2021['start_station_name'].value_counts()[:50\n",
        "                                                                ]\n",
        "plt.figure(figsize=(12,10))\n",
        "sns.barplot( x=startstation.values , y=list(startstation.index), \n",
        " orient=\"h\"  ) ;"
      ],
      "execution_count": 56,
      "outputs": [
        {
          "output_type": "display_data",
          "data": {
            "image/png": "[encoded data removed]",
            "text/plain": [
              "<Figure size 864x720 with 1 Axes>"
            ]
          },
          "metadata": {
            "tags": [],
            "needs_background": "light"
          }
        }
      ]
    },
    {
      "cell_type": "code",
      "metadata": {
        "colab": {
          "base_uri": "https://localhost:8080/",
          "height": 592
        },
        "id": "VCF0X3hdvGld",
        "outputId": "8fcaf1d0-2006-4916-bc52-30ccb6210714"
      },
      "source": [
        "endstation = Ed_Bike_2021['end_station_name'].value_counts()[:50\n",
        "                                                                ]\n",
        "plt.figure(figsize=(12,10))\n",
        "sns.barplot( x=endstation.values , y=list(endstation.index), \n",
        " orient=\"h\"  ) ;"
      ],
      "execution_count": 57,
      "outputs": [
        {
          "output_type": "display_data",
          "data": {
            "image/png": "[encoded data removed]",
            "text/plain": [
              "<Figure size 864x720 with 1 Axes>"
            ]
          },
          "metadata": {
            "tags": [],
            "needs_background": "light"
          }
        }
      ]
    },
    {
      "cell_type": "code",
      "metadata": {
        "id": "HpG5ewsK9E6d",
        "outputId": "7617e34c-856e-4aa0-abb2-0c9668a45f36",
        "colab": {
          "base_uri": "https://localhost:8080/",
          "height": 419
        }
      },
      "source": [
        "coord = Ed_Bike_2021[['start_station_latitude','start_station_longitude']].drop_duplicates() \n",
        "coord"
      ],
      "execution_count": 73,
      "outputs": [
        {
          "output_type": "execute_result",
          "data": {
            "text/html": [
              "<div>\n",
              "<style scoped>\n",
              "    .dataframe tbody tr th:only-of-type {\n",
              "        vertical-align: middle;\n",
              "    }\n",
              "\n",
              "    .dataframe tbody tr th {\n",
              "        vertical-align: top;\n",
              "    }\n",
              "\n",
              "    .dataframe thead th {\n",
              "        text-align: right;\n",
              "    }\n",
              "</style>\n",
              "<table border=\"1\" class=\"dataframe\">\n",
              "  <thead>\n",
              "    <tr style=\"text-align: right;\">\n",
              "      <th></th>\n",
              "      <th>start_station_latitude</th>\n",
              "      <th>start_station_longitude</th>\n",
              "    </tr>\n",
              "  </thead>\n",
              "  <tbody>\n",
              "    <tr>\n",
              "      <th>0</th>\n",
              "      <td>55.940238</td>\n",
              "      <td>-3.194640</td>\n",
              "    </tr>\n",
              "    <tr>\n",
              "      <th>1</th>\n",
              "      <td>55.939809</td>\n",
              "      <td>-3.182739</td>\n",
              "    </tr>\n",
              "    <tr>\n",
              "      <th>2</th>\n",
              "      <td>55.951981</td>\n",
              "      <td>-3.191890</td>\n",
              "    </tr>\n",
              "    <tr>\n",
              "      <th>4</th>\n",
              "      <td>55.943836</td>\n",
              "      <td>-3.184951</td>\n",
              "    </tr>\n",
              "    <tr>\n",
              "      <th>6</th>\n",
              "      <td>55.953164</td>\n",
              "      <td>-3.181682</td>\n",
              "    </tr>\n",
              "    <tr>\n",
              "      <th>...</th>\n",
              "      <td>...</td>\n",
              "      <td>...</td>\n",
              "    </tr>\n",
              "    <tr>\n",
              "      <th>1648</th>\n",
              "      <td>55.981107</td>\n",
              "      <td>-3.394211</td>\n",
              "    </tr>\n",
              "    <tr>\n",
              "      <th>2209</th>\n",
              "      <td>55.992957</td>\n",
              "      <td>-3.407156</td>\n",
              "    </tr>\n",
              "    <tr>\n",
              "      <th>2323</th>\n",
              "      <td>55.926684</td>\n",
              "      <td>-3.289481</td>\n",
              "    </tr>\n",
              "    <tr>\n",
              "      <th>33</th>\n",
              "      <td>55.965176</td>\n",
              "      <td>-3.176180</td>\n",
              "    </tr>\n",
              "    <tr>\n",
              "      <th>9257</th>\n",
              "      <td>55.921354</td>\n",
              "      <td>-3.136971</td>\n",
              "    </tr>\n",
              "  </tbody>\n",
              "</table>\n",
              "<p>100 rows × 2 columns</p>\n",
              "</div>"
            ],
            "text/plain": [
              "      start_station_latitude  start_station_longitude\n",
              "0                  55.940238                -3.194640\n",
              "1                  55.939809                -3.182739\n",
              "2                  55.951981                -3.191890\n",
              "4                  55.943836                -3.184951\n",
              "6                  55.953164                -3.181682\n",
              "...                      ...                      ...\n",
              "1648               55.981107                -3.394211\n",
              "2209               55.992957                -3.407156\n",
              "2323               55.926684                -3.289481\n",
              "33                 55.965176                -3.176180\n",
              "9257               55.921354                -3.136971\n",
              "\n",
              "[100 rows x 2 columns]"
            ]
          },
          "metadata": {
            "tags": []
          },
          "execution_count": 73
        }
      ]
    },
    {
      "cell_type": "code",
      "metadata": {
        "id": "FUNnMU1L5GPv",
        "outputId": "cd62f2df-2d92-45ae-b9ee-58263d57c7cf",
        "colab": {
          "base_uri": "https://localhost:8080/",
          "height": 808
        }
      },
      "source": [
        "Ed_map = folium.Map(location=[ 55.940238\t,  -3.194640], zoom_start=12) # Determining the Edinburgh map using latitude and longitude data\n",
        "lat = coord['start_station_latitude'].values # taking the latitude values from the stations of the dataset Ed_Bike_2021\n",
        "long = coord['start_station_longitude'].values # taking the values of longitude of the stations of the dataset Ed_Bike_2021\n",
        "\n",
        "for la, lo in zip(lat, long): # for each value in lat and long...\n",
        "    folium.Marker([la, lo]).add_to(Ed_map) # create a marker and place in the map variable (\n",
        "Ed_map # Show the Map"
      ],
      "execution_count": 74,
      "outputs": [
        {
          "output_type": "execute_result",
          "data": {
            "text/html": [
              "<div style=\"width:100%;\"><div style=\"position:relative;width:100%;height:0;padding-bottom:60%;\"><span style=\"color:#565656\">Make this Notebook Trusted to load map: File -> Trust Notebook</span><iframe src=\"about:blank\" style=\"position:absolute;width:100%;height:100%;left:0;top:0;border:none !important;\" data-html=%3C%21DOCTYPE%20html%3E%0A%3Chead%3E%20%20%20%20%0A%20%20%20%20%3Cmeta%20http-equiv%3D%22content-type%22%20content%3D%22text/html%3B%20charset%3DUTF-8%22%20/%3E%0A%20%20%20%20%3Cscript%3EL_PREFER_CANVAS%3Dfalse%3B%20L_NO_TOUCH%3Dfalse%3B%20L_DISABLE_3D%3Dfalse%3B%3C/script%3E%0A%20%20%20%20%3Cscript%20src%3D%22https%3A//cdn.jsdelivr.net/npm/leaflet%401.4.0/dist/leaflet.js%22%3E%3C/script%3E%0A%20%20%20%20%3Cscript%20src%3D%22https%3A//code.jquery.com/jquery-1.12.4.min.js%22%3E%3C/script%3E%0A%20%20%20%20%3Cscript%20src%3D%22https%3A//maxcdn.bootstrapcdn.com/bootstrap/3.2.0/js/bootstrap.min.js%22%3E%3C/script%3E%0A%20%20%20%20%3Cscript%20src%3D%22https%3A//cdnjs.cloudflare.com/ajax/libs/Leaflet.awesome-markers/2.0.2/leaflet.awesome-markers.js%22%3E%3C/script%3E%0A%20%20%20%20%3Clink%20rel%3D%22stylesheet%22%20href%3D%22https%3A//cdn.jsdelivr.net/npm/leaflet%401.4.0/dist/leaflet.css%22/%3E%0A%20%20%20%20%3Clink%20rel%3D%22stylesheet%22%20href%3D%22https%3A//maxcdn.bootstrapcdn.com/bootstrap/3.2.0/css/bootstrap.min.css%22/%3E%0A%20%20%20%20%3Clink%20rel%3D%22stylesheet%22%20href%3D%22https%3A//maxcdn.bootstrapcdn.com/bootstrap/3.2.0/css/bootstrap-theme.min.css%22/%3E%0A%20%20%20%20%3Clink%20rel%3D%22stylesheet%22%20href%3D%22https%3A//maxcdn.bootstrapcdn.com/font-awesome/4.6.3/css/font-awesome.min.css%22/%3E%0A%20%20%20%20%3Clink%20rel%3D%22stylesheet%22%20href%3D%22https%3A//cdnjs.cloudflare.com/ajax/libs/Leaflet.awesome-markers/2.0.2/leaflet.awesome-markers.css%22/%3E%0A%20%20%20%20%3Clink%20rel%3D%22stylesheet%22%20href%3D%22https%3A//rawcdn.githack.com/python-visualization/folium/master/folium/templates/leaflet.awesome.rotate.css%22/%3E%0A%20%20%20%20%3Cstyle%3Ehtml%2C%20body%20%7Bwidth%3A%20100%25%3Bheight%3A%20100%25%3Bmargin%3A%200%3Bpadding%3A%200%3B%7D%3C/style%3E%0A%20%20%20%20%3Cstyle%3E%23map%20%7Bposition%3Aabsolute%3Btop%3A0%3Bbottom%3A0%3Bright%3A0%3Bleft%3A0%3B%7D%3C/style%3E%0A%20%20%20%20%0A%20%20%20%20%3Cmeta%20name%3D%22viewport%22%20content%3D%22width%3Ddevice-width%2C%0A%20%20%20%20%20%20%20%20initial-scale%3D1.0%2C%20maximum-scale%3D1.0%2C%20user-scalable%3Dno%22%20/%3E%0A%20%20%20%20%3Cstyle%3E%23map_e1918706a83749429627c9525bb1540b%20%7B%0A%20%20%20%20%20%20%20%20position%3A%20relative%3B%0A%20%20%20%20%20%20%20%20width%3A%20100.0%25%3B%0A%20%20%20%20%20%20%20%20height%3A%20100.0%25%3B%0A%20%20%20%20%20%20%20%20left%3A%200.0%25%3B%0A%20%20%20%20%20%20%20%20top%3A%200.0%25%3B%0A%20%20%20%20%20%20%20%20%7D%0A%20%20%20%20%3C/style%3E%0A%3C/head%3E%0A%3Cbody%3E%20%20%20%20%0A%20%20%20%20%0A%20%20%20%20%3Cdiv%20class%3D%22folium-map%22%20id%3D%22map_e1918706a83749429627c9525bb1540b%22%20%3E%3C/div%3E%0A%3C/body%3E%0A%3Cscript%3E%20%20%20%20%0A%20%20%20%20%0A%20%20%20%20%0A%20%20%20%20%20%20%20%20var%20bounds%20%3D%20null%3B%0A%20%20%20%20%0A%0A%20%20%20%20var%20map_e1918706a83749429627c9525bb1540b%20%3D%20L.map%28%0A%20%20%20%20%20%20%20%20%27map_e1918706a83749429627c9525bb1540b%27%2C%20%7B%0A%20%20%20%20%20%20%20%20center%3A%20%5B55.940238%2C%20-3.19464%5D%2C%0A%20%20%20%20%20%20%20%20zoom%3A%2012%2C%0A%20%20%20%20%20%20%20%20maxBounds%3A%20bounds%2C%0A%20%20%20%20%20%20%20%20layers%3A%20%5B%5D%2C%0A%20%20%20%20%20%20%20%20worldCopyJump%3A%20false%2C%0A%20%20%20%20%20%20%20%20crs%3A%20L.CRS.EPSG3857%2C%0A%20%20%20%20%20%20%20%20zoomControl%3A%20true%2C%0A%20%20%20%20%20%20%20%20%7D%29%3B%0A%0A%0A%20%20%20%20%0A%20%20%20%20var%20tile_layer_58142bb4ac804fe582e0169b0b473890%20%3D%20L.tileLayer%28%0A%20%20%20%20%20%20%20%20%27https%3A//%7Bs%7D.tile.openstreetmap.org/%7Bz%7D/%7Bx%7D/%7By%7D.png%27%2C%0A%20%20%20%20%20%20%20%20%7B%0A%20%20%20%20%20%20%20%20%22attribution%22%3A%20null%2C%0A%20%20%20%20%20%20%20%20%22detectRetina%22%3A%20false%2C%0A%20%20%20%20%20%20%20%20%22maxNativeZoom%22%3A%2018%2C%0A%20%20%20%20%20%20%20%20%22maxZoom%22%3A%2018%2C%0A%20%20%20%20%20%20%20%20%22minZoom%22%3A%200%2C%0A%20%20%20%20%20%20%20%20%22noWrap%22%3A%20false%2C%0A%20%20%20%20%20%20%20%20%22opacity%22%3A%201%2C%0A%20%20%20%20%20%20%20%20%22subdomains%22%3A%20%22abc%22%2C%0A%20%20%20%20%20%20%20%20%22tms%22%3A%20false%0A%7D%29.addTo%28map_e1918706a83749429627c9525bb1540b%29%3B%0A%20%20%20%20%0A%20%20%20%20%20%20%20%20var%20marker_bffecd6ef4394bde9ea018fceb4f156a%20%3D%20L.marker%28%0A%20%20%20%20%20%20%20%20%20%20%20%20%5B55.940237631689435%2C%20-3.194640214184801%5D%2C%0A%20%20%20%20%20%20%20%20%20%20%20%20%7B%0A%20%20%20%20%20%20%20%20%20%20%20%20%20%20%20%20icon%3A%20new%20L.Icon.Default%28%29%2C%0A%20%20%20%20%20%20%20%20%20%20%20%20%20%20%20%20%7D%0A%20%20%20%20%20%20%20%20%20%20%20%20%29.addTo%28map_e1918706a83749429627c9525bb1540b%29%3B%0A%20%20%20%20%20%20%20%20%0A%20%20%20%20%0A%20%20%20%20%20%20%20%20var%20marker_779fe72169094107b561cfdeca42b2b5%20%3D%20L.marker%28%0A%20%20%20%20%20%20%20%20%20%20%20%20%5B55.939809466328285%2C%20-3.182738850746431%5D%2C%0A%20%20%20%20%20%20%20%20%20%20%20%20%7B%0A%20%20%20%20%20%20%20%20%20%20%20%20%20%20%20%20icon%3A%20new%20L.Icon.Default%28%29%2C%0A%20%20%20%20%20%20%20%20%20%20%20%20%20%20%20%20%7D%0A%20%20%20%20%20%20%20%20%20%20%20%20%29.addTo%28map_e1918706a83749429627c9525bb1540b%29%3B%0A%20%20%20%20%20%20%20%20%0A%20%20%20%20%0A%20%20%20%20%20%20%20%20var%20marker_f6d813aac5544010b51442f1df47d8b8%20%3D%20L.marker%28%0A%20%20%20%20%20%20%20%20%20%20%20%20%5B55.95198075619354%2C%20-3.191890332557904%5D%2C%0A%20%20%20%20%20%20%20%20%20%20%20%20%7B%0A%20%20%20%20%20%20%20%20%20%20%20%20%20%20%20%20icon%3A%20new%20L.Icon.Default%28%29%2C%0A%20%20%20%20%20%20%20%20%20%20%20%20%20%20%20%20%7D%0A%20%20%20%20%20%20%20%20%20%20%20%20%29.addTo%28map_e1918706a83749429627c9525bb1540b%29%3B%0A%20%20%20%20%20%20%20%20%0A%20%20%20%20%0A%20%20%20%20%20%20%20%20var%20marker_b8dc0883ecb141518e1c2b79e6bdcb4b%20%3D%20L.marker%28%0A%20%20%20%20%20%20%20%20%20%20%20%20%5B55.9438359841253%2C%20-3.1849514084976818%5D%2C%0A%20%20%20%20%20%20%20%20%20%20%20%20%7B%0A%20%20%20%20%20%20%20%20%20%20%20%20%20%20%20%20icon%3A%20new%20L.Icon.Default%28%29%2C%0A%20%20%20%20%20%20%20%20%20%20%20%20%20%20%20%20%7D%0A%20%20%20%20%20%20%20%20%20%20%20%20%29.addTo%28map_e1918706a83749429627c9525bb1540b%29%3B%0A%20%20%20%20%20%20%20%20%0A%20%20%20%20%0A%20%20%20%20%20%20%20%20var%20marker_5ee703c9c424434c8f0bf5047db3aed8%20%3D%20L.marker%28%0A%20%20%20%20%20%20%20%20%20%20%20%20%5B55.95316433242384%2C%20-3.1816823409318435%5D%2C%0A%20%20%20%20%20%20%20%20%20%20%20%20%7B%0A%20%20%20%20%20%20%20%20%20%20%20%20%20%20%20%20icon%3A%20new%20L.Icon.Default%28%29%2C%0A%20%20%20%20%20%20%20%20%20%20%20%20%20%20%20%20%7D%0A%20%20%20%20%20%20%20%20%20%20%20%20%29.addTo%28map_e1918706a83749429627c9525bb1540b%29%3B%0A%20%20%20%20%20%20%20%20%0A%20%20%20%20%0A%20%20%20%20%20%20%20%20var%20marker_4118934c6b05429a9724db9e4fd7bb6b%20%3D%20L.marker%28%0A%20%20%20%20%20%20%20%20%20%20%20%20%5B55.950109330179%2C%20-3.190257770093808%5D%2C%0A%20%20%20%20%20%20%20%20%20%20%20%20%7B%0A%20%20%20%20%20%20%20%20%20%20%20%20%20%20%20%20icon%3A%20new%20L.Icon.Default%28%29%2C%0A%20%20%20%20%20%20%20%20%20%20%20%20%20%20%20%20%7D%0A%20%20%20%20%20%20%20%20%20%20%20%20%29.addTo%28map_e1918706a83749429627c9525bb1540b%29%3B%0A%20%20%20%20%20%20%20%20%0A%20%20%20%20%0A%20%20%20%20%20%20%20%20var%20marker_d88a0bfa5c4942d3b107484dbfdbc94b%20%3D%20L.marker%28%0A%20%20%20%20%20%20%20%20%20%20%20%20%5B55.93796327344498%2C%20-3.185021145932069%5D%2C%0A%20%20%20%20%20%20%20%20%20%20%20%20%7B%0A%20%20%20%20%20%20%20%20%20%20%20%20%20%20%20%20icon%3A%20new%20L.Icon.Default%28%29%2C%0A%20%20%20%20%20%20%20%20%20%20%20%20%20%20%20%20%7D%0A%20%20%20%20%20%20%20%20%20%20%20%20%29.addTo%28map_e1918706a83749429627c9525bb1540b%29%3B%0A%20%20%20%20%20%20%20%20%0A%20%20%20%20%0A%20%20%20%20%20%20%20%20var%20marker_c1e738fa925d465992951bd0a35318ad%20%3D%20L.marker%28%0A%20%20%20%20%20%20%20%20%20%20%20%20%5B55.949797565633276%2C%20-3.1877950320129003%5D%2C%0A%20%20%20%20%20%20%20%20%20%20%20%20%7B%0A%20%20%20%20%20%20%20%20%20%20%20%20%20%20%20%20icon%3A%20new%20L.Icon.Default%28%29%2C%0A%20%20%20%20%20%20%20%20%20%20%20%20%20%20%20%20%7D%0A%20%20%20%20%20%20%20%20%20%20%20%20%29.addTo%28map_e1918706a83749429627c9525bb1540b%29%3B%0A%20%20%20%20%20%20%20%20%0A%20%20%20%20%0A%20%20%20%20%20%20%20%20var%20marker_b5a73f675fa9431cbdc4aded77b0e7c7%20%3D%20L.marker%28%0A%20%20%20%20%20%20%20%20%20%20%20%20%5B55.958565585897226%2C%20-3.2080701822277438%5D%2C%0A%20%20%20%20%20%20%20%20%20%20%20%20%7B%0A%20%20%20%20%20%20%20%20%20%20%20%20%20%20%20%20icon%3A%20new%20L.Icon.Default%28%29%2C%0A%20%20%20%20%20%20%20%20%20%20%20%20%20%20%20%20%7D%0A%20%20%20%20%20%20%20%20%20%20%20%20%29.addTo%28map_e1918706a83749429627c9525bb1540b%29%3B%0A%20%20%20%20%20%20%20%20%0A%20%20%20%20%0A%20%20%20%20%20%20%20%20var%20marker_8f139d8314e146ff9548ed2b62b9ed93%20%3D%20L.marker%28%0A%20%20%20%20%20%20%20%20%20%20%20%20%5B55.94955950619123%2C%20-3.180413257527788%5D%2C%0A%20%20%20%20%20%20%20%20%20%20%20%20%7B%0A%20%20%20%20%20%20%20%20%20%20%20%20%20%20%20%20icon%3A%20new%20L.Icon.Default%28%29%2C%0A%20%20%20%20%20%20%20%20%20%20%20%20%20%20%20%20%7D%0A%20%20%20%20%20%20%20%20%20%20%20%20%29.addTo%28map_e1918706a83749429627c9525bb1540b%29%3B%0A%20%20%20%20%20%20%20%20%0A%20%20%20%20%0A%20%20%20%20%20%20%20%20var%20marker_8e991b94650241bc84036729afe26cb0%20%3D%20L.marker%28%0A%20%20%20%20%20%20%20%20%20%20%20%20%5B55.941791296881284%2C%20-3.2224153095965%5D%2C%0A%20%20%20%20%20%20%20%20%20%20%20%20%7B%0A%20%20%20%20%20%20%20%20%20%20%20%20%20%20%20%20icon%3A%20new%20L.Icon.Default%28%29%2C%0A%20%20%20%20%20%20%20%20%20%20%20%20%20%20%20%20%7D%0A%20%20%20%20%20%20%20%20%20%20%20%20%29.addTo%28map_e1918706a83749429627c9525bb1540b%29%3B%0A%20%20%20%20%20%20%20%20%0A%20%20%20%20%0A%20%20%20%20%20%20%20%20var%20marker_f4e27d3ae7da49709c9528a88f76b464%20%3D%20L.marker%28%0A%20%20%20%20%20%20%20%20%20%20%20%20%5B55.965039805077325%2C%20-3.1766864147848537%5D%2C%0A%20%20%20%20%20%20%20%20%20%20%20%20%7B%0A%20%20%20%20%20%20%20%20%20%20%20%20%20%20%20%20icon%3A%20new%20L.Icon.Default%28%29%2C%0A%20%20%20%20%20%20%20%20%20%20%20%20%20%20%20%20%7D%0A%20%20%20%20%20%20%20%20%20%20%20%20%29.addTo%28map_e1918706a83749429627c9525bb1540b%29%3B%0A%20%20%20%20%20%20%20%20%0A%20%20%20%20%0A%20%20%20%20%20%20%20%20var%20marker_a5a586313fc84292baf2adf52099ed32%20%3D%20L.marker%28%0A%20%20%20%20%20%20%20%20%20%20%20%20%5B55.93970989541296%2C%20-3.2205889336679547%5D%2C%0A%20%20%20%20%20%20%20%20%20%20%20%20%7B%0A%20%20%20%20%20%20%20%20%20%20%20%20%20%20%20%20icon%3A%20new%20L.Icon.Default%28%29%2C%0A%20%20%20%20%20%20%20%20%20%20%20%20%20%20%20%20%7D%0A%20%20%20%20%20%20%20%20%20%20%20%20%29.addTo%28map_e1918706a83749429627c9525bb1540b%29%3B%0A%20%20%20%20%20%20%20%20%0A%20%20%20%20%0A%20%20%20%20%20%20%20%20var%20marker_dd6a53913e9a49fca4ea01adb65980a1%20%3D%20L.marker%28%0A%20%20%20%20%20%20%20%20%20%20%20%20%5B55.94335692764551%2C%20-3.2092475016246453%5D%2C%0A%20%20%20%20%20%20%20%20%20%20%20%20%7B%0A%20%20%20%20%20%20%20%20%20%20%20%20%20%20%20%20icon%3A%20new%20L.Icon.Default%28%29%2C%0A%20%20%20%20%20%20%20%20%20%20%20%20%20%20%20%20%7D%0A%20%20%20%20%20%20%20%20%20%20%20%20%29.addTo%28map_e1918706a83749429627c9525bb1540b%29%3B%0A%20%20%20%20%20%20%20%20%0A%20%20%20%20%0A%20%20%20%20%20%20%20%20var%20marker_abf43f3edb57418fa15194b5af819d8e%20%3D%20L.marker%28%0A%20%20%20%20%20%20%20%20%20%20%20%20%5B55.94008064125911%2C%20-3.171746866852459%5D%2C%0A%20%20%20%20%20%20%20%20%20%20%20%20%7B%0A%20%20%20%20%20%20%20%20%20%20%20%20%20%20%20%20icon%3A%20new%20L.Icon.Default%28%29%2C%0A%20%20%20%20%20%20%20%20%20%20%20%20%20%20%20%20%7D%0A%20%20%20%20%20%20%20%20%20%20%20%20%29.addTo%28map_e1918706a83749429627c9525bb1540b%29%3B%0A%20%20%20%20%20%20%20%20%0A%20%20%20%20%0A%20%20%20%20%20%20%20%20var%20marker_2eea835f48e247df8ea14e640703b293%20%3D%20L.marker%28%0A%20%20%20%20%20%20%20%20%20%20%20%20%5B55.94760044619225%2C%20-3.188919736735216%5D%2C%0A%20%20%20%20%20%20%20%20%20%20%20%20%7B%0A%20%20%20%20%20%20%20%20%20%20%20%20%20%20%20%20icon%3A%20new%20L.Icon.Default%28%29%2C%0A%20%20%20%20%20%20%20%20%20%20%20%20%20%20%20%20%7D%0A%20%20%20%20%20%20%20%20%20%20%20%20%29.addTo%28map_e1918706a83749429627c9525bb1540b%29%3B%0A%20%20%20%20%20%20%20%20%0A%20%20%20%20%0A%20%20%20%20%20%20%20%20var%20marker_6d43f14b03aa4b088ad6a8ce1c2bdc4d%20%3D%20L.marker%28%0A%20%20%20%20%20%20%20%20%20%20%20%20%5B55.946766486722396%2C%20-3.2020378290551434%5D%2C%0A%20%20%20%20%20%20%20%20%20%20%20%20%7B%0A%20%20%20%20%20%20%20%20%20%20%20%20%20%20%20%20icon%3A%20new%20L.Icon.Default%28%29%2C%0A%20%20%20%20%20%20%20%20%20%20%20%20%20%20%20%20%7D%0A%20%20%20%20%20%20%20%20%20%20%20%20%29.addTo%28map_e1918706a83749429627c9525bb1540b%29%3B%0A%20%20%20%20%20%20%20%20%0A%20%20%20%20%0A%20%20%20%20%20%20%20%20var%20marker_47475ca93cc044e59d3fd2b91ffa8b35%20%3D%20L.marker%28%0A%20%20%20%20%20%20%20%20%20%20%20%20%5B55.96283984266854%2C%20-3.234135938375289%5D%2C%0A%20%20%20%20%20%20%20%20%20%20%20%20%7B%0A%20%20%20%20%20%20%20%20%20%20%20%20%20%20%20%20icon%3A%20new%20L.Icon.Default%28%29%2C%0A%20%20%20%20%20%20%20%20%20%20%20%20%20%20%20%20%7D%0A%20%20%20%20%20%20%20%20%20%20%20%20%29.addTo%28map_e1918706a83749429627c9525bb1540b%29%3B%0A%20%20%20%20%20%20%20%20%0A%20%20%20%20%0A%20%20%20%20%20%20%20%20var%20marker_0cf70da17c6146d2a355425a4b6942fa%20%3D%20L.marker%28%0A%20%20%20%20%20%20%20%20%20%20%20%20%5B55.990529521430766%2C%20-3.3855966605769083%5D%2C%0A%20%20%20%20%20%20%20%20%20%20%20%20%7B%0A%20%20%20%20%20%20%20%20%20%20%20%20%20%20%20%20icon%3A%20new%20L.Icon.Default%28%29%2C%0A%20%20%20%20%20%20%20%20%20%20%20%20%20%20%20%20%7D%0A%20%20%20%20%20%20%20%20%20%20%20%20%29.addTo%28map_e1918706a83749429627c9525bb1540b%29%3B%0A%20%20%20%20%20%20%20%20%0A%20%20%20%20%0A%20%20%20%20%20%20%20%20var%20marker_738cbfcfa3ab4b67870b1b481cff61e2%20%3D%20L.marker%28%0A%20%20%20%20%20%20%20%20%20%20%20%20%5B55.95150073734976%2C%20-3.2031839065252825%5D%2C%0A%20%20%20%20%20%20%20%20%20%20%20%20%7B%0A%20%20%20%20%20%20%20%20%20%20%20%20%20%20%20%20icon%3A%20new%20L.Icon.Default%28%29%2C%0A%20%20%20%20%20%20%20%20%20%20%20%20%20%20%20%20%7D%0A%20%20%20%20%20%20%20%20%20%20%20%20%29.addTo%28map_e1918706a83749429627c9525bb1540b%29%3B%0A%20%20%20%20%20%20%20%20%0A%20%20%20%20%0A%20%20%20%20%20%20%20%20var%20marker_eb4b47eab3104114a4db420e88ce370e%20%3D%20L.marker%28%0A%20%20%20%20%20%20%20%20%20%20%20%20%5B55.96280408759764%2C%20-3.196283585062929%5D%2C%0A%20%20%20%20%20%20%20%20%20%20%20%20%7B%0A%20%20%20%20%20%20%20%20%20%20%20%20%20%20%20%20icon%3A%20new%20L.Icon.Default%28%29%2C%0A%20%20%20%20%20%20%20%20%20%20%20%20%20%20%20%20%7D%0A%20%20%20%20%20%20%20%20%20%20%20%20%29.addTo%28map_e1918706a83749429627c9525bb1540b%29%3B%0A%20%20%20%20%20%20%20%20%0A%20%20%20%20%0A%20%20%20%20%20%20%20%20var%20marker_b12ade9970e0445cbb0d7e49accd9829%20%3D%20L.marker%28%0A%20%20%20%20%20%20%20%20%20%20%20%20%5B55.947409199207115%2C%20-3.2057654971365537%5D%2C%0A%20%20%20%20%20%20%20%20%20%20%20%20%7B%0A%20%20%20%20%20%20%20%20%20%20%20%20%20%20%20%20icon%3A%20new%20L.Icon.Default%28%29%2C%0A%20%20%20%20%20%20%20%20%20%20%20%20%20%20%20%20%7D%0A%20%20%20%20%20%20%20%20%20%20%20%20%29.addTo%28map_e1918706a83749429627c9525bb1540b%29%3B%0A%20%20%20%20%20%20%20%20%0A%20%20%20%20%0A%20%20%20%20%20%20%20%20var%20marker_d317bdbf30c6449cae011a3cd53872df%20%3D%20L.marker%28%0A%20%20%20%20%20%20%20%20%20%20%20%20%5B55.95524788917224%2C%20-3.1722162800950704%5D%2C%0A%20%20%20%20%20%20%20%20%20%20%20%20%7B%0A%20%20%20%20%20%20%20%20%20%20%20%20%20%20%20%20icon%3A%20new%20L.Icon.Default%28%29%2C%0A%20%20%20%20%20%20%20%20%20%20%20%20%20%20%20%20%7D%0A%20%20%20%20%20%20%20%20%20%20%20%20%29.addTo%28map_e1918706a83749429627c9525bb1540b%29%3B%0A%20%20%20%20%20%20%20%20%0A%20%20%20%20%0A%20%20%20%20%20%20%20%20var%20marker_6416b2d2b61d42758e54a9c503b0ef10%20%3D%20L.marker%28%0A%20%20%20%20%20%20%20%20%20%20%20%20%5B55.944248052468346%2C%20-3.2031045991104747%5D%2C%0A%20%20%20%20%20%20%20%20%20%20%20%20%7B%0A%20%20%20%20%20%20%20%20%20%20%20%20%20%20%20%20icon%3A%20new%20L.Icon.Default%28%29%2C%0A%20%20%20%20%20%20%20%20%20%20%20%20%20%20%20%20%7D%0A%20%20%20%20%20%20%20%20%20%20%20%20%29.addTo%28map_e1918706a83749429627c9525bb1540b%29%3B%0A%20%20%20%20%20%20%20%20%0A%20%20%20%20%0A%20%20%20%20%20%20%20%20var%20marker_e6e7a436928a48acaec36a753c43488a%20%3D%20L.marker%28%0A%20%20%20%20%20%20%20%20%20%20%20%20%5B55.967918070442884%2C%20-3.1735862970647304%5D%2C%0A%20%20%20%20%20%20%20%20%20%20%20%20%7B%0A%20%20%20%20%20%20%20%20%20%20%20%20%20%20%20%20icon%3A%20new%20L.Icon.Default%28%29%2C%0A%20%20%20%20%20%20%20%20%20%20%20%20%20%20%20%20%7D%0A%20%20%20%20%20%20%20%20%20%20%20%20%29.addTo%28map_e1918706a83749429627c9525bb1540b%29%3B%0A%20%20%20%20%20%20%20%20%0A%20%20%20%20%0A%20%20%20%20%20%20%20%20var%20marker_f2f30182329c4a5ca7a29f94083fdfb8%20%3D%20L.marker%28%0A%20%20%20%20%20%20%20%20%20%20%20%20%5B55.957915406923476%2C%20-3.118332042090288%5D%2C%0A%20%20%20%20%20%20%20%20%20%20%20%20%7B%0A%20%20%20%20%20%20%20%20%20%20%20%20%20%20%20%20icon%3A%20new%20L.Icon.Default%28%29%2C%0A%20%20%20%20%20%20%20%20%20%20%20%20%20%20%20%20%7D%0A%20%20%20%20%20%20%20%20%20%20%20%20%29.addTo%28map_e1918706a83749429627c9525bb1540b%29%3B%0A%20%20%20%20%20%20%20%20%0A%20%20%20%20%0A%20%20%20%20%20%20%20%20var%20marker_10d19985d56248a68dc61918d96220ac%20%3D%20L.marker%28%0A%20%20%20%20%20%20%20%20%20%20%20%20%5B55.9371232399911%2C%20-3.206431879393449%5D%2C%0A%20%20%20%20%20%20%20%20%20%20%20%20%7B%0A%20%20%20%20%20%20%20%20%20%20%20%20%20%20%20%20icon%3A%20new%20L.Icon.Default%28%29%2C%0A%20%20%20%20%20%20%20%20%20%20%20%20%20%20%20%20%7D%0A%20%20%20%20%20%20%20%20%20%20%20%20%29.addTo%28map_e1918706a83749429627c9525bb1540b%29%3B%0A%20%20%20%20%20%20%20%20%0A%20%20%20%20%0A%20%20%20%20%20%20%20%20var%20marker_200be675ceb34f84b869158efcda54da%20%3D%20L.marker%28%0A%20%20%20%20%20%20%20%20%20%20%20%20%5B55.95941012836135%2C%20-3.2156613606136943%5D%2C%0A%20%20%20%20%20%20%20%20%20%20%20%20%7B%0A%20%20%20%20%20%20%20%20%20%20%20%20%20%20%20%20icon%3A%20new%20L.Icon.Default%28%29%2C%0A%20%20%20%20%20%20%20%20%20%20%20%20%20%20%20%20%7D%0A%20%20%20%20%20%20%20%20%20%20%20%20%29.addTo%28map_e1918706a83749429627c9525bb1540b%29%3B%0A%20%20%20%20%20%20%20%20%0A%20%20%20%20%0A%20%20%20%20%20%20%20%20var%20marker_7f55dba6c6e9492c88fcc14ac67e0fe5%20%3D%20L.marker%28%0A%20%20%20%20%20%20%20%20%20%20%20%20%5B55.95995414501485%2C%20-3.1871977585476543%5D%2C%0A%20%20%20%20%20%20%20%20%20%20%20%20%7B%0A%20%20%20%20%20%20%20%20%20%20%20%20%20%20%20%20icon%3A%20new%20L.Icon.Default%28%29%2C%0A%20%20%20%20%20%20%20%20%20%20%20%20%20%20%20%20%7D%0A%20%20%20%20%20%20%20%20%20%20%20%20%29.addTo%28map_e1918706a83749429627c9525bb1540b%29%3B%0A%20%20%20%20%20%20%20%20%0A%20%20%20%20%0A%20%20%20%20%20%20%20%20var%20marker_fce51df2afb04850be00923c37f9beb7%20%3D%20L.marker%28%0A%20%20%20%20%20%20%20%20%20%20%20%20%5B55.9212201226133%2C%20-3.1390755550312406%5D%2C%0A%20%20%20%20%20%20%20%20%20%20%20%20%7B%0A%20%20%20%20%20%20%20%20%20%20%20%20%20%20%20%20icon%3A%20new%20L.Icon.Default%28%29%2C%0A%20%20%20%20%20%20%20%20%20%20%20%20%20%20%20%20%7D%0A%20%20%20%20%20%20%20%20%20%20%20%20%29.addTo%28map_e1918706a83749429627c9525bb1540b%29%3B%0A%20%20%20%20%20%20%20%20%0A%20%20%20%20%0A%20%20%20%20%20%20%20%20var%20marker_12389787d8094a3cad2f6e60fb445c24%20%3D%20L.marker%28%0A%20%20%20%20%20%20%20%20%20%20%20%20%5B55.95787194536338%2C%20-3.175888370919665%5D%2C%0A%20%20%20%20%20%20%20%20%20%20%20%20%7B%0A%20%20%20%20%20%20%20%20%20%20%20%20%20%20%20%20icon%3A%20new%20L.Icon.Default%28%29%2C%0A%20%20%20%20%20%20%20%20%20%20%20%20%20%20%20%20%7D%0A%20%20%20%20%20%20%20%20%20%20%20%20%29.addTo%28map_e1918706a83749429627c9525bb1540b%29%3B%0A%20%20%20%20%20%20%20%20%0A%20%20%20%20%0A%20%20%20%20%20%20%20%20var%20marker_6e82ec0fee5e4779a68f38fb7760bdf6%20%3D%20L.marker%28%0A%20%20%20%20%20%20%20%20%20%20%20%20%5B55.95953624971772%2C%20-3.223434402338853%5D%2C%0A%20%20%20%20%20%20%20%20%20%20%20%20%7B%0A%20%20%20%20%20%20%20%20%20%20%20%20%20%20%20%20icon%3A%20new%20L.Icon.Default%28%29%2C%0A%20%20%20%20%20%20%20%20%20%20%20%20%20%20%20%20%7D%0A%20%20%20%20%20%20%20%20%20%20%20%20%29.addTo%28map_e1918706a83749429627c9525bb1540b%29%3B%0A%20%20%20%20%20%20%20%20%0A%20%20%20%20%0A%20%20%20%20%20%20%20%20var%20marker_f7a5537f57b6440a9c394de1582681db%20%3D%20L.marker%28%0A%20%20%20%20%20%20%20%20%20%20%20%20%5B55.960851741063955%2C%20-3.180985762469163%5D%2C%0A%20%20%20%20%20%20%20%20%20%20%20%20%7B%0A%20%20%20%20%20%20%20%20%20%20%20%20%20%20%20%20icon%3A%20new%20L.Icon.Default%28%29%2C%0A%20%20%20%20%20%20%20%20%20%20%20%20%20%20%20%20%7D%0A%20%20%20%20%20%20%20%20%20%20%20%20%29.addTo%28map_e1918706a83749429627c9525bb1540b%29%3B%0A%20%20%20%20%20%20%20%20%0A%20%20%20%20%0A%20%20%20%20%20%20%20%20var%20marker_768d92244b814af3be48c8dbc64e1a2b%20%3D%20L.marker%28%0A%20%20%20%20%20%20%20%20%20%20%20%20%5B55.97761715254634%2C%20-3.174126319457628%5D%2C%0A%20%20%20%20%20%20%20%20%20%20%20%20%7B%0A%20%20%20%20%20%20%20%20%20%20%20%20%20%20%20%20icon%3A%20new%20L.Icon.Default%28%29%2C%0A%20%20%20%20%20%20%20%20%20%20%20%20%20%20%20%20%7D%0A%20%20%20%20%20%20%20%20%20%20%20%20%29.addTo%28map_e1918706a83749429627c9525bb1540b%29%3B%0A%20%20%20%20%20%20%20%20%0A%20%20%20%20%0A%20%20%20%20%20%20%20%20var%20marker_3f9694946df748bc849ac079f71bd618%20%3D%20L.marker%28%0A%20%20%20%20%20%20%20%20%20%20%20%20%5B55.9640310527501%2C%20-3.1851753729504253%5D%2C%0A%20%20%20%20%20%20%20%20%20%20%20%20%7B%0A%20%20%20%20%20%20%20%20%20%20%20%20%20%20%20%20icon%3A%20new%20L.Icon.Default%28%29%2C%0A%20%20%20%20%20%20%20%20%20%20%20%20%20%20%20%20%7D%0A%20%20%20%20%20%20%20%20%20%20%20%20%29.addTo%28map_e1918706a83749429627c9525bb1540b%29%3B%0A%20%20%20%20%20%20%20%20%0A%20%20%20%20%0A%20%20%20%20%20%20%20%20var%20marker_7ecebc59d0a7446fbddc168cbf43f459%20%3D%20L.marker%28%0A%20%20%20%20%20%20%20%20%20%20%20%20%5B55.95159412232485%2C%20-3.2123542850940225%5D%2C%0A%20%20%20%20%20%20%20%20%20%20%20%20%7B%0A%20%20%20%20%20%20%20%20%20%20%20%20%20%20%20%20icon%3A%20new%20L.Icon.Default%28%29%2C%0A%20%20%20%20%20%20%20%20%20%20%20%20%20%20%20%20%7D%0A%20%20%20%20%20%20%20%20%20%20%20%20%29.addTo%28map_e1918706a83749429627c9525bb1540b%29%3B%0A%20%20%20%20%20%20%20%20%0A%20%20%20%20%0A%20%20%20%20%20%20%20%20var%20marker_7a8802253d394bd5839f43d635e33b9e%20%3D%20L.marker%28%0A%20%20%20%20%20%20%20%20%20%20%20%20%5B55.95108946523637%2C%20-3.17572460948655%5D%2C%0A%20%20%20%20%20%20%20%20%20%20%20%20%7B%0A%20%20%20%20%20%20%20%20%20%20%20%20%20%20%20%20icon%3A%20new%20L.Icon.Default%28%29%2C%0A%20%20%20%20%20%20%20%20%20%20%20%20%20%20%20%20%7D%0A%20%20%20%20%20%20%20%20%20%20%20%20%29.addTo%28map_e1918706a83749429627c9525bb1540b%29%3B%0A%20%20%20%20%20%20%20%20%0A%20%20%20%20%0A%20%20%20%20%20%20%20%20var%20marker_f1cc2fb51d1e4b84902f098536a85e06%20%3D%20L.marker%28%0A%20%20%20%20%20%20%20%20%20%20%20%20%5B55.96901164826488%2C%20-3.16739470303429%5D%2C%0A%20%20%20%20%20%20%20%20%20%20%20%20%7B%0A%20%20%20%20%20%20%20%20%20%20%20%20%20%20%20%20icon%3A%20new%20L.Icon.Default%28%29%2C%0A%20%20%20%20%20%20%20%20%20%20%20%20%20%20%20%20%7D%0A%20%20%20%20%20%20%20%20%20%20%20%20%29.addTo%28map_e1918706a83749429627c9525bb1540b%29%3B%0A%20%20%20%20%20%20%20%20%0A%20%20%20%20%0A%20%20%20%20%20%20%20%20var%20marker_750aa9f0449f4cf5a2571a776a40a9ac%20%3D%20L.marker%28%0A%20%20%20%20%20%20%20%20%20%20%20%20%5B55.946642799617116%2C%20-3.1854745859388918%5D%2C%0A%20%20%20%20%20%20%20%20%20%20%20%20%7B%0A%20%20%20%20%20%20%20%20%20%20%20%20%20%20%20%20icon%3A%20new%20L.Icon.Default%28%29%2C%0A%20%20%20%20%20%20%20%20%20%20%20%20%20%20%20%20%7D%0A%20%20%20%20%20%20%20%20%20%20%20%20%29.addTo%28map_e1918706a83749429627c9525bb1540b%29%3B%0A%20%20%20%20%20%20%20%20%0A%20%20%20%20%0A%20%20%20%20%20%20%20%20var%20marker_012397d7f04c40728750ab548e20a1f2%20%3D%20L.marker%28%0A%20%20%20%20%20%20%20%20%20%20%20%20%5B55.94556945067266%2C%20-3.2181846832795604%5D%2C%0A%20%20%20%20%20%20%20%20%20%20%20%20%7B%0A%20%20%20%20%20%20%20%20%20%20%20%20%20%20%20%20icon%3A%20new%20L.Icon.Default%28%29%2C%0A%20%20%20%20%20%20%20%20%20%20%20%20%20%20%20%20%7D%0A%20%20%20%20%20%20%20%20%20%20%20%20%29.addTo%28map_e1918706a83749429627c9525bb1540b%29%3B%0A%20%20%20%20%20%20%20%20%0A%20%20%20%20%0A%20%20%20%20%20%20%20%20var%20marker_fe8568aabd2e4da4b067a39d3b14382e%20%3D%20L.marker%28%0A%20%20%20%20%20%20%20%20%20%20%20%20%5B55.95490573198223%2C%20-3.192443756949956%5D%2C%0A%20%20%20%20%20%20%20%20%20%20%20%20%7B%0A%20%20%20%20%20%20%20%20%20%20%20%20%20%20%20%20icon%3A%20new%20L.Icon.Default%28%29%2C%0A%20%20%20%20%20%20%20%20%20%20%20%20%20%20%20%20%7D%0A%20%20%20%20%20%20%20%20%20%20%20%20%29.addTo%28map_e1918706a83749429627c9525bb1540b%29%3B%0A%20%20%20%20%20%20%20%20%0A%20%20%20%20%0A%20%20%20%20%20%20%20%20var%20marker_f720485d279643d3940bf5d2cb5ed8fc%20%3D%20L.marker%28%0A%20%20%20%20%20%20%20%20%20%20%20%20%5B55.94388031687606%2C%20-3.0667539162178628%5D%2C%0A%20%20%20%20%20%20%20%20%20%20%20%20%7B%0A%20%20%20%20%20%20%20%20%20%20%20%20%20%20%20%20icon%3A%20new%20L.Icon.Default%28%29%2C%0A%20%20%20%20%20%20%20%20%20%20%20%20%20%20%20%20%7D%0A%20%20%20%20%20%20%20%20%20%20%20%20%29.addTo%28map_e1918706a83749429627c9525bb1540b%29%3B%0A%20%20%20%20%20%20%20%20%0A%20%20%20%20%0A%20%20%20%20%20%20%20%20var%20marker_921edb538b754b97b544981f5defae2e%20%3D%20L.marker%28%0A%20%20%20%20%20%20%20%20%20%20%20%20%5B55.9364319181482%2C%20-3.1941500443142563%5D%2C%0A%20%20%20%20%20%20%20%20%20%20%20%20%7B%0A%20%20%20%20%20%20%20%20%20%20%20%20%20%20%20%20icon%3A%20new%20L.Icon.Default%28%29%2C%0A%20%20%20%20%20%20%20%20%20%20%20%20%20%20%20%20%7D%0A%20%20%20%20%20%20%20%20%20%20%20%20%29.addTo%28map_e1918706a83749429627c9525bb1540b%29%3B%0A%20%20%20%20%20%20%20%20%0A%20%20%20%20%0A%20%20%20%20%20%20%20%20var%20marker_a10e3d687a104b04ae6948f2ec08e1b9%20%3D%20L.marker%28%0A%20%20%20%20%20%20%20%20%20%20%20%20%5B55.989899682326545%2C%20-3.397772901929727%5D%2C%0A%20%20%20%20%20%20%20%20%20%20%20%20%7B%0A%20%20%20%20%20%20%20%20%20%20%20%20%20%20%20%20icon%3A%20new%20L.Icon.Default%28%29%2C%0A%20%20%20%20%20%20%20%20%20%20%20%20%20%20%20%20%7D%0A%20%20%20%20%20%20%20%20%20%20%20%20%29.addTo%28map_e1918706a83749429627c9525bb1540b%29%3B%0A%20%20%20%20%20%20%20%20%0A%20%20%20%20%0A%20%20%20%20%20%20%20%20var%20marker_8baeda18e19e4a70852c1c6f95c6d85b%20%3D%20L.marker%28%0A%20%20%20%20%20%20%20%20%20%20%20%20%5B55.95653524179326%2C%20-3.1862476120746805%5D%2C%0A%20%20%20%20%20%20%20%20%20%20%20%20%7B%0A%20%20%20%20%20%20%20%20%20%20%20%20%20%20%20%20icon%3A%20new%20L.Icon.Default%28%29%2C%0A%20%20%20%20%20%20%20%20%20%20%20%20%20%20%20%20%7D%0A%20%20%20%20%20%20%20%20%20%20%20%20%29.addTo%28map_e1918706a83749429627c9525bb1540b%29%3B%0A%20%20%20%20%20%20%20%20%0A%20%20%20%20%0A%20%20%20%20%20%20%20%20var%20marker_ca1540cea97c4d22ba143f09c6ef4b10%20%3D%20L.marker%28%0A%20%20%20%20%20%20%20%20%20%20%20%20%5B55.97132539148154%2C%20-3.2079635674242586%5D%2C%0A%20%20%20%20%20%20%20%20%20%20%20%20%7B%0A%20%20%20%20%20%20%20%20%20%20%20%20%20%20%20%20icon%3A%20new%20L.Icon.Default%28%29%2C%0A%20%20%20%20%20%20%20%20%20%20%20%20%20%20%20%20%7D%0A%20%20%20%20%20%20%20%20%20%20%20%20%29.addTo%28map_e1918706a83749429627c9525bb1540b%29%3B%0A%20%20%20%20%20%20%20%20%0A%20%20%20%20%0A%20%20%20%20%20%20%20%20var%20marker_74188de2e70149138d6ffd6ef9bb0249%20%3D%20L.marker%28%0A%20%20%20%20%20%20%20%20%20%20%20%20%5B55.931980482636575%2C%20-3.0731046336811687%5D%2C%0A%20%20%20%20%20%20%20%20%20%20%20%20%7B%0A%20%20%20%20%20%20%20%20%20%20%20%20%20%20%20%20icon%3A%20new%20L.Icon.Default%28%29%2C%0A%20%20%20%20%20%20%20%20%20%20%20%20%20%20%20%20%7D%0A%20%20%20%20%20%20%20%20%20%20%20%20%29.addTo%28map_e1918706a83749429627c9525bb1540b%29%3B%0A%20%20%20%20%20%20%20%20%0A%20%20%20%20%0A%20%20%20%20%20%20%20%20var%20marker_958430e11a1c4bafb44a4b05d8f931fc%20%3D%20L.marker%28%0A%20%20%20%20%20%20%20%20%20%20%20%20%5B55.94396074176487%2C%20-3.058306836702485%5D%2C%0A%20%20%20%20%20%20%20%20%20%20%20%20%7B%0A%20%20%20%20%20%20%20%20%20%20%20%20%20%20%20%20icon%3A%20new%20L.Icon.Default%28%29%2C%0A%20%20%20%20%20%20%20%20%20%20%20%20%20%20%20%20%7D%0A%20%20%20%20%20%20%20%20%20%20%20%20%29.addTo%28map_e1918706a83749429627c9525bb1540b%29%3B%0A%20%20%20%20%20%20%20%20%0A%20%20%20%20%0A%20%20%20%20%20%20%20%20var%20marker_b7012cc7a70944d790b1001374de4578%20%3D%20L.marker%28%0A%20%20%20%20%20%20%20%20%20%20%20%20%5B55.945833715992855%2C%20-3.1890530720754664%5D%2C%0A%20%20%20%20%20%20%20%20%20%20%20%20%7B%0A%20%20%20%20%20%20%20%20%20%20%20%20%20%20%20%20icon%3A%20new%20L.Icon.Default%28%29%2C%0A%20%20%20%20%20%20%20%20%20%20%20%20%20%20%20%20%7D%0A%20%20%20%20%20%20%20%20%20%20%20%20%29.addTo%28map_e1918706a83749429627c9525bb1540b%29%3B%0A%20%20%20%20%20%20%20%20%0A%20%20%20%20%0A%20%20%20%20%20%20%20%20var%20marker_695970b8fd5840e0aae1a4fdc9f3a8a8%20%3D%20L.marker%28%0A%20%20%20%20%20%20%20%20%20%20%20%20%5B55.93650603148236%2C%20-3.1801663476151134%5D%2C%0A%20%20%20%20%20%20%20%20%20%20%20%20%7B%0A%20%20%20%20%20%20%20%20%20%20%20%20%20%20%20%20icon%3A%20new%20L.Icon.Default%28%29%2C%0A%20%20%20%20%20%20%20%20%20%20%20%20%20%20%20%20%7D%0A%20%20%20%20%20%20%20%20%20%20%20%20%29.addTo%28map_e1918706a83749429627c9525bb1540b%29%3B%0A%20%20%20%20%20%20%20%20%0A%20%20%20%20%0A%20%20%20%20%20%20%20%20var%20marker_cc53d9fec0a74624b314044ce545590d%20%3D%20L.marker%28%0A%20%20%20%20%20%20%20%20%20%20%20%20%5B55.95233546161639%2C%20-3.2071011721072864%5D%2C%0A%20%20%20%20%20%20%20%20%20%20%20%20%7B%0A%20%20%20%20%20%20%20%20%20%20%20%20%20%20%20%20icon%3A%20new%20L.Icon.Default%28%29%2C%0A%20%20%20%20%20%20%20%20%20%20%20%20%20%20%20%20%7D%0A%20%20%20%20%20%20%20%20%20%20%20%20%29.addTo%28map_e1918706a83749429627c9525bb1540b%29%3B%0A%20%20%20%20%20%20%20%20%0A%20%20%20%20%0A%20%20%20%20%20%20%20%20var%20marker_a4dacf5179744743b40c69fe771f8fb9%20%3D%20L.marker%28%0A%20%20%20%20%20%20%20%20%20%20%20%20%5B55.947097278583385%2C%20-3.1972457326126005%5D%2C%0A%20%20%20%20%20%20%20%20%20%20%20%20%7B%0A%20%20%20%20%20%20%20%20%20%20%20%20%20%20%20%20icon%3A%20new%20L.Icon.Default%28%29%2C%0A%20%20%20%20%20%20%20%20%20%20%20%20%20%20%20%20%7D%0A%20%20%20%20%20%20%20%20%20%20%20%20%29.addTo%28map_e1918706a83749429627c9525bb1540b%29%3B%0A%20%20%20%20%20%20%20%20%0A%20%20%20%20%0A%20%20%20%20%20%20%20%20var%20marker_cf1a1e83581f4d47acb5620cb13e8e97%20%3D%20L.marker%28%0A%20%20%20%20%20%20%20%20%20%20%20%20%5B55.94477165233547%2C%20-3.197265856419562%5D%2C%0A%20%20%20%20%20%20%20%20%20%20%20%20%7B%0A%20%20%20%20%20%20%20%20%20%20%20%20%20%20%20%20icon%3A%20new%20L.Icon.Default%28%29%2C%0A%20%20%20%20%20%20%20%20%20%20%20%20%20%20%20%20%7D%0A%20%20%20%20%20%20%20%20%20%20%20%20%29.addTo%28map_e1918706a83749429627c9525bb1540b%29%3B%0A%20%20%20%20%20%20%20%20%0A%20%20%20%20%0A%20%20%20%20%20%20%20%20var%20marker_3a21692a879d45b893dbf55fb8bb109d%20%3D%20L.marker%28%0A%20%20%20%20%20%20%20%20%20%20%20%20%5B55.93900024788878%2C%20-3.1739235543155933%5D%2C%0A%20%20%20%20%20%20%20%20%20%20%20%20%7B%0A%20%20%20%20%20%20%20%20%20%20%20%20%20%20%20%20icon%3A%20new%20L.Icon.Default%28%29%2C%0A%20%20%20%20%20%20%20%20%20%20%20%20%20%20%20%20%7D%0A%20%20%20%20%20%20%20%20%20%20%20%20%29.addTo%28map_e1918706a83749429627c9525bb1540b%29%3B%0A%20%20%20%20%20%20%20%20%0A%20%20%20%20%0A%20%20%20%20%20%20%20%20var%20marker_8e6e4008b37e4318a5998d1ed6c3c0c2%20%3D%20L.marker%28%0A%20%20%20%20%20%20%20%20%20%20%20%20%5B55.94607055533778%2C%20-3.2103963310007657%5D%2C%0A%20%20%20%20%20%20%20%20%20%20%20%20%7B%0A%20%20%20%20%20%20%20%20%20%20%20%20%20%20%20%20icon%3A%20new%20L.Icon.Default%28%29%2C%0A%20%20%20%20%20%20%20%20%20%20%20%20%20%20%20%20%7D%0A%20%20%20%20%20%20%20%20%20%20%20%20%29.addTo%28map_e1918706a83749429627c9525bb1540b%29%3B%0A%20%20%20%20%20%20%20%20%0A%20%20%20%20%0A%20%20%20%20%20%20%20%20var%20marker_468265d61b3e43b2890342171c465494%20%3D%20L.marker%28%0A%20%20%20%20%20%20%20%20%20%20%20%20%5B55.986761326113175%2C%20-3.382426853781425%5D%2C%0A%20%20%20%20%20%20%20%20%20%20%20%20%7B%0A%20%20%20%20%20%20%20%20%20%20%20%20%20%20%20%20icon%3A%20new%20L.Icon.Default%28%29%2C%0A%20%20%20%20%20%20%20%20%20%20%20%20%20%20%20%20%7D%0A%20%20%20%20%20%20%20%20%20%20%20%20%29.addTo%28map_e1918706a83749429627c9525bb1540b%29%3B%0A%20%20%20%20%20%20%20%20%0A%20%20%20%20%0A%20%20%20%20%20%20%20%20var%20marker_686831ca918b48deb1f696c70306a507%20%3D%20L.marker%28%0A%20%20%20%20%20%20%20%20%20%20%20%20%5B55.98003076740317%2C%20-3.3006417888325363%5D%2C%0A%20%20%20%20%20%20%20%20%20%20%20%20%7B%0A%20%20%20%20%20%20%20%20%20%20%20%20%20%20%20%20icon%3A%20new%20L.Icon.Default%28%29%2C%0A%20%20%20%20%20%20%20%20%20%20%20%20%20%20%20%20%7D%0A%20%20%20%20%20%20%20%20%20%20%20%20%29.addTo%28map_e1918706a83749429627c9525bb1540b%29%3B%0A%20%20%20%20%20%20%20%20%0A%20%20%20%20%0A%20%20%20%20%20%20%20%20var%20marker_3a71a01632c84413880a3ac32e45efe0%20%3D%20L.marker%28%0A%20%20%20%20%20%20%20%20%20%20%20%20%5B55.92798534979654%2C%20-3.209749771944871%5D%2C%0A%20%20%20%20%20%20%20%20%20%20%20%20%7B%0A%20%20%20%20%20%20%20%20%20%20%20%20%20%20%20%20icon%3A%20new%20L.Icon.Default%28%29%2C%0A%20%20%20%20%20%20%20%20%20%20%20%20%20%20%20%20%7D%0A%20%20%20%20%20%20%20%20%20%20%20%20%29.addTo%28map_e1918706a83749429627c9525bb1540b%29%3B%0A%20%20%20%20%20%20%20%20%0A%20%20%20%20%0A%20%20%20%20%20%20%20%20var%20marker_6bce26541288465b8f46ffec88525917%20%3D%20L.marker%28%0A%20%20%20%20%20%20%20%20%20%20%20%20%5B55.951734496983434%2C%20-3.1841785354060903%5D%2C%0A%20%20%20%20%20%20%20%20%20%20%20%20%7B%0A%20%20%20%20%20%20%20%20%20%20%20%20%20%20%20%20icon%3A%20new%20L.Icon.Default%28%29%2C%0A%20%20%20%20%20%20%20%20%20%20%20%20%20%20%20%20%7D%0A%20%20%20%20%20%20%20%20%20%20%20%20%29.addTo%28map_e1918706a83749429627c9525bb1540b%29%3B%0A%20%20%20%20%20%20%20%20%0A%20%20%20%20%0A%20%20%20%20%20%20%20%20var%20marker_b1f3136daf984ab1add23e323b417ff9%20%3D%20L.marker%28%0A%20%20%20%20%20%20%20%20%20%20%20%20%5B55.946063966641006%2C%20-3.2230240243595745%5D%2C%0A%20%20%20%20%20%20%20%20%20%20%20%20%7B%0A%20%20%20%20%20%20%20%20%20%20%20%20%20%20%20%20icon%3A%20new%20L.Icon.Default%28%29%2C%0A%20%20%20%20%20%20%20%20%20%20%20%20%20%20%20%20%7D%0A%20%20%20%20%20%20%20%20%20%20%20%20%29.addTo%28map_e1918706a83749429627c9525bb1540b%29%3B%0A%20%20%20%20%20%20%20%20%0A%20%20%20%20%0A%20%20%20%20%20%20%20%20var%20marker_9638a0b2c2ac499bb14d2deb8185457b%20%3D%20L.marker%28%0A%20%20%20%20%20%20%20%20%20%20%20%20%5B55.95727801274065%2C%20-3.2142853873890544%5D%2C%0A%20%20%20%20%20%20%20%20%20%20%20%20%7B%0A%20%20%20%20%20%20%20%20%20%20%20%20%20%20%20%20icon%3A%20new%20L.Icon.Default%28%29%2C%0A%20%20%20%20%20%20%20%20%20%20%20%20%20%20%20%20%7D%0A%20%20%20%20%20%20%20%20%20%20%20%20%29.addTo%28map_e1918706a83749429627c9525bb1540b%29%3B%0A%20%20%20%20%20%20%20%20%0A%20%20%20%20%0A%20%20%20%20%20%20%20%20var%20marker_3d78a8abfb8e479aa9c3b778cbada997%20%3D%20L.marker%28%0A%20%20%20%20%20%20%20%20%20%20%20%20%5B55.92418540667696%2C%20-3.1738308300878084%5D%2C%0A%20%20%20%20%20%20%20%20%20%20%20%20%7B%0A%20%20%20%20%20%20%20%20%20%20%20%20%20%20%20%20icon%3A%20new%20L.Icon.Default%28%29%2C%0A%20%20%20%20%20%20%20%20%20%20%20%20%20%20%20%20%7D%0A%20%20%20%20%20%20%20%20%20%20%20%20%29.addTo%28map_e1918706a83749429627c9525bb1540b%29%3B%0A%20%20%20%20%20%20%20%20%0A%20%20%20%20%0A%20%20%20%20%20%20%20%20var%20marker_d5275cee5f48403398d6b0154b4eb7c5%20%3D%20L.marker%28%0A%20%20%20%20%20%20%20%20%20%20%20%20%5B55.947490592969416%2C%20-3.1811121261019646%5D%2C%0A%20%20%20%20%20%20%20%20%20%20%20%20%7B%0A%20%20%20%20%20%20%20%20%20%20%20%20%20%20%20%20icon%3A%20new%20L.Icon.Default%28%29%2C%0A%20%20%20%20%20%20%20%20%20%20%20%20%20%20%20%20%7D%0A%20%20%20%20%20%20%20%20%20%20%20%20%29.addTo%28map_e1918706a83749429627c9525bb1540b%29%3B%0A%20%20%20%20%20%20%20%20%0A%20%20%20%20%0A%20%20%20%20%20%20%20%20var%20marker_66dbfa7d84dc4954a260db7638e95a35%20%3D%20L.marker%28%0A%20%20%20%20%20%20%20%20%20%20%20%20%5B55.93341635916104%2C%20-3.21239711224257%5D%2C%0A%20%20%20%20%20%20%20%20%20%20%20%20%7B%0A%20%20%20%20%20%20%20%20%20%20%20%20%20%20%20%20icon%3A%20new%20L.Icon.Default%28%29%2C%0A%20%20%20%20%20%20%20%20%20%20%20%20%20%20%20%20%7D%0A%20%20%20%20%20%20%20%20%20%20%20%20%29.addTo%28map_e1918706a83749429627c9525bb1540b%29%3B%0A%20%20%20%20%20%20%20%20%0A%20%20%20%20%0A%20%20%20%20%20%20%20%20var%20marker_9ed927e563324f92af4674070b5e362f%20%3D%20L.marker%28%0A%20%20%20%20%20%20%20%20%20%20%20%20%5B55.93836921723555%2C%20-3.1980326885466184%5D%2C%0A%20%20%20%20%20%20%20%20%20%20%20%20%7B%0A%20%20%20%20%20%20%20%20%20%20%20%20%20%20%20%20icon%3A%20new%20L.Icon.Default%28%29%2C%0A%20%20%20%20%20%20%20%20%20%20%20%20%20%20%20%20%7D%0A%20%20%20%20%20%20%20%20%20%20%20%20%29.addTo%28map_e1918706a83749429627c9525bb1540b%29%3B%0A%20%20%20%20%20%20%20%20%0A%20%20%20%20%0A%20%20%20%20%20%20%20%20var%20marker_2d5efc845f314439895e6d42c1b3d5de%20%3D%20L.marker%28%0A%20%20%20%20%20%20%20%20%20%20%20%20%5B55.95508276879095%2C%20-3.2236342639564555%5D%2C%0A%20%20%20%20%20%20%20%20%20%20%20%20%7B%0A%20%20%20%20%20%20%20%20%20%20%20%20%20%20%20%20icon%3A%20new%20L.Icon.Default%28%29%2C%0A%20%20%20%20%20%20%20%20%20%20%20%20%20%20%20%20%7D%0A%20%20%20%20%20%20%20%20%20%20%20%20%29.addTo%28map_e1918706a83749429627c9525bb1540b%29%3B%0A%20%20%20%20%20%20%20%20%0A%20%20%20%20%0A%20%20%20%20%20%20%20%20var%20marker_9fae0cfcff3e4a69a24f36c6d7eab437%20%3D%20L.marker%28%0A%20%20%20%20%20%20%20%20%20%20%20%20%5B55.96411787988959%2C%20-3.202094747416368%5D%2C%0A%20%20%20%20%20%20%20%20%20%20%20%20%7B%0A%20%20%20%20%20%20%20%20%20%20%20%20%20%20%20%20icon%3A%20new%20L.Icon.Default%28%29%2C%0A%20%20%20%20%20%20%20%20%20%20%20%20%20%20%20%20%7D%0A%20%20%20%20%20%20%20%20%20%20%20%20%29.addTo%28map_e1918706a83749429627c9525bb1540b%29%3B%0A%20%20%20%20%20%20%20%20%0A%20%20%20%20%0A%20%20%20%20%20%20%20%20var%20marker_a7bd65c5871740baa3594596a9cc1448%20%3D%20L.marker%28%0A%20%20%20%20%20%20%20%20%20%20%20%20%5B55.92320215516664%2C%20-3.1716462453634904%5D%2C%0A%20%20%20%20%20%20%20%20%20%20%20%20%7B%0A%20%20%20%20%20%20%20%20%20%20%20%20%20%20%20%20icon%3A%20new%20L.Icon.Default%28%29%2C%0A%20%20%20%20%20%20%20%20%20%20%20%20%20%20%20%20%7D%0A%20%20%20%20%20%20%20%20%20%20%20%20%29.addTo%28map_e1918706a83749429627c9525bb1540b%29%3B%0A%20%20%20%20%20%20%20%20%0A%20%20%20%20%0A%20%20%20%20%20%20%20%20var%20marker_73a2bbd1d6b74fb7b6cb521ad0a6440a%20%3D%20L.marker%28%0A%20%20%20%20%20%20%20%20%20%20%20%20%5B55.908413444598246%2C%20-3.3287835258168874%5D%2C%0A%20%20%20%20%20%20%20%20%20%20%20%20%7B%0A%20%20%20%20%20%20%20%20%20%20%20%20%20%20%20%20icon%3A%20new%20L.Icon.Default%28%29%2C%0A%20%20%20%20%20%20%20%20%20%20%20%20%20%20%20%20%7D%0A%20%20%20%20%20%20%20%20%20%20%20%20%29.addTo%28map_e1918706a83749429627c9525bb1540b%29%3B%0A%20%20%20%20%20%20%20%20%0A%20%20%20%20%0A%20%20%20%20%20%20%20%20var%20marker_893293cede014e7e96b82d15e3c0e5bd%20%3D%20L.marker%28%0A%20%20%20%20%20%20%20%20%20%20%20%20%5B55.94564841884954%2C%20-3.231847150914064%5D%2C%0A%20%20%20%20%20%20%20%20%20%20%20%20%7B%0A%20%20%20%20%20%20%20%20%20%20%20%20%20%20%20%20icon%3A%20new%20L.Icon.Default%28%29%2C%0A%20%20%20%20%20%20%20%20%20%20%20%20%20%20%20%20%7D%0A%20%20%20%20%20%20%20%20%20%20%20%20%29.addTo%28map_e1918706a83749429627c9525bb1540b%29%3B%0A%20%20%20%20%20%20%20%20%0A%20%20%20%20%0A%20%20%20%20%20%20%20%20var%20marker_a6d41092f9c348adb25093b7bb3986ae%20%3D%20L.marker%28%0A%20%20%20%20%20%20%20%20%20%20%20%20%5B55.92758664038103%2C%20-3.2336710530441906%5D%2C%0A%20%20%20%20%20%20%20%20%20%20%20%20%7B%0A%20%20%20%20%20%20%20%20%20%20%20%20%20%20%20%20icon%3A%20new%20L.Icon.Default%28%29%2C%0A%20%20%20%20%20%20%20%20%20%20%20%20%20%20%20%20%7D%0A%20%20%20%20%20%20%20%20%20%20%20%20%29.addTo%28map_e1918706a83749429627c9525bb1540b%29%3B%0A%20%20%20%20%20%20%20%20%0A%20%20%20%20%0A%20%20%20%20%20%20%20%20var%20marker_d76b4135273a416994bacc9d31f4641a%20%3D%20L.marker%28%0A%20%20%20%20%20%20%20%20%20%20%20%20%5B55.94007146917616%2C%20-3.2153358406880836%5D%2C%0A%20%20%20%20%20%20%20%20%20%20%20%20%7B%0A%20%20%20%20%20%20%20%20%20%20%20%20%20%20%20%20icon%3A%20new%20L.Icon.Default%28%29%2C%0A%20%20%20%20%20%20%20%20%20%20%20%20%20%20%20%20%7D%0A%20%20%20%20%20%20%20%20%20%20%20%20%29.addTo%28map_e1918706a83749429627c9525bb1540b%29%3B%0A%20%20%20%20%20%20%20%20%0A%20%20%20%20%0A%20%20%20%20%20%20%20%20var%20marker_9b50e1c8f3f249d68a5d804ec305fd26%20%3D%20L.marker%28%0A%20%20%20%20%20%20%20%20%20%20%20%20%5B55.94478427951007%2C%20-3.1869062454337613%5D%2C%0A%20%20%20%20%20%20%20%20%20%20%20%20%7B%0A%20%20%20%20%20%20%20%20%20%20%20%20%20%20%20%20icon%3A%20new%20L.Icon.Default%28%29%2C%0A%20%20%20%20%20%20%20%20%20%20%20%20%20%20%20%20%7D%0A%20%20%20%20%20%20%20%20%20%20%20%20%29.addTo%28map_e1918706a83749429627c9525bb1540b%29%3B%0A%20%20%20%20%20%20%20%20%0A%20%20%20%20%0A%20%20%20%20%20%20%20%20var%20marker_897b49098257417aa1ca5b5303ecd465%20%3D%20L.marker%28%0A%20%20%20%20%20%20%20%20%20%20%20%20%5B55.93532370964813%2C%20-3.198763443819871%5D%2C%0A%20%20%20%20%20%20%20%20%20%20%20%20%7B%0A%20%20%20%20%20%20%20%20%20%20%20%20%20%20%20%20icon%3A%20new%20L.Icon.Default%28%29%2C%0A%20%20%20%20%20%20%20%20%20%20%20%20%20%20%20%20%7D%0A%20%20%20%20%20%20%20%20%20%20%20%20%29.addTo%28map_e1918706a83749429627c9525bb1540b%29%3B%0A%20%20%20%20%20%20%20%20%0A%20%20%20%20%0A%20%20%20%20%20%20%20%20var%20marker_fdce48a779354bc993991803bdfa4ff5%20%3D%20L.marker%28%0A%20%20%20%20%20%20%20%20%20%20%20%20%5B55.92738267693901%2C%20-3.307442444578868%5D%2C%0A%20%20%20%20%20%20%20%20%20%20%20%20%7B%0A%20%20%20%20%20%20%20%20%20%20%20%20%20%20%20%20icon%3A%20new%20L.Icon.Default%28%29%2C%0A%20%20%20%20%20%20%20%20%20%20%20%20%20%20%20%20%7D%0A%20%20%20%20%20%20%20%20%20%20%20%20%29.addTo%28map_e1918706a83749429627c9525bb1540b%29%3B%0A%20%20%20%20%20%20%20%20%0A%20%20%20%20%0A%20%20%20%20%20%20%20%20var%20marker_cce6801b7cbb49f481ddab1c0f85e0ce%20%3D%20L.marker%28%0A%20%20%20%20%20%20%20%20%20%20%20%20%5B55.942115346192516%2C%20-3.2692867654484417%5D%2C%0A%20%20%20%20%20%20%20%20%20%20%20%20%7B%0A%20%20%20%20%20%20%20%20%20%20%20%20%20%20%20%20icon%3A%20new%20L.Icon.Default%28%29%2C%0A%20%20%20%20%20%20%20%20%20%20%20%20%20%20%20%20%7D%0A%20%20%20%20%20%20%20%20%20%20%20%20%29.addTo%28map_e1918706a83749429627c9525bb1540b%29%3B%0A%20%20%20%20%20%20%20%20%0A%20%20%20%20%0A%20%20%20%20%20%20%20%20var%20marker_aad3d0ad20894909937dd18cf434dbda%20%3D%20L.marker%28%0A%20%20%20%20%20%20%20%20%20%20%20%20%5B55.952641035774384%2C%20-3.187526919462357%5D%2C%0A%20%20%20%20%20%20%20%20%20%20%20%20%7B%0A%20%20%20%20%20%20%20%20%20%20%20%20%20%20%20%20icon%3A%20new%20L.Icon.Default%28%29%2C%0A%20%20%20%20%20%20%20%20%20%20%20%20%20%20%20%20%7D%0A%20%20%20%20%20%20%20%20%20%20%20%20%29.addTo%28map_e1918706a83749429627c9525bb1540b%29%3B%0A%20%20%20%20%20%20%20%20%0A%20%20%20%20%0A%20%20%20%20%20%20%20%20var%20marker_5c3478f547aa46bb80977d32ee61ba73%20%3D%20L.marker%28%0A%20%20%20%20%20%20%20%20%20%20%20%20%5B55.943084063011135%2C%20-3.1883110727223998%5D%2C%0A%20%20%20%20%20%20%20%20%20%20%20%20%7B%0A%20%20%20%20%20%20%20%20%20%20%20%20%20%20%20%20icon%3A%20new%20L.Icon.Default%28%29%2C%0A%20%20%20%20%20%20%20%20%20%20%20%20%20%20%20%20%7D%0A%20%20%20%20%20%20%20%20%20%20%20%20%29.addTo%28map_e1918706a83749429627c9525bb1540b%29%3B%0A%20%20%20%20%20%20%20%20%0A%20%20%20%20%0A%20%20%20%20%20%20%20%20var%20marker_d97f87b176df4ac8af60b66ce0fe231f%20%3D%20L.marker%28%0A%20%20%20%20%20%20%20%20%20%20%20%20%5B55.92347880784664%2C%20-3.1753845849070785%5D%2C%0A%20%20%20%20%20%20%20%20%20%20%20%20%7B%0A%20%20%20%20%20%20%20%20%20%20%20%20%20%20%20%20icon%3A%20new%20L.Icon.Default%28%29%2C%0A%20%20%20%20%20%20%20%20%20%20%20%20%20%20%20%20%7D%0A%20%20%20%20%20%20%20%20%20%20%20%20%29.addTo%28map_e1918706a83749429627c9525bb1540b%29%3B%0A%20%20%20%20%20%20%20%20%0A%20%20%20%20%0A%20%20%20%20%20%20%20%20var%20marker_ee935847ffaf438aa662c5ebb7aeefbb%20%3D%20L.marker%28%0A%20%20%20%20%20%20%20%20%20%20%20%20%5B55.92446420087144%2C%20-3.1787315124754514%5D%2C%0A%20%20%20%20%20%20%20%20%20%20%20%20%7B%0A%20%20%20%20%20%20%20%20%20%20%20%20%20%20%20%20icon%3A%20new%20L.Icon.Default%28%29%2C%0A%20%20%20%20%20%20%20%20%20%20%20%20%20%20%20%20%7D%0A%20%20%20%20%20%20%20%20%20%20%20%20%29.addTo%28map_e1918706a83749429627c9525bb1540b%29%3B%0A%20%20%20%20%20%20%20%20%0A%20%20%20%20%0A%20%20%20%20%20%20%20%20var%20marker_3ba7c671d70c42e6868990b61dbb827a%20%3D%20L.marker%28%0A%20%20%20%20%20%20%20%20%20%20%20%20%5B55.9603797205459%2C%20-3.1954703369027584%5D%2C%0A%20%20%20%20%20%20%20%20%20%20%20%20%7B%0A%20%20%20%20%20%20%20%20%20%20%20%20%20%20%20%20icon%3A%20new%20L.Icon.Default%28%29%2C%0A%20%20%20%20%20%20%20%20%20%20%20%20%20%20%20%20%7D%0A%20%20%20%20%20%20%20%20%20%20%20%20%29.addTo%28map_e1918706a83749429627c9525bb1540b%29%3B%0A%20%20%20%20%20%20%20%20%0A%20%20%20%20%0A%20%20%20%20%20%20%20%20var%20marker_7493c23a4eb84ee3bc81a406da4f79df%20%3D%20L.marker%28%0A%20%20%20%20%20%20%20%20%20%20%20%20%5B55.94485886752089%2C%20-3.182589723460069%5D%2C%0A%20%20%20%20%20%20%20%20%20%20%20%20%7B%0A%20%20%20%20%20%20%20%20%20%20%20%20%20%20%20%20icon%3A%20new%20L.Icon.Default%28%29%2C%0A%20%20%20%20%20%20%20%20%20%20%20%20%20%20%20%20%7D%0A%20%20%20%20%20%20%20%20%20%20%20%20%29.addTo%28map_e1918706a83749429627c9525bb1540b%29%3B%0A%20%20%20%20%20%20%20%20%0A%20%20%20%20%0A%20%20%20%20%20%20%20%20var%20marker_5fc84e4afa5f4c328de471ec11871dae%20%3D%20L.marker%28%0A%20%20%20%20%20%20%20%20%20%20%20%20%5B55.92781815597736%2C%20-3.2133077222032247%5D%2C%0A%20%20%20%20%20%20%20%20%20%20%20%20%7B%0A%20%20%20%20%20%20%20%20%20%20%20%20%20%20%20%20icon%3A%20new%20L.Icon.Default%28%29%2C%0A%20%20%20%20%20%20%20%20%20%20%20%20%20%20%20%20%7D%0A%20%20%20%20%20%20%20%20%20%20%20%20%29.addTo%28map_e1918706a83749429627c9525bb1540b%29%3B%0A%20%20%20%20%20%20%20%20%0A%20%20%20%20%0A%20%20%20%20%20%20%20%20var%20marker_c31e420d78914b64afda5ec126e65204%20%3D%20L.marker%28%0A%20%20%20%20%20%20%20%20%20%20%20%20%5B55.9607624081837%2C%20-3.201278014771333%5D%2C%0A%20%20%20%20%20%20%20%20%20%20%20%20%7B%0A%20%20%20%20%20%20%20%20%20%20%20%20%20%20%20%20icon%3A%20new%20L.Icon.Default%28%29%2C%0A%20%20%20%20%20%20%20%20%20%20%20%20%20%20%20%20%7D%0A%20%20%20%20%20%20%20%20%20%20%20%20%29.addTo%28map_e1918706a83749429627c9525bb1540b%29%3B%0A%20%20%20%20%20%20%20%20%0A%20%20%20%20%0A%20%20%20%20%20%20%20%20var%20marker_a9d8c4795a9e4534ae2d2e7b53c34eee%20%3D%20L.marker%28%0A%20%20%20%20%20%20%20%20%20%20%20%20%5B55.945045875212095%2C%20-3.250881447188249%5D%2C%0A%20%20%20%20%20%20%20%20%20%20%20%20%7B%0A%20%20%20%20%20%20%20%20%20%20%20%20%20%20%20%20icon%3A%20new%20L.Icon.Default%28%29%2C%0A%20%20%20%20%20%20%20%20%20%20%20%20%20%20%20%20%7D%0A%20%20%20%20%20%20%20%20%20%20%20%20%29.addTo%28map_e1918706a83749429627c9525bb1540b%29%3B%0A%20%20%20%20%20%20%20%20%0A%20%20%20%20%0A%20%20%20%20%20%20%20%20var%20marker_7ac5134ab4c04b1da4f3d9cb6aae87f1%20%3D%20L.marker%28%0A%20%20%20%20%20%20%20%20%20%20%20%20%5B55.983766187891035%2C%20-3.4013518016021744%5D%2C%0A%20%20%20%20%20%20%20%20%20%20%20%20%7B%0A%20%20%20%20%20%20%20%20%20%20%20%20%20%20%20%20icon%3A%20new%20L.Icon.Default%28%29%2C%0A%20%20%20%20%20%20%20%20%20%20%20%20%20%20%20%20%7D%0A%20%20%20%20%20%20%20%20%20%20%20%20%29.addTo%28map_e1918706a83749429627c9525bb1540b%29%3B%0A%20%20%20%20%20%20%20%20%0A%20%20%20%20%0A%20%20%20%20%20%20%20%20var%20marker_765f1f11b775425fa0a5d79a546e4e9a%20%3D%20L.marker%28%0A%20%20%20%20%20%20%20%20%20%20%20%20%5B55.990182146207864%2C%20-3.4046039242787174%5D%2C%0A%20%20%20%20%20%20%20%20%20%20%20%20%7B%0A%20%20%20%20%20%20%20%20%20%20%20%20%20%20%20%20icon%3A%20new%20L.Icon.Default%28%29%2C%0A%20%20%20%20%20%20%20%20%20%20%20%20%20%20%20%20%7D%0A%20%20%20%20%20%20%20%20%20%20%20%20%29.addTo%28map_e1918706a83749429627c9525bb1540b%29%3B%0A%20%20%20%20%20%20%20%20%0A%20%20%20%20%0A%20%20%20%20%20%20%20%20var%20marker_43473ee6f33044fd81c3fc68f0682216%20%3D%20L.marker%28%0A%20%20%20%20%20%20%20%20%20%20%20%20%5B55.96944274609889%2C%20-3.3072587984723745%5D%2C%0A%20%20%20%20%20%20%20%20%20%20%20%20%7B%0A%20%20%20%20%20%20%20%20%20%20%20%20%20%20%20%20icon%3A%20new%20L.Icon.Default%28%29%2C%0A%20%20%20%20%20%20%20%20%20%20%20%20%20%20%20%20%7D%0A%20%20%20%20%20%20%20%20%20%20%20%20%29.addTo%28map_e1918706a83749429627c9525bb1540b%29%3B%0A%20%20%20%20%20%20%20%20%0A%20%20%20%20%0A%20%20%20%20%20%20%20%20var%20marker_bd16df8f196b499c9b0b6dd45327b429%20%3D%20L.marker%28%0A%20%20%20%20%20%20%20%20%20%20%20%20%5B55.95197357717703%2C%20-3.2261248046640962%5D%2C%0A%20%20%20%20%20%20%20%20%20%20%20%20%7B%0A%20%20%20%20%20%20%20%20%20%20%20%20%20%20%20%20icon%3A%20new%20L.Icon.Default%28%29%2C%0A%20%20%20%20%20%20%20%20%20%20%20%20%20%20%20%20%7D%0A%20%20%20%20%20%20%20%20%20%20%20%20%29.addTo%28map_e1918706a83749429627c9525bb1540b%29%3B%0A%20%20%20%20%20%20%20%20%0A%20%20%20%20%0A%20%20%20%20%20%20%20%20var%20marker_246d5ed5ade94bb4adceef59cc8ff439%20%3D%20L.marker%28%0A%20%20%20%20%20%20%20%20%20%20%20%20%5B55.94191081116495%2C%20-3.2378003138226177%5D%2C%0A%20%20%20%20%20%20%20%20%20%20%20%20%7B%0A%20%20%20%20%20%20%20%20%20%20%20%20%20%20%20%20icon%3A%20new%20L.Icon.Default%28%29%2C%0A%20%20%20%20%20%20%20%20%20%20%20%20%20%20%20%20%7D%0A%20%20%20%20%20%20%20%20%20%20%20%20%29.addTo%28map_e1918706a83749429627c9525bb1540b%29%3B%0A%20%20%20%20%20%20%20%20%0A%20%20%20%20%0A%20%20%20%20%20%20%20%20var%20marker_c980dd431b064e6c90760cb620eb1b2d%20%3D%20L.marker%28%0A%20%20%20%20%20%20%20%20%20%20%20%20%5B55.9387919459937%2C%20-3.3555562169325133%5D%2C%0A%20%20%20%20%20%20%20%20%20%20%20%20%7B%0A%20%20%20%20%20%20%20%20%20%20%20%20%20%20%20%20icon%3A%20new%20L.Icon.Default%28%29%2C%0A%20%20%20%20%20%20%20%20%20%20%20%20%20%20%20%20%7D%0A%20%20%20%20%20%20%20%20%20%20%20%20%29.addTo%28map_e1918706a83749429627c9525bb1540b%29%3B%0A%20%20%20%20%20%20%20%20%0A%20%20%20%20%0A%20%20%20%20%20%20%20%20var%20marker_124cc1a7a6354cbfb7275e22ecf4a2ca%20%3D%20L.marker%28%0A%20%20%20%20%20%20%20%20%20%20%20%20%5B55.987743170866025%2C%20-3.4037524459994306%5D%2C%0A%20%20%20%20%20%20%20%20%20%20%20%20%7B%0A%20%20%20%20%20%20%20%20%20%20%20%20%20%20%20%20icon%3A%20new%20L.Icon.Default%28%29%2C%0A%20%20%20%20%20%20%20%20%20%20%20%20%20%20%20%20%7D%0A%20%20%20%20%20%20%20%20%20%20%20%20%29.addTo%28map_e1918706a83749429627c9525bb1540b%29%3B%0A%20%20%20%20%20%20%20%20%0A%20%20%20%20%0A%20%20%20%20%20%20%20%20var%20marker_1659a56e1fef4c2696335214aa7ec599%20%3D%20L.marker%28%0A%20%20%20%20%20%20%20%20%20%20%20%20%5B55.9088228790413%2C%20-3.320113285176247%5D%2C%0A%20%20%20%20%20%20%20%20%20%20%20%20%7B%0A%20%20%20%20%20%20%20%20%20%20%20%20%20%20%20%20icon%3A%20new%20L.Icon.Default%28%29%2C%0A%20%20%20%20%20%20%20%20%20%20%20%20%20%20%20%20%7D%0A%20%20%20%20%20%20%20%20%20%20%20%20%29.addTo%28map_e1918706a83749429627c9525bb1540b%29%3B%0A%20%20%20%20%20%20%20%20%0A%20%20%20%20%0A%20%20%20%20%20%20%20%20var%20marker_fcfdd92e19924257b277313ea569e853%20%3D%20L.marker%28%0A%20%20%20%20%20%20%20%20%20%20%20%20%5B55.94406627599551%2C%20-3.0985614794416128%5D%2C%0A%20%20%20%20%20%20%20%20%20%20%20%20%7B%0A%20%20%20%20%20%20%20%20%20%20%20%20%20%20%20%20icon%3A%20new%20L.Icon.Default%28%29%2C%0A%20%20%20%20%20%20%20%20%20%20%20%20%20%20%20%20%7D%0A%20%20%20%20%20%20%20%20%20%20%20%20%29.addTo%28map_e1918706a83749429627c9525bb1540b%29%3B%0A%20%20%20%20%20%20%20%20%0A%20%20%20%20%0A%20%20%20%20%20%20%20%20var%20marker_81f13c861db34b2294f366761bd700ff%20%3D%20L.marker%28%0A%20%20%20%20%20%20%20%20%20%20%20%20%5B55.98260596953824%2C%20-3.381454898058536%5D%2C%0A%20%20%20%20%20%20%20%20%20%20%20%20%7B%0A%20%20%20%20%20%20%20%20%20%20%20%20%20%20%20%20icon%3A%20new%20L.Icon.Default%28%29%2C%0A%20%20%20%20%20%20%20%20%20%20%20%20%20%20%20%20%7D%0A%20%20%20%20%20%20%20%20%20%20%20%20%29.addTo%28map_e1918706a83749429627c9525bb1540b%29%3B%0A%20%20%20%20%20%20%20%20%0A%20%20%20%20%0A%20%20%20%20%20%20%20%20var%20marker_dceac5dd97394bd3b12737311e3dc0d6%20%3D%20L.marker%28%0A%20%20%20%20%20%20%20%20%20%20%20%20%5B55.981107259596364%2C%20-3.3942106079612704%5D%2C%0A%20%20%20%20%20%20%20%20%20%20%20%20%7B%0A%20%20%20%20%20%20%20%20%20%20%20%20%20%20%20%20icon%3A%20new%20L.Icon.Default%28%29%2C%0A%20%20%20%20%20%20%20%20%20%20%20%20%20%20%20%20%7D%0A%20%20%20%20%20%20%20%20%20%20%20%20%29.addTo%28map_e1918706a83749429627c9525bb1540b%29%3B%0A%20%20%20%20%20%20%20%20%0A%20%20%20%20%0A%20%20%20%20%20%20%20%20var%20marker_e4ed8cdce1be423fb189cd54bf63cdee%20%3D%20L.marker%28%0A%20%20%20%20%20%20%20%20%20%20%20%20%5B55.992957267668345%2C%20-3.4071562055591187%5D%2C%0A%20%20%20%20%20%20%20%20%20%20%20%20%7B%0A%20%20%20%20%20%20%20%20%20%20%20%20%20%20%20%20icon%3A%20new%20L.Icon.Default%28%29%2C%0A%20%20%20%20%20%20%20%20%20%20%20%20%20%20%20%20%7D%0A%20%20%20%20%20%20%20%20%20%20%20%20%29.addTo%28map_e1918706a83749429627c9525bb1540b%29%3B%0A%20%20%20%20%20%20%20%20%0A%20%20%20%20%0A%20%20%20%20%20%20%20%20var%20marker_9e9580cb129744b4ba8f827f7b5acff6%20%3D%20L.marker%28%0A%20%20%20%20%20%20%20%20%20%20%20%20%5B55.926684277487574%2C%20-3.2894811171216665%5D%2C%0A%20%20%20%20%20%20%20%20%20%20%20%20%7B%0A%20%20%20%20%20%20%20%20%20%20%20%20%20%20%20%20icon%3A%20new%20L.Icon.Default%28%29%2C%0A%20%20%20%20%20%20%20%20%20%20%20%20%20%20%20%20%7D%0A%20%20%20%20%20%20%20%20%20%20%20%20%29.addTo%28map_e1918706a83749429627c9525bb1540b%29%3B%0A%20%20%20%20%20%20%20%20%0A%20%20%20%20%0A%20%20%20%20%20%20%20%20var%20marker_086bf50b1d7d4fee88a0a71ed6454227%20%3D%20L.marker%28%0A%20%20%20%20%20%20%20%20%20%20%20%20%5B55.96517649040763%2C%20-3.1761801702076298%5D%2C%0A%20%20%20%20%20%20%20%20%20%20%20%20%7B%0A%20%20%20%20%20%20%20%20%20%20%20%20%20%20%20%20icon%3A%20new%20L.Icon.Default%28%29%2C%0A%20%20%20%20%20%20%20%20%20%20%20%20%20%20%20%20%7D%0A%20%20%20%20%20%20%20%20%20%20%20%20%29.addTo%28map_e1918706a83749429627c9525bb1540b%29%3B%0A%20%20%20%20%20%20%20%20%0A%20%20%20%20%0A%20%20%20%20%20%20%20%20var%20marker_c0cd4e2050da4fcd80872a6da16a7af1%20%3D%20L.marker%28%0A%20%20%20%20%20%20%20%20%20%20%20%20%5B55.92135417116336%2C%20-3.1369712992544976%5D%2C%0A%20%20%20%20%20%20%20%20%20%20%20%20%7B%0A%20%20%20%20%20%20%20%20%20%20%20%20%20%20%20%20icon%3A%20new%20L.Icon.Default%28%29%2C%0A%20%20%20%20%20%20%20%20%20%20%20%20%20%20%20%20%7D%0A%20%20%20%20%20%20%20%20%20%20%20%20%29.addTo%28map_e1918706a83749429627c9525bb1540b%29%3B%0A%20%20%20%20%20%20%20%20%0A%3C/script%3E onload=\"this.contentDocument.open();this.contentDocument.write(    decodeURIComponent(this.getAttribute('data-html')));this.contentDocument.close();\" allowfullscreen webkitallowfullscreen mozallowfullscreen></iframe></div></div>"
            ],
            "text/plain": [
              "<folium.folium.Map at 0x7fcceafd1110>"
            ]
          },
          "metadata": {
            "tags": []
          },
          "execution_count": 74
        }
      ]
    },
    {
      "cell_type": "code",
      "metadata": {
        "id": "EQ7TwTTk9mZ0"
      },
      "source": [
        ""
      ],
      "execution_count": null,
      "outputs": []
    }
  ]
}