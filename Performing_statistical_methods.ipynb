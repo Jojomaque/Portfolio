{
  "nbformat": 4,
  "nbformat_minor": 0,
  "metadata": {
    "colab": {
      "name": "Performing_statistical_methods.ipynb",
      "provenance": [],
      "include_colab_link": true
    },
    "kernelspec": {
      "name": "python3",
      "display_name": "Python 3"
    },
    "language_info": {
      "name": "python"
    }
  },
  "cells": [
    {
      "cell_type": "markdown",
      "metadata": {
        "id": "view-in-github",
        "colab_type": "text"
      },
      "source": [
        "<a href=\"https://colab.research.google.com/github/Jojomaque/Portfolio/blob/main/Performing_statistical_methods.ipynb\" target=\"_parent\"><img src=\"https://colab.research.google.com/assets/colab-badge.svg\" alt=\"Open In Colab\"/></a>"
      ]
    },
    {
      "cell_type": "code",
      "metadata": {
        "id": "SIkjLhu_IKWs"
      },
      "source": [
        ""
      ],
      "execution_count": null,
      "outputs": []
    },
    {
      "cell_type": "markdown",
      "metadata": {
        "id": "tE9aLt7w1XjL"
      },
      "source": [
        "\n",
        "\n",
        "*   Exercise 1 - Finding measures of central tendency (max, min, mean, median) and standard deviation.\n",
        "*   Exercise 2,3,4 - Performing a linear regression\n",
        "\n",
        "\n",
        "\n",
        "\n"
      ]
    },
    {
      "cell_type": "code",
      "metadata": {
        "id": "hIE8uGK1t50_",
        "colab": {
          "base_uri": "https://localhost:8080/",
          "height": 68
        },
        "outputId": "4088f975-dbbe-4a5a-c9f4-68a7d15ca253"
      },
      "source": [
        "import pandas as pd\n",
        "#read the three sheets into the dataframes county_level_df, state_level_df and income_new_df\n",
        "\n",
        "df1 = pd.read_excel('https://github.com/futureCodersSE/working-with-data/blob/main/Data%20sets/Income-Data.xlsx?raw=true')\n",
        "df2 = pd.read_excel('https://github.com/futureCodersSE/working-with-data/blob/main/Data%20sets/Income-Data.xlsx?raw=true', sheet_name = 'state-level')\n",
        "df3 = pd.read_excel('https://github.com/futureCodersSE/working-with-data/blob/main/Data%20sets/Income-Data.xlsx?raw=true', sheet_name = 'income')\n",
        "\n",
        "display((df1['Income'].max(), df1['Income'].min()))\n",
        "display((df2['Income'].max(), df2['Income'].min()))\n",
        "display((df3['Income'].max(), df3['Income'].min()))\n",
        "\n",
        "\n",
        "\n",
        "def get_income_df(county_level_df, state_level_df, income_new_df):\n",
        "  #clean up the Population column of county_level_df so that it has the name Pop\n",
        "  county_level_df['Pop'] = county_level_df['Population']\n",
        "  county_level_df.drop('Population', axis = 1)\n",
        "\n",
        "  state_level_df['Pop'] = state_level_df['Pop']/1000\n",
        "\n",
        "  combined_df = pd.concat([county_level_df, state_level_df], join='inner', ignore_index=True)\n",
        "  final_df = combined_df.append(income_new_df, ignore_index=True)\n",
        "  return final_df.sort_values(by=['Income'], ascending=False)\n",
        "\n",
        "\n",
        "# answer = get_income_df(df1, df2, df3)\n",
        "# display(answer.shape)\n",
        "# display(answer.head(1))\n",
        "#display(answer.tail(1))\n",
        "\n",
        "# answer\n",
        "#dif answer to test output"
      ],
      "execution_count": null,
      "outputs": [
        {
          "output_type": "display_data",
          "data": {
            "text/plain": [
              "(81, 22)"
            ]
          },
          "metadata": {
            "tags": []
          }
        },
        {
          "output_type": "display_data",
          "data": {
            "text/plain": [
              "(78, 35)"
            ]
          },
          "metadata": {
            "tags": []
          }
        },
        {
          "output_type": "display_data",
          "data": {
            "text/plain": [
              "(78, 35)"
            ]
          },
          "metadata": {
            "tags": []
          }
        }
      ]
    },
    {
      "cell_type": "markdown",
      "metadata": {
        "id": "giXsXFPq14Lm"
      },
      "source": [
        "### Exercise 1 -  Finding measures of central tendency (max, min, mean, median) and standard deviation.\n",
        "            group by state and calculate statistics\n",
        "\n",
        "Run the function get_income_df() and store the result in a new dataframe called **income_df**.\n",
        "\n",
        "Group income_df by State and calculate some statistics on the groups.\n",
        "\n",
        "Add a description, in the cell below, of what the statistics show and why in the text box."
      ]
    },
    {
      "cell_type": "code",
      "metadata": {
        "id": "Ou9dt0MR56S3",
        "colab": {
          "base_uri": "https://localhost:8080/",
          "height": 453
        },
        "outputId": "14814ab8-ce34-4eca-eefa-be6be534c549"
      },
      "source": [
        "income_df = get_income_df(df1, df2, df3)\n",
        "grouped1 = income_df.groupby('State').agg({'Age': ['mean', 'min', 'max']}).reset_index()\n",
        "grouped2 = income_df.groupby('State').agg({'Income': ['mean', 'min', 'max', 'median', 'std']}).reset_index()\n",
        "display(grouped1)\n",
        "display(grouped2)\n",
        "\n",
        "#shows the mean, min and max age in each state.\n",
        "#shows the mean, min and max income in each state.\n",
        "\n",
        "\n",
        "# income_df"
      ],
      "execution_count": null,
      "outputs": [
        {
          "output_type": "display_data",
          "data": {
            "text/html": [
              "<div>\n",
              "<style scoped>\n",
              "    .dataframe tbody tr th:only-of-type {\n",
              "        vertical-align: middle;\n",
              "    }\n",
              "\n",
              "    .dataframe tbody tr th {\n",
              "        vertical-align: top;\n",
              "    }\n",
              "\n",
              "    .dataframe thead tr th {\n",
              "        text-align: left;\n",
              "    }\n",
              "</style>\n",
              "<table border=\"1\" class=\"dataframe\">\n",
              "  <thead>\n",
              "    <tr>\n",
              "      <th></th>\n",
              "      <th>State</th>\n",
              "      <th colspan=\"3\" halign=\"left\">Age</th>\n",
              "    </tr>\n",
              "    <tr>\n",
              "      <th></th>\n",
              "      <th></th>\n",
              "      <th>mean</th>\n",
              "      <th>min</th>\n",
              "      <th>max</th>\n",
              "    </tr>\n",
              "  </thead>\n",
              "  <tbody>\n",
              "    <tr>\n",
              "      <th>0</th>\n",
              "      <td>CA</td>\n",
              "      <td>33.000000</td>\n",
              "      <td>29</td>\n",
              "      <td>35</td>\n",
              "    </tr>\n",
              "    <tr>\n",
              "      <th>1</th>\n",
              "      <td>IN</td>\n",
              "      <td>38.000000</td>\n",
              "      <td>32</td>\n",
              "      <td>41</td>\n",
              "    </tr>\n",
              "    <tr>\n",
              "      <th>2</th>\n",
              "      <td>MD</td>\n",
              "      <td>28.076923</td>\n",
              "      <td>22</td>\n",
              "      <td>41</td>\n",
              "    </tr>\n",
              "    <tr>\n",
              "      <th>3</th>\n",
              "      <td>NY</td>\n",
              "      <td>32.333333</td>\n",
              "      <td>29</td>\n",
              "      <td>34</td>\n",
              "    </tr>\n",
              "    <tr>\n",
              "      <th>4</th>\n",
              "      <td>TX</td>\n",
              "      <td>34.181818</td>\n",
              "      <td>23</td>\n",
              "      <td>42</td>\n",
              "    </tr>\n",
              "  </tbody>\n",
              "</table>\n",
              "</div>"
            ],
            "text/plain": [
              "  State        Age        \n",
              "              mean min max\n",
              "0    CA  33.000000  29  35\n",
              "1    IN  38.000000  32  41\n",
              "2    MD  28.076923  22  41\n",
              "3    NY  32.333333  29  34\n",
              "4    TX  34.181818  23  42"
            ]
          },
          "metadata": {
            "tags": []
          }
        },
        {
          "output_type": "display_data",
          "data": {
            "text/html": [
              "<div>\n",
              "<style scoped>\n",
              "    .dataframe tbody tr th:only-of-type {\n",
              "        vertical-align: middle;\n",
              "    }\n",
              "\n",
              "    .dataframe tbody tr th {\n",
              "        vertical-align: top;\n",
              "    }\n",
              "\n",
              "    .dataframe thead tr th {\n",
              "        text-align: left;\n",
              "    }\n",
              "</style>\n",
              "<table border=\"1\" class=\"dataframe\">\n",
              "  <thead>\n",
              "    <tr>\n",
              "      <th></th>\n",
              "      <th>State</th>\n",
              "      <th colspan=\"5\" halign=\"left\">Income</th>\n",
              "    </tr>\n",
              "    <tr>\n",
              "      <th></th>\n",
              "      <th></th>\n",
              "      <th>mean</th>\n",
              "      <th>min</th>\n",
              "      <th>max</th>\n",
              "      <th>median</th>\n",
              "      <th>std</th>\n",
              "    </tr>\n",
              "  </thead>\n",
              "  <tbody>\n",
              "    <tr>\n",
              "      <th>0</th>\n",
              "      <td>CA</td>\n",
              "      <td>66.333333</td>\n",
              "      <td>54</td>\n",
              "      <td>78</td>\n",
              "      <td>67</td>\n",
              "      <td>12.013881</td>\n",
              "    </tr>\n",
              "    <tr>\n",
              "      <th>1</th>\n",
              "      <td>IN</td>\n",
              "      <td>46.333333</td>\n",
              "      <td>35</td>\n",
              "      <td>69</td>\n",
              "      <td>35</td>\n",
              "      <td>19.629909</td>\n",
              "    </tr>\n",
              "    <tr>\n",
              "      <th>2</th>\n",
              "      <td>MD</td>\n",
              "      <td>64.230769</td>\n",
              "      <td>22</td>\n",
              "      <td>81</td>\n",
              "      <td>69</td>\n",
              "      <td>16.931991</td>\n",
              "    </tr>\n",
              "    <tr>\n",
              "      <th>3</th>\n",
              "      <td>NY</td>\n",
              "      <td>74.333333</td>\n",
              "      <td>67</td>\n",
              "      <td>78</td>\n",
              "      <td>78</td>\n",
              "      <td>6.350853</td>\n",
              "    </tr>\n",
              "    <tr>\n",
              "      <th>4</th>\n",
              "      <td>TX</td>\n",
              "      <td>59.454545</td>\n",
              "      <td>45</td>\n",
              "      <td>75</td>\n",
              "      <td>62</td>\n",
              "      <td>9.668129</td>\n",
              "    </tr>\n",
              "  </tbody>\n",
              "</table>\n",
              "</div>"
            ],
            "text/plain": [
              "  State     Income                          \n",
              "              mean min max median        std\n",
              "0    CA  66.333333  54  78     67  12.013881\n",
              "1    IN  46.333333  35  69     35  19.629909\n",
              "2    MD  64.230769  22  81     69  16.931991\n",
              "3    NY  74.333333  67  78     78   6.350853\n",
              "4    TX  59.454545  45  75     62   9.668129"
            ]
          },
          "metadata": {
            "tags": []
          }
        }
      ]
    },
    {
      "cell_type": "markdown",
      "metadata": {
        "id": "PBt8j7CQ558j"
      },
      "source": [
        "The GroupBy function in Python allows me to split the data set into separate groups to analyse a particular subset.\n",
        "The agg() enables me to perform several statistical analysis at the same time.\n",
        "Grouped1 Shows the mean, min and max age in each state and\n",
        "Grouped2 Shows the mean, min and max and median income in each state. From this data analysis we can see that the State of Indiana has the highest mean age and the lowest mean income.\n",
        "\n",
        "I have performed the std() standard deviation on income values per state. \n",
        "The high standard deviation of the Income in Indiana indicates that the data points are spread out over a large range of values and not clustered around the mean."
      ]
    },
    {
      "cell_type": "markdown",
      "metadata": {
        "id": "A60PQ510HHMQ"
      },
      "source": [
        "### Exercise 2 - Performing Linear Regression\n",
        "                Is age closely related to income?\n",
        "---\n",
        "\n",
        "Use linear regression to compare the columns 'Age' and 'Income' in the data set 'Income-Data' at this url:  \n",
        "https://github.com/futureCodersSE/working-with-data/blob/main/Data%20sets/Income-Data.xlsx?raw=true  \n",
        "\n",
        "To do this:\n",
        "*  import the pandas library  \n",
        "\n",
        "\n",
        "*  import the **linregress** function from the library **scipy.stats**  (`from scipy.stats import linregress`)  \n",
        "\n",
        "\n",
        "*  open the Excel file at the url above, using the sheet_name '`county-level`', reading the data into a dataframe called **county_level_df**  \n",
        "\n",
        "\n",
        "*  create a variable called **x** and assign the '`Age`' column of the `county_level_df` dataframe   \n",
        "\n",
        "\n",
        "*  create a variable called **y** and assign the '`Income`' column of the `county_level_df` dataframe   \n",
        "\n",
        "\n",
        "*  create a variable called **regression** and assign the result of running the linregress function with `x`, `y` as its parameters ( `linregress(x,y)` )   \n",
        "\n",
        "\n",
        "*  display the regression  \n",
        "(*Expected output:  LinregressResult(slope=-0.31433084434233205, intercept=72.78388856978748, rvalue=-0.14787411576068246, pvalue=0.5581637648902298, stderr=0.5255739814332189*)  \n",
        "\n",
        "\n",
        "*  display the slope (`regression.slope`)  \n",
        "(*Expected output: -0.31433084434233205 - this indicates that the line plotting Age against Income slopes downward implying that income reduces with age*)  \n",
        "\n",
        "\n",
        "*  display the intercept (`regression.intercept`)  \n",
        "(*Expected output: 72.78388856978748 - this indicates that income level starts at 72.78388856978748 and reduces from there by age*)    \n",
        "\n",
        "\n",
        "*  calculate and display **r_squared** from rvalue (`regression.rvalue`)  \n",
        "(*Expected output:  0.021866754112003717 - this value is used to calculate R squared, the correlation coefficient which indicates how closely the that there is a very weak correlation between Age and Income.  The negative value of rvalue indicates that any correlation is inverse, ie as Age goes up, Income goes down*) "
      ]
    },
    {
      "cell_type": "code",
      "metadata": {
        "id": "B7-yqi8n4Z3s",
        "colab": {
          "base_uri": "https://localhost:8080/",
          "height": 301
        },
        "outputId": "4d8362c2-0485-48d4-d3ae-1f1f947a8e18"
      },
      "source": [
        "import pandas as pd\n",
        "from scipy.stats import linregress\n",
        "import matplotlib.pyplot as plt\n",
        "\n",
        "url=\"https://github.com/futureCodersSE/working-with-data/blob/main/Data%20sets/Income-Data.xlsx?raw=true\"\n",
        "county_level_df = pd.read_excel(url, sheet_name = \"county-level\")\n",
        "county_level_df.head()\n",
        "# complete the lines of code (reference the instructions above)\n",
        "x = county_level_df['Age']\n",
        "y = county_level_df['Income']\n",
        "regression = linregress(x,y)\n",
        "display(regression)\n",
        "# # display the slope\n",
        "regression.slope\n",
        "# # display the intercept\n",
        "regression.intercept\n",
        "# # display the r value\n",
        "regression.rvalue\n",
        "r_squared = regression.rvalue ** 2\n",
        "display(r_squared)\n",
        "#Weak negative correlation\n",
        "\n",
        "\n",
        "plt.scatter(x, y)\n",
        "plt.show()\n",
        "\n"
      ],
      "execution_count": null,
      "outputs": [
        {
          "output_type": "display_data",
          "data": {
            "text/plain": [
              "LinregressResult(slope=-0.31433084434233205, intercept=72.78388856978748, rvalue=-0.14787411576068246, pvalue=0.5581637648902298, stderr=0.5255739814332189)"
            ]
          },
          "metadata": {
            "tags": []
          }
        },
        {
          "output_type": "display_data",
          "data": {
            "text/plain": [
              "0.021866754112003717"
            ]
          },
          "metadata": {
            "tags": []
          }
        },
        {
          "output_type": "display_data",
          "data": {
            "image/png": "[encoded data removed]",
            "text/plain": [
              "<Figure size 432x288 with 1 Axes>"
            ]
          },
          "metadata": {
            "tags": [],
            "needs_background": "light"
          }
        }
      ]
    },
    {
      "cell_type": "code",
      "metadata": {
        "colab": {
          "base_uri": "https://localhost:8080/",
          "height": 265
        },
        "id": "6htOdE6r08Il",
        "outputId": "9b534624-39b1-4111-a08a-83616d592ef6"
      },
      "source": [
        "import pandas as pd\n",
        "from scipy.stats import linregress\n",
        "import matplotlib.pyplot as plt\n",
        "import numpy as np\n",
        "\n",
        "url=\"https://github.com/futureCodersSE/working-with-data/blob/main/Data%20sets/Income-Data.xlsx?raw=true\"\n",
        "county_level_df = pd.read_excel(url, sheet_name = \"county-level\")\n",
        "county_level_df.head()\n",
        "# complete the lines of code (reference the instructions above)\n",
        "x = county_level_df['Age']\n",
        "y = county_level_df['Income']\n",
        "\n",
        "plt.plot(x, y, 'o')\n",
        "\n",
        "\n",
        "\n",
        "m, b = np.polyfit(x, y, 1)\n",
        "\n",
        "\n",
        "\n",
        "plt.plot(x, m*x + b)\n",
        "\n",
        "plt.show()"
      ],
      "execution_count": null,
      "outputs": [
        {
          "output_type": "display_data",
          "data": {
            "image/png": "[encoded data removed]",
            "text/plain": [
              "<Figure size 432x288 with 1 Axes>"
            ]
          },
          "metadata": {
            "tags": [],
            "needs_background": "light"
          }
        }
      ]
    },
    {
      "cell_type": "markdown",
      "metadata": {
        "id": "AXiD7hVyQEe9"
      },
      "source": [
        "Exercise 3 - Performing Linear Regression\n",
        "            Could Population predict Income?  \n",
        "---\n",
        "\n",
        "Repeat the steps in exercise 1 to see if there is a clearer correlation between Population and Income.  \n",
        "\n",
        "Add a statement in the text cell to describe your findings.\n",
        "\n",
        "**Test output**:   \n",
        "0.013558605755058871\n"
      ]
    },
    {
      "cell_type": "code",
      "metadata": {
        "id": "S349ZIiIQSvy",
        "colab": {
          "base_uri": "https://localhost:8080/",
          "height": 337
        },
        "outputId": "4ca5230c-2acd-4197-f3da-76bdf5d30820"
      },
      "source": [
        "import pandas as pd\n",
        "from scipy.stats import linregress\n",
        "import matplotlib.pyplot as plt\n",
        "\n",
        "url=\"https://github.com/futureCodersSE/working-with-data/blob/main/Data%20sets/Income-Data.xlsx?raw=true\"\n",
        "county_level_df = pd.read_excel(url, sheet_name = \"county-level\")\n",
        "county_level_df.head()\n",
        "# complete the lines of code (reference the instructions above)\n",
        "x = county_level_df['Population']\n",
        "y = county_level_df['Income']\n",
        "# regression = linregress(x,y)\n",
        "# display(regression)\n",
        "# # display the slope\n",
        "display(regression.slope)\n",
        "# # display the intercept\n",
        "display(regression.intercept)\n",
        "# # display the r value\n",
        "display(regression.rvalue)\n",
        "rsqu = regression.rvalue **2\n",
        "display(r_sq)\n",
        "plt.scatter(x, y)\n",
        "plt.show()\n",
        "\n",
        "#This is a weak positive correlation"
      ],
      "execution_count": null,
      "outputs": [
        {
          "output_type": "display_data",
          "data": {
            "text/plain": [
              "-0.31433084434233205"
            ]
          },
          "metadata": {
            "tags": []
          }
        },
        {
          "output_type": "display_data",
          "data": {
            "text/plain": [
              "72.78388856978748"
            ]
          },
          "metadata": {
            "tags": []
          }
        },
        {
          "output_type": "display_data",
          "data": {
            "text/plain": [
              "-0.14787411576068246"
            ]
          },
          "metadata": {
            "tags": []
          }
        },
        {
          "output_type": "display_data",
          "data": {
            "text/plain": [
              "0.4507725540176983"
            ]
          },
          "metadata": {
            "tags": []
          }
        },
        {
          "output_type": "display_data",
          "data": {
            "image/png": "[encoded data removed]",
            "text/plain": [
              "<Figure size 432x288 with 1 Axes>"
            ]
          },
          "metadata": {
            "tags": [],
            "needs_background": "light"
          }
        }
      ]
    },
    {
      "cell_type": "markdown",
      "metadata": {
        "id": "Rld6X7fKDCpW"
      },
      "source": [
        "This is a weak positive correlation"
      ]
    },
    {
      "cell_type": "code",
      "metadata": {
        "colab": {
          "base_uri": "https://localhost:8080/",
          "height": 265
        },
        "id": "FGCY1QS336l3",
        "outputId": "738296ce-c289-4f82-f337-4b474bddcb31"
      },
      "source": [
        "import pandas as pd\n",
        "from scipy.stats import linregress\n",
        "import matplotlib.pyplot as plt\n",
        "\n",
        "url=\"https://github.com/futureCodersSE/working-with-data/blob/main/Data%20sets/Income-Data.xlsx?raw=true\"\n",
        "county_level_df = pd.read_excel(url, sheet_name = \"county-level\")\n",
        "county_level_df.head()\n",
        "# complete the lines of code (reference the instructions above)\n",
        "x = county_level_df['Population']\n",
        "y = county_level_df['Income']\n",
        "\n",
        "\n",
        "plt.plot(x, y, 'o')\n",
        "\n",
        "\n",
        "\n",
        "m, b = np.polyfit(x, y, 1)\n",
        "\n",
        "\n",
        "\n",
        "plt.plot(x, m*x + b)\n",
        "\n",
        "plt.show()\n"
      ],
      "execution_count": null,
      "outputs": [
        {
          "output_type": "display_data",
          "data": {
            "image/png": "[encoded data removed]",
            "text/plain": [
              "<Figure size 432x288 with 1 Axes>"
            ]
          },
          "metadata": {
            "tags": [],
            "needs_background": "light"
          }
        }
      ]
    },
    {
      "cell_type": "markdown",
      "metadata": {
        "id": "zZXvmsL2SbA-"
      },
      "source": [
        "### Exercise 4 - Performing Linear Regression\n",
        "              Does Stress predict Wellbeing?\n",
        "---\n",
        "\n",
        "Repeat the steps in Exercises 1 & 2 to see if you can find a statistically significant result.\n",
        "\n",
        "Add a statement in the text cell to describe your findings\n",
        "\n",
        "* Read the dataset: \"https://github.com/lilaceri/Working-with-data-/blob/b157a2feceb7709cf82426932385706d65446270/Data%20Sets%20for%20code%20divisio/Positive_Psychology_2017.csv?raw=true\"\n",
        "\n",
        "* perform linear regression  \n",
        "* look at r_squared and pvalue to get an idea of how predictive and significant these variables are\n",
        "\n",
        "* save slope and intercepts in variables for later \n",
        "\n",
        "Challenge:  \n",
        "Write a function that checks the significance of a regression and displays a message indicating the result.\n",
        "\n",
        "**Test output**:  \n",
        "LinregressResult(slope=-0.6279050248852254, intercept=37.713488379900454, rvalue=-0.6713959740851134, pvalue=6.084540561441803e-07, stderr=0.10694652962765022)  \n",
        "r sqr = 0.4507725540176983  \n",
        "model is significant, p < .05:  6.084540561441803e-07  "
      ]
    },
    {
      "cell_type": "code",
      "metadata": {
        "id": "pbZf_2dITkqX",
        "colab": {
          "base_uri": "https://localhost:8080/",
          "height": 54
        },
        "outputId": "438d1c20-2069-4f19-f7d1-8e22a73733e0"
      },
      "source": [
        "import pandas as pd\n",
        "from scipy.stats import linregress\n",
        "import matplotlib.pyplot as plt\n",
        "import numpy as np\n",
        "\n",
        "url=\"https://github.com/lilaceri/Working-with-data-/blob/b157a2feceb7709cf82426932385706d65446270/Data%20Sets%20for%20code%20divisio/Positive_Psychology_2017.csv?raw=true\"\n",
        "df = pd.read_csv(url)\n",
        "df\n",
        "\n",
        "x = df['Wellbeing']\n",
        "y = df['Stress']\n",
        "\n",
        "regression = linregress(x,y)\n",
        "display(regression)\n",
        "\n",
        "#  display the slope\n",
        "the_slope = regression.slope\n",
        "#  display the intercept\n",
        "the_intercept = regression.intercept\n",
        "#  display the r value\n",
        "the_regression = regression.rvalue # coefficient determination (pearson) . measures the strength of the linear relationship between Stress and Wellbeing.\n",
        "the_regression\n",
        "r_sq = the_regression ** 2\n",
        "r_sq # represents the % variation in the variable Stress that is explained by the independant variable wellbeing"
      ],
      "execution_count": null,
      "outputs": [
        {
          "output_type": "display_data",
          "data": {
            "text/plain": [
              "LinregressResult(slope=-0.7178992620740611, intercept=38.9702526604677, rvalue=-0.6713959740851134, pvalue=6.084540561441803e-07, stderr=0.1222745983201931)"
            ]
          },
          "metadata": {
            "tags": []
          }
        },
        {
          "output_type": "execute_result",
          "data": {
            "text/plain": [
              "0.4507725540176983"
            ]
          },
          "metadata": {
            "tags": []
          },
          "execution_count": 49
        }
      ]
    },
    {
      "cell_type": "code",
      "metadata": {
        "colab": {
          "base_uri": "https://localhost:8080/"
        },
        "id": "PJl1AHbmXfQj",
        "outputId": "3c23fa5b-99fe-4ec0-fe24-9930a1bf1f9e"
      },
      "source": [
        "!pip install pingouin"
      ],
      "execution_count": null,
      "outputs": [
        {
          "output_type": "stream",
          "text": [
            "Collecting pingouin\n",
            "\u001b[?25l  Downloading https://files.pythonhosted.org/packages/5c/40/7736d4fcb8dbb6758a1e9ca51754e60ff4efe5d7c9b5bb6166cff538513d/pingouin-0.3.11.tar.gz (204kB)\n",
            "\r\u001b[K     |█▋                              | 10kB 15.8MB/s eta 0:00:01\r\u001b[K     |███▏                            | 20kB 15.2MB/s eta 0:00:01\r\u001b[K     |████▉                           | 30kB 10.3MB/s eta 0:00:01\r\u001b[K     |██████▍                         | 40kB 8.6MB/s eta 0:00:01\r\u001b[K     |████████                        | 51kB 4.4MB/s eta 0:00:01\r\u001b[K     |█████████▋                      | 61kB 4.5MB/s eta 0:00:01\r\u001b[K     |███████████▏                    | 71kB 5.1MB/s eta 0:00:01\r\u001b[K     |████████████▉                   | 81kB 5.4MB/s eta 0:00:01\r\u001b[K     |██████████████▍                 | 92kB 5.4MB/s eta 0:00:01\r\u001b[K     |████████████████                | 102kB 5.9MB/s eta 0:00:01\r\u001b[K     |█████████████████▋              | 112kB 5.9MB/s eta 0:00:01\r\u001b[K     |███████████████████▎            | 122kB 5.9MB/s eta 0:00:01\r\u001b[K     |████████████████████▉           | 133kB 5.9MB/s eta 0:00:01\r\u001b[K     |██████████████████████▍         | 143kB 5.9MB/s eta 0:00:01\r\u001b[K     |████████████████████████        | 153kB 5.9MB/s eta 0:00:01\r\u001b[K     |█████████████████████████▋      | 163kB 5.9MB/s eta 0:00:01\r\u001b[K     |███████████████████████████▎    | 174kB 5.9MB/s eta 0:00:01\r\u001b[K     |████████████████████████████▉   | 184kB 5.9MB/s eta 0:00:01\r\u001b[K     |██████████████████████████████▌ | 194kB 5.9MB/s eta 0:00:01\r\u001b[K     |████████████████████████████████| 204kB 5.9MB/s \n",
            "\u001b[?25hRequirement already satisfied: numpy>=1.15 in /usr/local/lib/python3.7/dist-packages (from pingouin) (1.19.5)\n",
            "Requirement already satisfied: scipy>=1.3 in /usr/local/lib/python3.7/dist-packages (from pingouin) (1.4.1)\n",
            "Requirement already satisfied: pandas>=0.24 in /usr/local/lib/python3.7/dist-packages (from pingouin) (1.1.5)\n",
            "Requirement already satisfied: matplotlib>=3.0.2 in /usr/local/lib/python3.7/dist-packages (from pingouin) (3.2.2)\n",
            "Requirement already satisfied: seaborn>=0.9.0 in /usr/local/lib/python3.7/dist-packages (from pingouin) (0.11.1)\n",
            "Requirement already satisfied: statsmodels>=0.10.0 in /usr/local/lib/python3.7/dist-packages (from pingouin) (0.10.2)\n",
            "Requirement already satisfied: scikit-learn in /usr/local/lib/python3.7/dist-packages (from pingouin) (0.22.2.post1)\n",
            "Collecting pandas_flavor>=0.1.2\n",
            "  Downloading https://files.pythonhosted.org/packages/9a/57/7fbcff4c0961ed190ac5fcb0bd8194152ee1ee6487edf64fdbae16e2bc4b/pandas_flavor-0.2.0-py2.py3-none-any.whl\n",
            "Collecting outdated\n",
            "  Downloading https://files.pythonhosted.org/packages/fd/f6/95588d496e518355c33b389222c99069b1c6f2c046be64f400072fdc7cda/outdated-0.2.1-py3-none-any.whl\n",
            "Requirement already satisfied: tabulate in /usr/local/lib/python3.7/dist-packages (from pingouin) (0.8.9)\n",
            "Requirement already satisfied: pytz>=2017.2 in /usr/local/lib/python3.7/dist-packages (from pandas>=0.24->pingouin) (2018.9)\n",
            "Requirement already satisfied: python-dateutil>=2.7.3 in /usr/local/lib/python3.7/dist-packages (from pandas>=0.24->pingouin) (2.8.1)\n",
            "Requirement already satisfied: kiwisolver>=1.0.1 in /usr/local/lib/python3.7/dist-packages (from matplotlib>=3.0.2->pingouin) (1.3.1)\n",
            "Requirement already satisfied: pyparsing!=2.0.4,!=2.1.2,!=2.1.6,>=2.0.1 in /usr/local/lib/python3.7/dist-packages (from matplotlib>=3.0.2->pingouin) (2.4.7)\n",
            "Requirement already satisfied: cycler>=0.10 in /usr/local/lib/python3.7/dist-packages (from matplotlib>=3.0.2->pingouin) (0.10.0)\n",
            "Requirement already satisfied: patsy>=0.4.0 in /usr/local/lib/python3.7/dist-packages (from statsmodels>=0.10.0->pingouin) (0.5.1)\n",
            "Requirement already satisfied: joblib>=0.11 in /usr/local/lib/python3.7/dist-packages (from scikit-learn->pingouin) (1.0.1)\n",
            "Requirement already satisfied: xarray in /usr/local/lib/python3.7/dist-packages (from pandas_flavor>=0.1.2->pingouin) (0.18.0)\n",
            "Collecting littleutils\n",
            "  Downloading https://files.pythonhosted.org/packages/4e/b1/bb4e06f010947d67349f863b6a2ad71577f85590180a935f60543f622652/littleutils-0.2.2.tar.gz\n",
            "Requirement already satisfied: requests in /usr/local/lib/python3.7/dist-packages (from outdated->pingouin) (2.23.0)\n",
            "Requirement already satisfied: six>=1.5 in /usr/local/lib/python3.7/dist-packages (from python-dateutil>=2.7.3->pandas>=0.24->pingouin) (1.15.0)\n",
            "Requirement already satisfied: setuptools>=40.4 in /usr/local/lib/python3.7/dist-packages (from xarray->pandas_flavor>=0.1.2->pingouin) (56.1.0)\n",
            "Requirement already satisfied: idna<3,>=2.5 in /usr/local/lib/python3.7/dist-packages (from requests->outdated->pingouin) (2.10)\n",
            "Requirement already satisfied: urllib3!=1.25.0,!=1.25.1,<1.26,>=1.21.1 in /usr/local/lib/python3.7/dist-packages (from requests->outdated->pingouin) (1.24.3)\n",
            "Requirement already satisfied: certifi>=2017.4.17 in /usr/local/lib/python3.7/dist-packages (from requests->outdated->pingouin) (2020.12.5)\n",
            "Requirement already satisfied: chardet<4,>=3.0.2 in /usr/local/lib/python3.7/dist-packages (from requests->outdated->pingouin) (3.0.4)\n",
            "Building wheels for collected packages: pingouin, littleutils\n",
            "  Building wheel for pingouin (setup.py) ... \u001b[?25l\u001b[?25hdone\n",
            "  Created wheel for pingouin: filename=pingouin-0.3.11-cp37-none-any.whl size=203325 sha256=66a20686a9de2e591fe5db79eba75163ccbbbc31b2fae993eb3546991e545f96\n",
            "  Stored in directory: /root/.cache/pip/wheels/79/46/ef/e377eb45c86f278f660d31c4a30e3f733063d28c89462f1aea\n",
            "  Building wheel for littleutils (setup.py) ... \u001b[?25l\u001b[?25hdone\n",
            "  Created wheel for littleutils: filename=littleutils-0.2.2-cp37-none-any.whl size=7051 sha256=dcb1c8b7e78370326a8fc15e5af6979ed1edc5d5b2bc2d637f7910f8d167a0f5\n",
            "  Stored in directory: /root/.cache/pip/wheels/53/16/9f/ac67d15c40243754fd73f620e1b9b6dedc20492ecc19a2bae1\n",
            "Successfully built pingouin littleutils\n",
            "Installing collected packages: pandas-flavor, littleutils, outdated, pingouin\n",
            "Successfully installed littleutils-0.2.2 outdated-0.2.1 pandas-flavor-0.2.0 pingouin-0.3.11\n"
          ],
          "name": "stdout"
        }
      ]
    },
    {
      "cell_type": "code",
      "metadata": {
        "colab": {
          "base_uri": "https://localhost:8080/",
          "height": 78
        },
        "id": "Z3ey7uaXXUJ3",
        "outputId": "dea2c19b-baf5-4cf1-cb14-b5d27afe959d"
      },
      "source": [
        "import pandas as pd\n",
        "import pingouin as pg\n",
        "\n",
        "url=\"https://github.com/lilaceri/Working-with-data-/blob/b157a2feceb7709cf82426932385706d65446270/Data%20Sets%20for%20code%20divisio/Positive_Psychology_2017.csv?raw=true\"\n",
        "df = pd.read_csv(url)\n",
        "df\n",
        "pg.corr(x=df['Stress'], y=df['Wellbeing'])"
      ],
      "execution_count": null,
      "outputs": [
        {
          "output_type": "execute_result",
          "data": {
            "text/html": [
              "<div>\n",
              "<style scoped>\n",
              "    .dataframe tbody tr th:only-of-type {\n",
              "        vertical-align: middle;\n",
              "    }\n",
              "\n",
              "    .dataframe tbody tr th {\n",
              "        vertical-align: top;\n",
              "    }\n",
              "\n",
              "    .dataframe thead th {\n",
              "        text-align: right;\n",
              "    }\n",
              "</style>\n",
              "<table border=\"1\" class=\"dataframe\">\n",
              "  <thead>\n",
              "    <tr style=\"text-align: right;\">\n",
              "      <th></th>\n",
              "      <th>n</th>\n",
              "      <th>r</th>\n",
              "      <th>CI95%</th>\n",
              "      <th>r2</th>\n",
              "      <th>adj_r2</th>\n",
              "      <th>p-val</th>\n",
              "      <th>BF10</th>\n",
              "      <th>power</th>\n",
              "    </tr>\n",
              "  </thead>\n",
              "  <tbody>\n",
              "    <tr>\n",
              "      <th>pearson</th>\n",
              "      <td>44</td>\n",
              "      <td>-0.671396</td>\n",
              "      <td>[-0.81, -0.47]</td>\n",
              "      <td>0.450773</td>\n",
              "      <td>0.423981</td>\n",
              "      <td>6.084541e-07</td>\n",
              "      <td>3.153e+04</td>\n",
              "      <td>0.999507</td>\n",
              "    </tr>\n",
              "  </tbody>\n",
              "</table>\n",
              "</div>"
            ],
            "text/plain": [
              "          n         r           CI95%  ...         p-val       BF10     power\n",
              "pearson  44 -0.671396  [-0.81, -0.47]  ...  6.084541e-07  3.153e+04  0.999507\n",
              "\n",
              "[1 rows x 8 columns]"
            ]
          },
          "metadata": {
            "tags": []
          },
          "execution_count": 52
        }
      ]
    },
    {
      "cell_type": "markdown",
      "metadata": {
        "id": "QECpO4QkYleA"
      },
      "source": [
        "The relationship between Stress and Well being.\n",
        "A strong downhill (negative) linear relationship."
      ]
    }
  ]
}